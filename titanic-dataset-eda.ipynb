{
 "cells": [
  {
   "cell_type": "code",
   "execution_count": 1,
   "id": "16d96f6a",
   "metadata": {
    "execution": {
     "iopub.execute_input": "2022-08-08T18:50:25.225142Z",
     "iopub.status.busy": "2022-08-08T18:50:25.223651Z",
     "iopub.status.idle": "2022-08-08T18:50:26.563927Z",
     "shell.execute_reply": "2022-08-08T18:50:26.562304Z"
    },
    "papermill": {
     "duration": 1.373032,
     "end_time": "2022-08-08T18:50:26.567287",
     "exception": false,
     "start_time": "2022-08-08T18:50:25.194255",
     "status": "completed"
    },
    "tags": []
   },
   "outputs": [],
   "source": [
    "import pandas as pd\n",
    "import numpy as np\n",
    "import matplotlib.pyplot as plt\n",
    "import seaborn as sns"
   ]
  },
  {
   "cell_type": "markdown",
   "id": "581fee9c",
   "metadata": {
    "papermill": {
     "duration": 0.021035,
     "end_time": "2022-08-08T18:50:26.609988",
     "exception": false,
     "start_time": "2022-08-08T18:50:26.588953",
     "status": "completed"
    },
    "tags": []
   },
   "source": [
    "To read data, we use read_csv from pandas. we store it in a variable called df (which means dataframe)"
   ]
  },
  {
   "cell_type": "code",
   "execution_count": 2,
   "id": "1d31e776",
   "metadata": {
    "execution": {
     "iopub.execute_input": "2022-08-08T18:50:26.656374Z",
     "iopub.status.busy": "2022-08-08T18:50:26.655527Z",
     "iopub.status.idle": "2022-08-08T18:50:26.679841Z",
     "shell.execute_reply": "2022-08-08T18:50:26.678185Z"
    },
    "papermill": {
     "duration": 0.050733,
     "end_time": "2022-08-08T18:50:26.682678",
     "exception": false,
     "start_time": "2022-08-08T18:50:26.631945",
     "status": "completed"
    },
    "tags": []
   },
   "outputs": [],
   "source": [
    "df=pd.read_csv(\"../input/titanic/train.csv\")"
   ]
  },
  {
   "cell_type": "markdown",
   "id": "85b1b07b",
   "metadata": {
    "papermill": {
     "duration": 0.024647,
     "end_time": "2022-08-08T18:50:26.729209",
     "exception": false,
     "start_time": "2022-08-08T18:50:26.704562",
     "status": "completed"
    },
    "tags": []
   },
   "source": [
    "head() helps us to display the first 5 observations.\n",
    "\n",
    "We can specify the argument as head(10) to get first 10 observations\n",
    "\n",
    "In the same way, tail() helps us to display the last 5 observations."
   ]
  },
  {
   "cell_type": "code",
   "execution_count": 3,
   "id": "f59bb21d",
   "metadata": {
    "execution": {
     "iopub.execute_input": "2022-08-08T18:50:26.775934Z",
     "iopub.status.busy": "2022-08-08T18:50:26.775061Z",
     "iopub.status.idle": "2022-08-08T18:50:26.801713Z",
     "shell.execute_reply": "2022-08-08T18:50:26.800424Z"
    },
    "papermill": {
     "duration": 0.052398,
     "end_time": "2022-08-08T18:50:26.804608",
     "exception": false,
     "start_time": "2022-08-08T18:50:26.752210",
     "status": "completed"
    },
    "tags": []
   },
   "outputs": [
    {
     "data": {
      "text/html": [
       "<div>\n",
       "<style scoped>\n",
       "    .dataframe tbody tr th:only-of-type {\n",
       "        vertical-align: middle;\n",
       "    }\n",
       "\n",
       "    .dataframe tbody tr th {\n",
       "        vertical-align: top;\n",
       "    }\n",
       "\n",
       "    .dataframe thead th {\n",
       "        text-align: right;\n",
       "    }\n",
       "</style>\n",
       "<table border=\"1\" class=\"dataframe\">\n",
       "  <thead>\n",
       "    <tr style=\"text-align: right;\">\n",
       "      <th></th>\n",
       "      <th>PassengerId</th>\n",
       "      <th>Survived</th>\n",
       "      <th>Pclass</th>\n",
       "      <th>Name</th>\n",
       "      <th>Sex</th>\n",
       "      <th>Age</th>\n",
       "      <th>SibSp</th>\n",
       "      <th>Parch</th>\n",
       "      <th>Ticket</th>\n",
       "      <th>Fare</th>\n",
       "      <th>Cabin</th>\n",
       "      <th>Embarked</th>\n",
       "    </tr>\n",
       "  </thead>\n",
       "  <tbody>\n",
       "    <tr>\n",
       "      <th>0</th>\n",
       "      <td>1</td>\n",
       "      <td>0</td>\n",
       "      <td>3</td>\n",
       "      <td>Braund, Mr. Owen Harris</td>\n",
       "      <td>male</td>\n",
       "      <td>22.0</td>\n",
       "      <td>1</td>\n",
       "      <td>0</td>\n",
       "      <td>A/5 21171</td>\n",
       "      <td>7.2500</td>\n",
       "      <td>NaN</td>\n",
       "      <td>S</td>\n",
       "    </tr>\n",
       "    <tr>\n",
       "      <th>1</th>\n",
       "      <td>2</td>\n",
       "      <td>1</td>\n",
       "      <td>1</td>\n",
       "      <td>Cumings, Mrs. John Bradley (Florence Briggs Th...</td>\n",
       "      <td>female</td>\n",
       "      <td>38.0</td>\n",
       "      <td>1</td>\n",
       "      <td>0</td>\n",
       "      <td>PC 17599</td>\n",
       "      <td>71.2833</td>\n",
       "      <td>C85</td>\n",
       "      <td>C</td>\n",
       "    </tr>\n",
       "    <tr>\n",
       "      <th>2</th>\n",
       "      <td>3</td>\n",
       "      <td>1</td>\n",
       "      <td>3</td>\n",
       "      <td>Heikkinen, Miss. Laina</td>\n",
       "      <td>female</td>\n",
       "      <td>26.0</td>\n",
       "      <td>0</td>\n",
       "      <td>0</td>\n",
       "      <td>STON/O2. 3101282</td>\n",
       "      <td>7.9250</td>\n",
       "      <td>NaN</td>\n",
       "      <td>S</td>\n",
       "    </tr>\n",
       "    <tr>\n",
       "      <th>3</th>\n",
       "      <td>4</td>\n",
       "      <td>1</td>\n",
       "      <td>1</td>\n",
       "      <td>Futrelle, Mrs. Jacques Heath (Lily May Peel)</td>\n",
       "      <td>female</td>\n",
       "      <td>35.0</td>\n",
       "      <td>1</td>\n",
       "      <td>0</td>\n",
       "      <td>113803</td>\n",
       "      <td>53.1000</td>\n",
       "      <td>C123</td>\n",
       "      <td>S</td>\n",
       "    </tr>\n",
       "    <tr>\n",
       "      <th>4</th>\n",
       "      <td>5</td>\n",
       "      <td>0</td>\n",
       "      <td>3</td>\n",
       "      <td>Allen, Mr. William Henry</td>\n",
       "      <td>male</td>\n",
       "      <td>35.0</td>\n",
       "      <td>0</td>\n",
       "      <td>0</td>\n",
       "      <td>373450</td>\n",
       "      <td>8.0500</td>\n",
       "      <td>NaN</td>\n",
       "      <td>S</td>\n",
       "    </tr>\n",
       "  </tbody>\n",
       "</table>\n",
       "</div>"
      ],
      "text/plain": [
       "   PassengerId  Survived  Pclass  \\\n",
       "0            1         0       3   \n",
       "1            2         1       1   \n",
       "2            3         1       3   \n",
       "3            4         1       1   \n",
       "4            5         0       3   \n",
       "\n",
       "                                                Name     Sex   Age  SibSp  \\\n",
       "0                            Braund, Mr. Owen Harris    male  22.0      1   \n",
       "1  Cumings, Mrs. John Bradley (Florence Briggs Th...  female  38.0      1   \n",
       "2                             Heikkinen, Miss. Laina  female  26.0      0   \n",
       "3       Futrelle, Mrs. Jacques Heath (Lily May Peel)  female  35.0      1   \n",
       "4                           Allen, Mr. William Henry    male  35.0      0   \n",
       "\n",
       "   Parch            Ticket     Fare Cabin Embarked  \n",
       "0      0         A/5 21171   7.2500   NaN        S  \n",
       "1      0          PC 17599  71.2833   C85        C  \n",
       "2      0  STON/O2. 3101282   7.9250   NaN        S  \n",
       "3      0            113803  53.1000  C123        S  \n",
       "4      0            373450   8.0500   NaN        S  "
      ]
     },
     "execution_count": 3,
     "metadata": {},
     "output_type": "execute_result"
    }
   ],
   "source": [
    "df.head()"
   ]
  },
  {
   "cell_type": "code",
   "execution_count": 4,
   "id": "ae7fb060",
   "metadata": {
    "execution": {
     "iopub.execute_input": "2022-08-08T18:50:26.851291Z",
     "iopub.status.busy": "2022-08-08T18:50:26.850491Z",
     "iopub.status.idle": "2022-08-08T18:50:26.867562Z",
     "shell.execute_reply": "2022-08-08T18:50:26.866276Z"
    },
    "papermill": {
     "duration": 0.043385,
     "end_time": "2022-08-08T18:50:26.870266",
     "exception": false,
     "start_time": "2022-08-08T18:50:26.826881",
     "status": "completed"
    },
    "tags": []
   },
   "outputs": [
    {
     "data": {
      "text/html": [
       "<div>\n",
       "<style scoped>\n",
       "    .dataframe tbody tr th:only-of-type {\n",
       "        vertical-align: middle;\n",
       "    }\n",
       "\n",
       "    .dataframe tbody tr th {\n",
       "        vertical-align: top;\n",
       "    }\n",
       "\n",
       "    .dataframe thead th {\n",
       "        text-align: right;\n",
       "    }\n",
       "</style>\n",
       "<table border=\"1\" class=\"dataframe\">\n",
       "  <thead>\n",
       "    <tr style=\"text-align: right;\">\n",
       "      <th></th>\n",
       "      <th>PassengerId</th>\n",
       "      <th>Survived</th>\n",
       "      <th>Pclass</th>\n",
       "      <th>Name</th>\n",
       "      <th>Sex</th>\n",
       "      <th>Age</th>\n",
       "      <th>SibSp</th>\n",
       "      <th>Parch</th>\n",
       "      <th>Ticket</th>\n",
       "      <th>Fare</th>\n",
       "      <th>Cabin</th>\n",
       "      <th>Embarked</th>\n",
       "    </tr>\n",
       "  </thead>\n",
       "  <tbody>\n",
       "    <tr>\n",
       "      <th>886</th>\n",
       "      <td>887</td>\n",
       "      <td>0</td>\n",
       "      <td>2</td>\n",
       "      <td>Montvila, Rev. Juozas</td>\n",
       "      <td>male</td>\n",
       "      <td>27.0</td>\n",
       "      <td>0</td>\n",
       "      <td>0</td>\n",
       "      <td>211536</td>\n",
       "      <td>13.00</td>\n",
       "      <td>NaN</td>\n",
       "      <td>S</td>\n",
       "    </tr>\n",
       "    <tr>\n",
       "      <th>887</th>\n",
       "      <td>888</td>\n",
       "      <td>1</td>\n",
       "      <td>1</td>\n",
       "      <td>Graham, Miss. Margaret Edith</td>\n",
       "      <td>female</td>\n",
       "      <td>19.0</td>\n",
       "      <td>0</td>\n",
       "      <td>0</td>\n",
       "      <td>112053</td>\n",
       "      <td>30.00</td>\n",
       "      <td>B42</td>\n",
       "      <td>S</td>\n",
       "    </tr>\n",
       "    <tr>\n",
       "      <th>888</th>\n",
       "      <td>889</td>\n",
       "      <td>0</td>\n",
       "      <td>3</td>\n",
       "      <td>Johnston, Miss. Catherine Helen \"Carrie\"</td>\n",
       "      <td>female</td>\n",
       "      <td>NaN</td>\n",
       "      <td>1</td>\n",
       "      <td>2</td>\n",
       "      <td>W./C. 6607</td>\n",
       "      <td>23.45</td>\n",
       "      <td>NaN</td>\n",
       "      <td>S</td>\n",
       "    </tr>\n",
       "    <tr>\n",
       "      <th>889</th>\n",
       "      <td>890</td>\n",
       "      <td>1</td>\n",
       "      <td>1</td>\n",
       "      <td>Behr, Mr. Karl Howell</td>\n",
       "      <td>male</td>\n",
       "      <td>26.0</td>\n",
       "      <td>0</td>\n",
       "      <td>0</td>\n",
       "      <td>111369</td>\n",
       "      <td>30.00</td>\n",
       "      <td>C148</td>\n",
       "      <td>C</td>\n",
       "    </tr>\n",
       "    <tr>\n",
       "      <th>890</th>\n",
       "      <td>891</td>\n",
       "      <td>0</td>\n",
       "      <td>3</td>\n",
       "      <td>Dooley, Mr. Patrick</td>\n",
       "      <td>male</td>\n",
       "      <td>32.0</td>\n",
       "      <td>0</td>\n",
       "      <td>0</td>\n",
       "      <td>370376</td>\n",
       "      <td>7.75</td>\n",
       "      <td>NaN</td>\n",
       "      <td>Q</td>\n",
       "    </tr>\n",
       "  </tbody>\n",
       "</table>\n",
       "</div>"
      ],
      "text/plain": [
       "     PassengerId  Survived  Pclass                                      Name  \\\n",
       "886          887         0       2                     Montvila, Rev. Juozas   \n",
       "887          888         1       1              Graham, Miss. Margaret Edith   \n",
       "888          889         0       3  Johnston, Miss. Catherine Helen \"Carrie\"   \n",
       "889          890         1       1                     Behr, Mr. Karl Howell   \n",
       "890          891         0       3                       Dooley, Mr. Patrick   \n",
       "\n",
       "        Sex   Age  SibSp  Parch      Ticket   Fare Cabin Embarked  \n",
       "886    male  27.0      0      0      211536  13.00   NaN        S  \n",
       "887  female  19.0      0      0      112053  30.00   B42        S  \n",
       "888  female   NaN      1      2  W./C. 6607  23.45   NaN        S  \n",
       "889    male  26.0      0      0      111369  30.00  C148        C  \n",
       "890    male  32.0      0      0      370376   7.75   NaN        Q  "
      ]
     },
     "execution_count": 4,
     "metadata": {},
     "output_type": "execute_result"
    }
   ],
   "source": [
    "df.tail()"
   ]
  },
  {
   "cell_type": "markdown",
   "id": "07bea8b1",
   "metadata": {
    "papermill": {
     "duration": 0.021575,
     "end_time": "2022-08-08T18:50:26.914253",
     "exception": false,
     "start_time": "2022-08-08T18:50:26.892678",
     "status": "completed"
    },
    "tags": []
   },
   "source": [
    "df.shape gives us the shape of the dataset.\n",
    "\n",
    "It returns a tuple. the first number is the number of rows and the second one is the number of columns in that data"
   ]
  },
  {
   "cell_type": "code",
   "execution_count": 5,
   "id": "6b2a461b",
   "metadata": {
    "execution": {
     "iopub.execute_input": "2022-08-08T18:50:26.962240Z",
     "iopub.status.busy": "2022-08-08T18:50:26.961372Z",
     "iopub.status.idle": "2022-08-08T18:50:26.968772Z",
     "shell.execute_reply": "2022-08-08T18:50:26.967746Z"
    },
    "papermill": {
     "duration": 0.033334,
     "end_time": "2022-08-08T18:50:26.971227",
     "exception": false,
     "start_time": "2022-08-08T18:50:26.937893",
     "status": "completed"
    },
    "tags": []
   },
   "outputs": [
    {
     "data": {
      "text/plain": [
       "(891, 12)"
      ]
     },
     "execution_count": 5,
     "metadata": {},
     "output_type": "execute_result"
    }
   ],
   "source": [
    "df.shape"
   ]
  },
  {
   "cell_type": "markdown",
   "id": "7da7ba50",
   "metadata": {
    "papermill": {
     "duration": 0.021752,
     "end_time": "2022-08-08T18:50:27.014649",
     "exception": false,
     "start_time": "2022-08-08T18:50:26.992897",
     "status": "completed"
    },
    "tags": []
   },
   "source": [
    "This tells us there are 891 rows and 12 columns"
   ]
  },
  {
   "cell_type": "markdown",
   "id": "f7f26716",
   "metadata": {
    "papermill": {
     "duration": 0.021424,
     "end_time": "2022-08-08T18:50:27.057762",
     "exception": false,
     "start_time": "2022-08-08T18:50:27.036338",
     "status": "completed"
    },
    "tags": []
   },
   "source": [
    "We can see that, there's and index given by the dataframe and also passenger ID that starts with 1. so we will probably make the passenger ID the first column"
   ]
  },
  {
   "cell_type": "code",
   "execution_count": 6,
   "id": "c2750661",
   "metadata": {
    "execution": {
     "iopub.execute_input": "2022-08-08T18:50:27.104365Z",
     "iopub.status.busy": "2022-08-08T18:50:27.103552Z",
     "iopub.status.idle": "2022-08-08T18:50:27.116166Z",
     "shell.execute_reply": "2022-08-08T18:50:27.114718Z"
    },
    "papermill": {
     "duration": 0.039309,
     "end_time": "2022-08-08T18:50:27.119367",
     "exception": false,
     "start_time": "2022-08-08T18:50:27.080058",
     "status": "completed"
    },
    "tags": []
   },
   "outputs": [],
   "source": [
    "df=df.set_index(\"PassengerId\")"
   ]
  },
  {
   "cell_type": "markdown",
   "id": "9abbb4c3",
   "metadata": {
    "papermill": {
     "duration": 0.02176,
     "end_time": "2022-08-08T18:50:27.163913",
     "exception": false,
     "start_time": "2022-08-08T18:50:27.142153",
     "status": "completed"
    },
    "tags": []
   },
   "source": [
    "We see that PassengerId has become the index columns of the dataframe."
   ]
  },
  {
   "cell_type": "code",
   "execution_count": 7,
   "id": "ff16b6a4",
   "metadata": {
    "execution": {
     "iopub.execute_input": "2022-08-08T18:50:27.212307Z",
     "iopub.status.busy": "2022-08-08T18:50:27.211422Z",
     "iopub.status.idle": "2022-08-08T18:50:27.229761Z",
     "shell.execute_reply": "2022-08-08T18:50:27.228530Z"
    },
    "papermill": {
     "duration": 0.045443,
     "end_time": "2022-08-08T18:50:27.232367",
     "exception": false,
     "start_time": "2022-08-08T18:50:27.186924",
     "status": "completed"
    },
    "tags": []
   },
   "outputs": [
    {
     "data": {
      "text/html": [
       "<div>\n",
       "<style scoped>\n",
       "    .dataframe tbody tr th:only-of-type {\n",
       "        vertical-align: middle;\n",
       "    }\n",
       "\n",
       "    .dataframe tbody tr th {\n",
       "        vertical-align: top;\n",
       "    }\n",
       "\n",
       "    .dataframe thead th {\n",
       "        text-align: right;\n",
       "    }\n",
       "</style>\n",
       "<table border=\"1\" class=\"dataframe\">\n",
       "  <thead>\n",
       "    <tr style=\"text-align: right;\">\n",
       "      <th></th>\n",
       "      <th>Survived</th>\n",
       "      <th>Pclass</th>\n",
       "      <th>Name</th>\n",
       "      <th>Sex</th>\n",
       "      <th>Age</th>\n",
       "      <th>SibSp</th>\n",
       "      <th>Parch</th>\n",
       "      <th>Ticket</th>\n",
       "      <th>Fare</th>\n",
       "      <th>Cabin</th>\n",
       "      <th>Embarked</th>\n",
       "    </tr>\n",
       "    <tr>\n",
       "      <th>PassengerId</th>\n",
       "      <th></th>\n",
       "      <th></th>\n",
       "      <th></th>\n",
       "      <th></th>\n",
       "      <th></th>\n",
       "      <th></th>\n",
       "      <th></th>\n",
       "      <th></th>\n",
       "      <th></th>\n",
       "      <th></th>\n",
       "      <th></th>\n",
       "    </tr>\n",
       "  </thead>\n",
       "  <tbody>\n",
       "    <tr>\n",
       "      <th>1</th>\n",
       "      <td>0</td>\n",
       "      <td>3</td>\n",
       "      <td>Braund, Mr. Owen Harris</td>\n",
       "      <td>male</td>\n",
       "      <td>22.0</td>\n",
       "      <td>1</td>\n",
       "      <td>0</td>\n",
       "      <td>A/5 21171</td>\n",
       "      <td>7.2500</td>\n",
       "      <td>NaN</td>\n",
       "      <td>S</td>\n",
       "    </tr>\n",
       "    <tr>\n",
       "      <th>2</th>\n",
       "      <td>1</td>\n",
       "      <td>1</td>\n",
       "      <td>Cumings, Mrs. John Bradley (Florence Briggs Th...</td>\n",
       "      <td>female</td>\n",
       "      <td>38.0</td>\n",
       "      <td>1</td>\n",
       "      <td>0</td>\n",
       "      <td>PC 17599</td>\n",
       "      <td>71.2833</td>\n",
       "      <td>C85</td>\n",
       "      <td>C</td>\n",
       "    </tr>\n",
       "    <tr>\n",
       "      <th>3</th>\n",
       "      <td>1</td>\n",
       "      <td>3</td>\n",
       "      <td>Heikkinen, Miss. Laina</td>\n",
       "      <td>female</td>\n",
       "      <td>26.0</td>\n",
       "      <td>0</td>\n",
       "      <td>0</td>\n",
       "      <td>STON/O2. 3101282</td>\n",
       "      <td>7.9250</td>\n",
       "      <td>NaN</td>\n",
       "      <td>S</td>\n",
       "    </tr>\n",
       "    <tr>\n",
       "      <th>4</th>\n",
       "      <td>1</td>\n",
       "      <td>1</td>\n",
       "      <td>Futrelle, Mrs. Jacques Heath (Lily May Peel)</td>\n",
       "      <td>female</td>\n",
       "      <td>35.0</td>\n",
       "      <td>1</td>\n",
       "      <td>0</td>\n",
       "      <td>113803</td>\n",
       "      <td>53.1000</td>\n",
       "      <td>C123</td>\n",
       "      <td>S</td>\n",
       "    </tr>\n",
       "    <tr>\n",
       "      <th>5</th>\n",
       "      <td>0</td>\n",
       "      <td>3</td>\n",
       "      <td>Allen, Mr. William Henry</td>\n",
       "      <td>male</td>\n",
       "      <td>35.0</td>\n",
       "      <td>0</td>\n",
       "      <td>0</td>\n",
       "      <td>373450</td>\n",
       "      <td>8.0500</td>\n",
       "      <td>NaN</td>\n",
       "      <td>S</td>\n",
       "    </tr>\n",
       "  </tbody>\n",
       "</table>\n",
       "</div>"
      ],
      "text/plain": [
       "             Survived  Pclass  \\\n",
       "PassengerId                     \n",
       "1                   0       3   \n",
       "2                   1       1   \n",
       "3                   1       3   \n",
       "4                   1       1   \n",
       "5                   0       3   \n",
       "\n",
       "                                                          Name     Sex   Age  \\\n",
       "PassengerId                                                                    \n",
       "1                                      Braund, Mr. Owen Harris    male  22.0   \n",
       "2            Cumings, Mrs. John Bradley (Florence Briggs Th...  female  38.0   \n",
       "3                                       Heikkinen, Miss. Laina  female  26.0   \n",
       "4                 Futrelle, Mrs. Jacques Heath (Lily May Peel)  female  35.0   \n",
       "5                                     Allen, Mr. William Henry    male  35.0   \n",
       "\n",
       "             SibSp  Parch            Ticket     Fare Cabin Embarked  \n",
       "PassengerId                                                          \n",
       "1                1      0         A/5 21171   7.2500   NaN        S  \n",
       "2                1      0          PC 17599  71.2833   C85        C  \n",
       "3                0      0  STON/O2. 3101282   7.9250   NaN        S  \n",
       "4                1      0            113803  53.1000  C123        S  \n",
       "5                0      0            373450   8.0500   NaN        S  "
      ]
     },
     "execution_count": 7,
     "metadata": {},
     "output_type": "execute_result"
    }
   ],
   "source": [
    "df.head()"
   ]
  },
  {
   "cell_type": "markdown",
   "id": "4dbff4e9",
   "metadata": {
    "papermill": {
     "duration": 0.022547,
     "end_time": "2022-08-08T18:50:27.279099",
     "exception": false,
     "start_time": "2022-08-08T18:50:27.256552",
     "status": "completed"
    },
    "tags": []
   },
   "source": [
    "We first start by understanding our data.\n",
    "\n",
    "- what are the columns in the dataset\n",
    "- how many values are present and if column has null values\n",
    "- we get the descriptive statistics( mean, median, std deviation) of the numerical column of the dataset\n",
    "- what are the datatypes of the column present in the dataset\n",
    "- are there any duplicate values in the columns"
   ]
  },
  {
   "cell_type": "markdown",
   "id": "89dd3110",
   "metadata": {
    "papermill": {
     "duration": 0.021888,
     "end_time": "2022-08-08T18:50:27.323477",
     "exception": false,
     "start_time": "2022-08-08T18:50:27.301589",
     "status": "completed"
    },
    "tags": []
   },
   "source": [
    "info() gives us the information about the\n",
    "\n",
    "- number of columns\n",
    "- names of columns\n",
    "- datatype of the columns\n",
    "- non-null values"
   ]
  },
  {
   "cell_type": "code",
   "execution_count": 8,
   "id": "4afb44c5",
   "metadata": {
    "execution": {
     "iopub.execute_input": "2022-08-08T18:50:27.370639Z",
     "iopub.status.busy": "2022-08-08T18:50:27.369802Z",
     "iopub.status.idle": "2022-08-08T18:50:27.394728Z",
     "shell.execute_reply": "2022-08-08T18:50:27.393415Z"
    },
    "papermill": {
     "duration": 0.051996,
     "end_time": "2022-08-08T18:50:27.398135",
     "exception": false,
     "start_time": "2022-08-08T18:50:27.346139",
     "status": "completed"
    },
    "tags": []
   },
   "outputs": [
    {
     "name": "stdout",
     "output_type": "stream",
     "text": [
      "<class 'pandas.core.frame.DataFrame'>\n",
      "Int64Index: 891 entries, 1 to 891\n",
      "Data columns (total 11 columns):\n",
      " #   Column    Non-Null Count  Dtype  \n",
      "---  ------    --------------  -----  \n",
      " 0   Survived  891 non-null    int64  \n",
      " 1   Pclass    891 non-null    int64  \n",
      " 2   Name      891 non-null    object \n",
      " 3   Sex       891 non-null    object \n",
      " 4   Age       714 non-null    float64\n",
      " 5   SibSp     891 non-null    int64  \n",
      " 6   Parch     891 non-null    int64  \n",
      " 7   Ticket    891 non-null    object \n",
      " 8   Fare      891 non-null    float64\n",
      " 9   Cabin     204 non-null    object \n",
      " 10  Embarked  889 non-null    object \n",
      "dtypes: float64(2), int64(4), object(5)\n",
      "memory usage: 83.5+ KB\n"
     ]
    }
   ],
   "source": [
    "df.info()"
   ]
  },
  {
   "cell_type": "markdown",
   "id": "18da133a",
   "metadata": {
    "papermill": {
     "duration": 0.022691,
     "end_time": "2022-08-08T18:50:27.444512",
     "exception": false,
     "start_time": "2022-08-08T18:50:27.421821",
     "status": "completed"
    },
    "tags": []
   },
   "source": [
    "We see that there are 10 columns. THere are actually 11 columns in total including the PassengerId column we set as index.\n",
    "\n",
    "We have 2 float (float64) variables, 4 integer(int64) variables and 5 Strings (object)\n",
    "\n",
    "We are somewhat able to see that **Age** has a few missing values.\n",
    "\n",
    "We can also see that **cabin** has a LOT of missing values like, 687 null values. \n",
    "(We can drop this column OR we can try to figure out the cabins for othe passenger by checking if there is any relation with Fare)\n",
    "\n",
    "There are also 2 null values in the **embarked** column."
   ]
  },
  {
   "cell_type": "markdown",
   "id": "b007b6cb",
   "metadata": {
    "papermill": {
     "duration": 0.021865,
     "end_time": "2022-08-08T18:50:27.489422",
     "exception": false,
     "start_time": "2022-08-08T18:50:27.467557",
     "status": "completed"
    },
    "tags": []
   },
   "source": [
    "We can get the list of columns in our dataframe by using df.columns"
   ]
  },
  {
   "cell_type": "code",
   "execution_count": 9,
   "id": "c69d93e4",
   "metadata": {
    "execution": {
     "iopub.execute_input": "2022-08-08T18:50:27.537047Z",
     "iopub.status.busy": "2022-08-08T18:50:27.536065Z",
     "iopub.status.idle": "2022-08-08T18:50:27.544144Z",
     "shell.execute_reply": "2022-08-08T18:50:27.542707Z"
    },
    "papermill": {
     "duration": 0.034835,
     "end_time": "2022-08-08T18:50:27.546911",
     "exception": false,
     "start_time": "2022-08-08T18:50:27.512076",
     "status": "completed"
    },
    "tags": []
   },
   "outputs": [
    {
     "data": {
      "text/plain": [
       "['Survived',\n",
       " 'Pclass',\n",
       " 'Name',\n",
       " 'Sex',\n",
       " 'Age',\n",
       " 'SibSp',\n",
       " 'Parch',\n",
       " 'Ticket',\n",
       " 'Fare',\n",
       " 'Cabin',\n",
       " 'Embarked']"
      ]
     },
     "execution_count": 9,
     "metadata": {},
     "output_type": "execute_result"
    }
   ],
   "source": [
    "list(df.columns)"
   ]
  },
  {
   "cell_type": "markdown",
   "id": "59d40a95",
   "metadata": {
    "papermill": {
     "duration": 0.022602,
     "end_time": "2022-08-08T18:50:27.592328",
     "exception": false,
     "start_time": "2022-08-08T18:50:27.569726",
     "status": "completed"
    },
    "tags": []
   },
   "source": [
    "isna() or isnull() for a datframe woulf return the entire dataframe with TRUE FALSE values. TRUE would mean value is NULL and FALSE would mean it is not."
   ]
  },
  {
   "cell_type": "code",
   "execution_count": 10,
   "id": "34ae4985",
   "metadata": {
    "execution": {
     "iopub.execute_input": "2022-08-08T18:50:27.641411Z",
     "iopub.status.busy": "2022-08-08T18:50:27.641014Z",
     "iopub.status.idle": "2022-08-08T18:50:27.669491Z",
     "shell.execute_reply": "2022-08-08T18:50:27.667220Z"
    },
    "papermill": {
     "duration": 0.05732,
     "end_time": "2022-08-08T18:50:27.672838",
     "exception": false,
     "start_time": "2022-08-08T18:50:27.615518",
     "status": "completed"
    },
    "tags": []
   },
   "outputs": [
    {
     "data": {
      "text/html": [
       "<div>\n",
       "<style scoped>\n",
       "    .dataframe tbody tr th:only-of-type {\n",
       "        vertical-align: middle;\n",
       "    }\n",
       "\n",
       "    .dataframe tbody tr th {\n",
       "        vertical-align: top;\n",
       "    }\n",
       "\n",
       "    .dataframe thead th {\n",
       "        text-align: right;\n",
       "    }\n",
       "</style>\n",
       "<table border=\"1\" class=\"dataframe\">\n",
       "  <thead>\n",
       "    <tr style=\"text-align: right;\">\n",
       "      <th></th>\n",
       "      <th>Survived</th>\n",
       "      <th>Pclass</th>\n",
       "      <th>Name</th>\n",
       "      <th>Sex</th>\n",
       "      <th>Age</th>\n",
       "      <th>SibSp</th>\n",
       "      <th>Parch</th>\n",
       "      <th>Ticket</th>\n",
       "      <th>Fare</th>\n",
       "      <th>Cabin</th>\n",
       "      <th>Embarked</th>\n",
       "    </tr>\n",
       "    <tr>\n",
       "      <th>PassengerId</th>\n",
       "      <th></th>\n",
       "      <th></th>\n",
       "      <th></th>\n",
       "      <th></th>\n",
       "      <th></th>\n",
       "      <th></th>\n",
       "      <th></th>\n",
       "      <th></th>\n",
       "      <th></th>\n",
       "      <th></th>\n",
       "      <th></th>\n",
       "    </tr>\n",
       "  </thead>\n",
       "  <tbody>\n",
       "    <tr>\n",
       "      <th>1</th>\n",
       "      <td>False</td>\n",
       "      <td>False</td>\n",
       "      <td>False</td>\n",
       "      <td>False</td>\n",
       "      <td>False</td>\n",
       "      <td>False</td>\n",
       "      <td>False</td>\n",
       "      <td>False</td>\n",
       "      <td>False</td>\n",
       "      <td>True</td>\n",
       "      <td>False</td>\n",
       "    </tr>\n",
       "    <tr>\n",
       "      <th>2</th>\n",
       "      <td>False</td>\n",
       "      <td>False</td>\n",
       "      <td>False</td>\n",
       "      <td>False</td>\n",
       "      <td>False</td>\n",
       "      <td>False</td>\n",
       "      <td>False</td>\n",
       "      <td>False</td>\n",
       "      <td>False</td>\n",
       "      <td>False</td>\n",
       "      <td>False</td>\n",
       "    </tr>\n",
       "    <tr>\n",
       "      <th>3</th>\n",
       "      <td>False</td>\n",
       "      <td>False</td>\n",
       "      <td>False</td>\n",
       "      <td>False</td>\n",
       "      <td>False</td>\n",
       "      <td>False</td>\n",
       "      <td>False</td>\n",
       "      <td>False</td>\n",
       "      <td>False</td>\n",
       "      <td>True</td>\n",
       "      <td>False</td>\n",
       "    </tr>\n",
       "    <tr>\n",
       "      <th>4</th>\n",
       "      <td>False</td>\n",
       "      <td>False</td>\n",
       "      <td>False</td>\n",
       "      <td>False</td>\n",
       "      <td>False</td>\n",
       "      <td>False</td>\n",
       "      <td>False</td>\n",
       "      <td>False</td>\n",
       "      <td>False</td>\n",
       "      <td>False</td>\n",
       "      <td>False</td>\n",
       "    </tr>\n",
       "    <tr>\n",
       "      <th>5</th>\n",
       "      <td>False</td>\n",
       "      <td>False</td>\n",
       "      <td>False</td>\n",
       "      <td>False</td>\n",
       "      <td>False</td>\n",
       "      <td>False</td>\n",
       "      <td>False</td>\n",
       "      <td>False</td>\n",
       "      <td>False</td>\n",
       "      <td>True</td>\n",
       "      <td>False</td>\n",
       "    </tr>\n",
       "    <tr>\n",
       "      <th>...</th>\n",
       "      <td>...</td>\n",
       "      <td>...</td>\n",
       "      <td>...</td>\n",
       "      <td>...</td>\n",
       "      <td>...</td>\n",
       "      <td>...</td>\n",
       "      <td>...</td>\n",
       "      <td>...</td>\n",
       "      <td>...</td>\n",
       "      <td>...</td>\n",
       "      <td>...</td>\n",
       "    </tr>\n",
       "    <tr>\n",
       "      <th>887</th>\n",
       "      <td>False</td>\n",
       "      <td>False</td>\n",
       "      <td>False</td>\n",
       "      <td>False</td>\n",
       "      <td>False</td>\n",
       "      <td>False</td>\n",
       "      <td>False</td>\n",
       "      <td>False</td>\n",
       "      <td>False</td>\n",
       "      <td>True</td>\n",
       "      <td>False</td>\n",
       "    </tr>\n",
       "    <tr>\n",
       "      <th>888</th>\n",
       "      <td>False</td>\n",
       "      <td>False</td>\n",
       "      <td>False</td>\n",
       "      <td>False</td>\n",
       "      <td>False</td>\n",
       "      <td>False</td>\n",
       "      <td>False</td>\n",
       "      <td>False</td>\n",
       "      <td>False</td>\n",
       "      <td>False</td>\n",
       "      <td>False</td>\n",
       "    </tr>\n",
       "    <tr>\n",
       "      <th>889</th>\n",
       "      <td>False</td>\n",
       "      <td>False</td>\n",
       "      <td>False</td>\n",
       "      <td>False</td>\n",
       "      <td>True</td>\n",
       "      <td>False</td>\n",
       "      <td>False</td>\n",
       "      <td>False</td>\n",
       "      <td>False</td>\n",
       "      <td>True</td>\n",
       "      <td>False</td>\n",
       "    </tr>\n",
       "    <tr>\n",
       "      <th>890</th>\n",
       "      <td>False</td>\n",
       "      <td>False</td>\n",
       "      <td>False</td>\n",
       "      <td>False</td>\n",
       "      <td>False</td>\n",
       "      <td>False</td>\n",
       "      <td>False</td>\n",
       "      <td>False</td>\n",
       "      <td>False</td>\n",
       "      <td>False</td>\n",
       "      <td>False</td>\n",
       "    </tr>\n",
       "    <tr>\n",
       "      <th>891</th>\n",
       "      <td>False</td>\n",
       "      <td>False</td>\n",
       "      <td>False</td>\n",
       "      <td>False</td>\n",
       "      <td>False</td>\n",
       "      <td>False</td>\n",
       "      <td>False</td>\n",
       "      <td>False</td>\n",
       "      <td>False</td>\n",
       "      <td>True</td>\n",
       "      <td>False</td>\n",
       "    </tr>\n",
       "  </tbody>\n",
       "</table>\n",
       "<p>891 rows × 11 columns</p>\n",
       "</div>"
      ],
      "text/plain": [
       "             Survived  Pclass   Name    Sex    Age  SibSp  Parch  Ticket  \\\n",
       "PassengerId                                                                \n",
       "1               False   False  False  False  False  False  False   False   \n",
       "2               False   False  False  False  False  False  False   False   \n",
       "3               False   False  False  False  False  False  False   False   \n",
       "4               False   False  False  False  False  False  False   False   \n",
       "5               False   False  False  False  False  False  False   False   \n",
       "...               ...     ...    ...    ...    ...    ...    ...     ...   \n",
       "887             False   False  False  False  False  False  False   False   \n",
       "888             False   False  False  False  False  False  False   False   \n",
       "889             False   False  False  False   True  False  False   False   \n",
       "890             False   False  False  False  False  False  False   False   \n",
       "891             False   False  False  False  False  False  False   False   \n",
       "\n",
       "              Fare  Cabin  Embarked  \n",
       "PassengerId                          \n",
       "1            False   True     False  \n",
       "2            False  False     False  \n",
       "3            False   True     False  \n",
       "4            False  False     False  \n",
       "5            False   True     False  \n",
       "...            ...    ...       ...  \n",
       "887          False   True     False  \n",
       "888          False  False     False  \n",
       "889          False   True     False  \n",
       "890          False  False     False  \n",
       "891          False   True     False  \n",
       "\n",
       "[891 rows x 11 columns]"
      ]
     },
     "execution_count": 10,
     "metadata": {},
     "output_type": "execute_result"
    }
   ],
   "source": [
    "df.isnull()"
   ]
  },
  {
   "cell_type": "markdown",
   "id": "5a0702c6",
   "metadata": {
    "papermill": {
     "duration": 0.024884,
     "end_time": "2022-08-08T18:50:27.722125",
     "exception": false,
     "start_time": "2022-08-08T18:50:27.697241",
     "status": "completed"
    },
    "tags": []
   },
   "source": [
    "We can try to find the null value counts in each of the column using df.isnua().sum()"
   ]
  },
  {
   "cell_type": "code",
   "execution_count": 11,
   "id": "27a51778",
   "metadata": {
    "execution": {
     "iopub.execute_input": "2022-08-08T18:50:27.774211Z",
     "iopub.status.busy": "2022-08-08T18:50:27.773815Z",
     "iopub.status.idle": "2022-08-08T18:50:27.786379Z",
     "shell.execute_reply": "2022-08-08T18:50:27.784985Z"
    },
    "papermill": {
     "duration": 0.041298,
     "end_time": "2022-08-08T18:50:27.788928",
     "exception": false,
     "start_time": "2022-08-08T18:50:27.747630",
     "status": "completed"
    },
    "tags": []
   },
   "outputs": [
    {
     "data": {
      "text/plain": [
       "Survived      0\n",
       "Pclass        0\n",
       "Name          0\n",
       "Sex           0\n",
       "Age         177\n",
       "SibSp         0\n",
       "Parch         0\n",
       "Ticket        0\n",
       "Fare          0\n",
       "Cabin       687\n",
       "Embarked      2\n",
       "dtype: int64"
      ]
     },
     "execution_count": 11,
     "metadata": {},
     "output_type": "execute_result"
    }
   ],
   "source": [
    "df.isna().sum()"
   ]
  },
  {
   "cell_type": "markdown",
   "id": "db11a003",
   "metadata": {
    "papermill": {
     "duration": 0.022578,
     "end_time": "2022-08-08T18:50:27.834534",
     "exception": false,
     "start_time": "2022-08-08T18:50:27.811956",
     "status": "completed"
    },
    "tags": []
   },
   "source": [
    "Minimum age of passenger in this dataframe can be found out using min function in the column"
   ]
  },
  {
   "cell_type": "code",
   "execution_count": 12,
   "id": "74a3993d",
   "metadata": {
    "execution": {
     "iopub.execute_input": "2022-08-08T18:50:27.883978Z",
     "iopub.status.busy": "2022-08-08T18:50:27.883575Z",
     "iopub.status.idle": "2022-08-08T18:50:27.891982Z",
     "shell.execute_reply": "2022-08-08T18:50:27.890619Z"
    },
    "papermill": {
     "duration": 0.03781,
     "end_time": "2022-08-08T18:50:27.895581",
     "exception": false,
     "start_time": "2022-08-08T18:50:27.857771",
     "status": "completed"
    },
    "tags": []
   },
   "outputs": [
    {
     "data": {
      "text/plain": [
       "0.42"
      ]
     },
     "execution_count": 12,
     "metadata": {},
     "output_type": "execute_result"
    }
   ],
   "source": [
    "min(df['Age'])"
   ]
  },
  {
   "cell_type": "code",
   "execution_count": 13,
   "id": "8cb69613",
   "metadata": {
    "execution": {
     "iopub.execute_input": "2022-08-08T18:50:27.945006Z",
     "iopub.status.busy": "2022-08-08T18:50:27.944592Z",
     "iopub.status.idle": "2022-08-08T18:50:27.950620Z",
     "shell.execute_reply": "2022-08-08T18:50:27.949789Z"
    },
    "papermill": {
     "duration": 0.032749,
     "end_time": "2022-08-08T18:50:27.952722",
     "exception": false,
     "start_time": "2022-08-08T18:50:27.919973",
     "status": "completed"
    },
    "tags": []
   },
   "outputs": [
    {
     "data": {
      "text/plain": [
       "80.0"
      ]
     },
     "execution_count": 13,
     "metadata": {},
     "output_type": "execute_result"
    }
   ],
   "source": [
    "max(df['Age'])"
   ]
  },
  {
   "cell_type": "code",
   "execution_count": 14,
   "id": "bf520e43",
   "metadata": {
    "execution": {
     "iopub.execute_input": "2022-08-08T18:50:28.003014Z",
     "iopub.status.busy": "2022-08-08T18:50:28.001984Z",
     "iopub.status.idle": "2022-08-08T18:50:28.008287Z",
     "shell.execute_reply": "2022-08-08T18:50:28.007166Z"
    },
    "papermill": {
     "duration": 0.034075,
     "end_time": "2022-08-08T18:50:28.011143",
     "exception": false,
     "start_time": "2022-08-08T18:50:27.977068",
     "status": "completed"
    },
    "tags": []
   },
   "outputs": [],
   "source": [
    "grp1=df.groupby(\"Sex\")"
   ]
  },
  {
   "cell_type": "markdown",
   "id": "e49b7f5e",
   "metadata": {
    "papermill": {
     "duration": 0.023853,
     "end_time": "2022-08-08T18:50:28.058958",
     "exception": false,
     "start_time": "2022-08-08T18:50:28.035105",
     "status": "completed"
    },
    "tags": []
   },
   "source": [
    "group.first prints all the first entries of the groups."
   ]
  },
  {
   "cell_type": "code",
   "execution_count": 15,
   "id": "8cb38ad3",
   "metadata": {
    "execution": {
     "iopub.execute_input": "2022-08-08T18:50:28.108202Z",
     "iopub.status.busy": "2022-08-08T18:50:28.107105Z",
     "iopub.status.idle": "2022-08-08T18:50:28.130339Z",
     "shell.execute_reply": "2022-08-08T18:50:28.129361Z"
    },
    "papermill": {
     "duration": 0.050521,
     "end_time": "2022-08-08T18:50:28.132804",
     "exception": false,
     "start_time": "2022-08-08T18:50:28.082283",
     "status": "completed"
    },
    "tags": []
   },
   "outputs": [
    {
     "data": {
      "text/html": [
       "<div>\n",
       "<style scoped>\n",
       "    .dataframe tbody tr th:only-of-type {\n",
       "        vertical-align: middle;\n",
       "    }\n",
       "\n",
       "    .dataframe tbody tr th {\n",
       "        vertical-align: top;\n",
       "    }\n",
       "\n",
       "    .dataframe thead th {\n",
       "        text-align: right;\n",
       "    }\n",
       "</style>\n",
       "<table border=\"1\" class=\"dataframe\">\n",
       "  <thead>\n",
       "    <tr style=\"text-align: right;\">\n",
       "      <th></th>\n",
       "      <th>Survived</th>\n",
       "      <th>Pclass</th>\n",
       "      <th>Name</th>\n",
       "      <th>Age</th>\n",
       "      <th>SibSp</th>\n",
       "      <th>Parch</th>\n",
       "      <th>Ticket</th>\n",
       "      <th>Fare</th>\n",
       "      <th>Cabin</th>\n",
       "      <th>Embarked</th>\n",
       "    </tr>\n",
       "    <tr>\n",
       "      <th>Sex</th>\n",
       "      <th></th>\n",
       "      <th></th>\n",
       "      <th></th>\n",
       "      <th></th>\n",
       "      <th></th>\n",
       "      <th></th>\n",
       "      <th></th>\n",
       "      <th></th>\n",
       "      <th></th>\n",
       "      <th></th>\n",
       "    </tr>\n",
       "  </thead>\n",
       "  <tbody>\n",
       "    <tr>\n",
       "      <th>female</th>\n",
       "      <td>1</td>\n",
       "      <td>1</td>\n",
       "      <td>Cumings, Mrs. John Bradley (Florence Briggs Th...</td>\n",
       "      <td>38.0</td>\n",
       "      <td>1</td>\n",
       "      <td>0</td>\n",
       "      <td>PC 17599</td>\n",
       "      <td>71.2833</td>\n",
       "      <td>C85</td>\n",
       "      <td>C</td>\n",
       "    </tr>\n",
       "    <tr>\n",
       "      <th>male</th>\n",
       "      <td>0</td>\n",
       "      <td>3</td>\n",
       "      <td>Braund, Mr. Owen Harris</td>\n",
       "      <td>22.0</td>\n",
       "      <td>1</td>\n",
       "      <td>0</td>\n",
       "      <td>A/5 21171</td>\n",
       "      <td>7.2500</td>\n",
       "      <td>E46</td>\n",
       "      <td>S</td>\n",
       "    </tr>\n",
       "  </tbody>\n",
       "</table>\n",
       "</div>"
      ],
      "text/plain": [
       "        Survived  Pclass                                               Name  \\\n",
       "Sex                                                                           \n",
       "female         1       1  Cumings, Mrs. John Bradley (Florence Briggs Th...   \n",
       "male           0       3                            Braund, Mr. Owen Harris   \n",
       "\n",
       "         Age  SibSp  Parch     Ticket     Fare Cabin Embarked  \n",
       "Sex                                                            \n",
       "female  38.0      1      0   PC 17599  71.2833   C85        C  \n",
       "male    22.0      1      0  A/5 21171   7.2500   E46        S  "
      ]
     },
     "execution_count": 15,
     "metadata": {},
     "output_type": "execute_result"
    }
   ],
   "source": [
    "grp1.first()"
   ]
  },
  {
   "cell_type": "markdown",
   "id": "16551a03",
   "metadata": {
    "papermill": {
     "duration": 0.023181,
     "end_time": "2022-08-08T18:50:28.180488",
     "exception": false,
     "start_time": "2022-08-08T18:50:28.157307",
     "status": "completed"
    },
    "tags": []
   },
   "source": [
    "to access/find the values contained by one of the group, we use teh get_group function.\n"
   ]
  },
  {
   "cell_type": "code",
   "execution_count": 16,
   "id": "f9b14b24",
   "metadata": {
    "execution": {
     "iopub.execute_input": "2022-08-08T18:50:28.230164Z",
     "iopub.status.busy": "2022-08-08T18:50:28.229387Z",
     "iopub.status.idle": "2022-08-08T18:50:28.256899Z",
     "shell.execute_reply": "2022-08-08T18:50:28.255841Z"
    },
    "papermill": {
     "duration": 0.054886,
     "end_time": "2022-08-08T18:50:28.259357",
     "exception": false,
     "start_time": "2022-08-08T18:50:28.204471",
     "status": "completed"
    },
    "tags": []
   },
   "outputs": [
    {
     "data": {
      "text/html": [
       "<div>\n",
       "<style scoped>\n",
       "    .dataframe tbody tr th:only-of-type {\n",
       "        vertical-align: middle;\n",
       "    }\n",
       "\n",
       "    .dataframe tbody tr th {\n",
       "        vertical-align: top;\n",
       "    }\n",
       "\n",
       "    .dataframe thead th {\n",
       "        text-align: right;\n",
       "    }\n",
       "</style>\n",
       "<table border=\"1\" class=\"dataframe\">\n",
       "  <thead>\n",
       "    <tr style=\"text-align: right;\">\n",
       "      <th></th>\n",
       "      <th>Survived</th>\n",
       "      <th>Pclass</th>\n",
       "      <th>Name</th>\n",
       "      <th>Sex</th>\n",
       "      <th>Age</th>\n",
       "      <th>SibSp</th>\n",
       "      <th>Parch</th>\n",
       "      <th>Ticket</th>\n",
       "      <th>Fare</th>\n",
       "      <th>Cabin</th>\n",
       "      <th>Embarked</th>\n",
       "    </tr>\n",
       "    <tr>\n",
       "      <th>PassengerId</th>\n",
       "      <th></th>\n",
       "      <th></th>\n",
       "      <th></th>\n",
       "      <th></th>\n",
       "      <th></th>\n",
       "      <th></th>\n",
       "      <th></th>\n",
       "      <th></th>\n",
       "      <th></th>\n",
       "      <th></th>\n",
       "      <th></th>\n",
       "    </tr>\n",
       "  </thead>\n",
       "  <tbody>\n",
       "    <tr>\n",
       "      <th>2</th>\n",
       "      <td>1</td>\n",
       "      <td>1</td>\n",
       "      <td>Cumings, Mrs. John Bradley (Florence Briggs Th...</td>\n",
       "      <td>female</td>\n",
       "      <td>38.0</td>\n",
       "      <td>1</td>\n",
       "      <td>0</td>\n",
       "      <td>PC 17599</td>\n",
       "      <td>71.2833</td>\n",
       "      <td>C85</td>\n",
       "      <td>C</td>\n",
       "    </tr>\n",
       "    <tr>\n",
       "      <th>3</th>\n",
       "      <td>1</td>\n",
       "      <td>3</td>\n",
       "      <td>Heikkinen, Miss. Laina</td>\n",
       "      <td>female</td>\n",
       "      <td>26.0</td>\n",
       "      <td>0</td>\n",
       "      <td>0</td>\n",
       "      <td>STON/O2. 3101282</td>\n",
       "      <td>7.9250</td>\n",
       "      <td>NaN</td>\n",
       "      <td>S</td>\n",
       "    </tr>\n",
       "    <tr>\n",
       "      <th>4</th>\n",
       "      <td>1</td>\n",
       "      <td>1</td>\n",
       "      <td>Futrelle, Mrs. Jacques Heath (Lily May Peel)</td>\n",
       "      <td>female</td>\n",
       "      <td>35.0</td>\n",
       "      <td>1</td>\n",
       "      <td>0</td>\n",
       "      <td>113803</td>\n",
       "      <td>53.1000</td>\n",
       "      <td>C123</td>\n",
       "      <td>S</td>\n",
       "    </tr>\n",
       "    <tr>\n",
       "      <th>9</th>\n",
       "      <td>1</td>\n",
       "      <td>3</td>\n",
       "      <td>Johnson, Mrs. Oscar W (Elisabeth Vilhelmina Berg)</td>\n",
       "      <td>female</td>\n",
       "      <td>27.0</td>\n",
       "      <td>0</td>\n",
       "      <td>2</td>\n",
       "      <td>347742</td>\n",
       "      <td>11.1333</td>\n",
       "      <td>NaN</td>\n",
       "      <td>S</td>\n",
       "    </tr>\n",
       "    <tr>\n",
       "      <th>10</th>\n",
       "      <td>1</td>\n",
       "      <td>2</td>\n",
       "      <td>Nasser, Mrs. Nicholas (Adele Achem)</td>\n",
       "      <td>female</td>\n",
       "      <td>14.0</td>\n",
       "      <td>1</td>\n",
       "      <td>0</td>\n",
       "      <td>237736</td>\n",
       "      <td>30.0708</td>\n",
       "      <td>NaN</td>\n",
       "      <td>C</td>\n",
       "    </tr>\n",
       "    <tr>\n",
       "      <th>...</th>\n",
       "      <td>...</td>\n",
       "      <td>...</td>\n",
       "      <td>...</td>\n",
       "      <td>...</td>\n",
       "      <td>...</td>\n",
       "      <td>...</td>\n",
       "      <td>...</td>\n",
       "      <td>...</td>\n",
       "      <td>...</td>\n",
       "      <td>...</td>\n",
       "      <td>...</td>\n",
       "    </tr>\n",
       "    <tr>\n",
       "      <th>881</th>\n",
       "      <td>1</td>\n",
       "      <td>2</td>\n",
       "      <td>Shelley, Mrs. William (Imanita Parrish Hall)</td>\n",
       "      <td>female</td>\n",
       "      <td>25.0</td>\n",
       "      <td>0</td>\n",
       "      <td>1</td>\n",
       "      <td>230433</td>\n",
       "      <td>26.0000</td>\n",
       "      <td>NaN</td>\n",
       "      <td>S</td>\n",
       "    </tr>\n",
       "    <tr>\n",
       "      <th>883</th>\n",
       "      <td>0</td>\n",
       "      <td>3</td>\n",
       "      <td>Dahlberg, Miss. Gerda Ulrika</td>\n",
       "      <td>female</td>\n",
       "      <td>22.0</td>\n",
       "      <td>0</td>\n",
       "      <td>0</td>\n",
       "      <td>7552</td>\n",
       "      <td>10.5167</td>\n",
       "      <td>NaN</td>\n",
       "      <td>S</td>\n",
       "    </tr>\n",
       "    <tr>\n",
       "      <th>886</th>\n",
       "      <td>0</td>\n",
       "      <td>3</td>\n",
       "      <td>Rice, Mrs. William (Margaret Norton)</td>\n",
       "      <td>female</td>\n",
       "      <td>39.0</td>\n",
       "      <td>0</td>\n",
       "      <td>5</td>\n",
       "      <td>382652</td>\n",
       "      <td>29.1250</td>\n",
       "      <td>NaN</td>\n",
       "      <td>Q</td>\n",
       "    </tr>\n",
       "    <tr>\n",
       "      <th>888</th>\n",
       "      <td>1</td>\n",
       "      <td>1</td>\n",
       "      <td>Graham, Miss. Margaret Edith</td>\n",
       "      <td>female</td>\n",
       "      <td>19.0</td>\n",
       "      <td>0</td>\n",
       "      <td>0</td>\n",
       "      <td>112053</td>\n",
       "      <td>30.0000</td>\n",
       "      <td>B42</td>\n",
       "      <td>S</td>\n",
       "    </tr>\n",
       "    <tr>\n",
       "      <th>889</th>\n",
       "      <td>0</td>\n",
       "      <td>3</td>\n",
       "      <td>Johnston, Miss. Catherine Helen \"Carrie\"</td>\n",
       "      <td>female</td>\n",
       "      <td>NaN</td>\n",
       "      <td>1</td>\n",
       "      <td>2</td>\n",
       "      <td>W./C. 6607</td>\n",
       "      <td>23.4500</td>\n",
       "      <td>NaN</td>\n",
       "      <td>S</td>\n",
       "    </tr>\n",
       "  </tbody>\n",
       "</table>\n",
       "<p>314 rows × 11 columns</p>\n",
       "</div>"
      ],
      "text/plain": [
       "             Survived  Pclass  \\\n",
       "PassengerId                     \n",
       "2                   1       1   \n",
       "3                   1       3   \n",
       "4                   1       1   \n",
       "9                   1       3   \n",
       "10                  1       2   \n",
       "...               ...     ...   \n",
       "881                 1       2   \n",
       "883                 0       3   \n",
       "886                 0       3   \n",
       "888                 1       1   \n",
       "889                 0       3   \n",
       "\n",
       "                                                          Name     Sex   Age  \\\n",
       "PassengerId                                                                    \n",
       "2            Cumings, Mrs. John Bradley (Florence Briggs Th...  female  38.0   \n",
       "3                                       Heikkinen, Miss. Laina  female  26.0   \n",
       "4                 Futrelle, Mrs. Jacques Heath (Lily May Peel)  female  35.0   \n",
       "9            Johnson, Mrs. Oscar W (Elisabeth Vilhelmina Berg)  female  27.0   \n",
       "10                         Nasser, Mrs. Nicholas (Adele Achem)  female  14.0   \n",
       "...                                                        ...     ...   ...   \n",
       "881               Shelley, Mrs. William (Imanita Parrish Hall)  female  25.0   \n",
       "883                               Dahlberg, Miss. Gerda Ulrika  female  22.0   \n",
       "886                       Rice, Mrs. William (Margaret Norton)  female  39.0   \n",
       "888                               Graham, Miss. Margaret Edith  female  19.0   \n",
       "889                   Johnston, Miss. Catherine Helen \"Carrie\"  female   NaN   \n",
       "\n",
       "             SibSp  Parch            Ticket     Fare Cabin Embarked  \n",
       "PassengerId                                                          \n",
       "2                1      0          PC 17599  71.2833   C85        C  \n",
       "3                0      0  STON/O2. 3101282   7.9250   NaN        S  \n",
       "4                1      0            113803  53.1000  C123        S  \n",
       "9                0      2            347742  11.1333   NaN        S  \n",
       "10               1      0            237736  30.0708   NaN        C  \n",
       "...            ...    ...               ...      ...   ...      ...  \n",
       "881              0      1            230433  26.0000   NaN        S  \n",
       "883              0      0              7552  10.5167   NaN        S  \n",
       "886              0      5            382652  29.1250   NaN        Q  \n",
       "888              0      0            112053  30.0000   B42        S  \n",
       "889              1      2        W./C. 6607  23.4500   NaN        S  \n",
       "\n",
       "[314 rows x 11 columns]"
      ]
     },
     "execution_count": 16,
     "metadata": {},
     "output_type": "execute_result"
    }
   ],
   "source": [
    "grp1.get_group(\"female\")"
   ]
  },
  {
   "cell_type": "markdown",
   "id": "241f9772",
   "metadata": {
    "papermill": {
     "duration": 0.023384,
     "end_time": "2022-08-08T18:50:28.306864",
     "exception": false,
     "start_time": "2022-08-08T18:50:28.283480",
     "status": "completed"
    },
    "tags": []
   },
   "source": [
    "df.value_counts would give the count of the values present in a particular column"
   ]
  },
  {
   "cell_type": "code",
   "execution_count": 17,
   "id": "51a8abe3",
   "metadata": {
    "execution": {
     "iopub.execute_input": "2022-08-08T18:50:28.357721Z",
     "iopub.status.busy": "2022-08-08T18:50:28.356938Z",
     "iopub.status.idle": "2022-08-08T18:50:28.366331Z",
     "shell.execute_reply": "2022-08-08T18:50:28.365180Z"
    },
    "papermill": {
     "duration": 0.037508,
     "end_time": "2022-08-08T18:50:28.368849",
     "exception": false,
     "start_time": "2022-08-08T18:50:28.331341",
     "status": "completed"
    },
    "tags": []
   },
   "outputs": [
    {
     "data": {
      "text/plain": [
       "Sex\n",
       "male      577\n",
       "female    314\n",
       "dtype: int64"
      ]
     },
     "execution_count": 17,
     "metadata": {},
     "output_type": "execute_result"
    }
   ],
   "source": [
    "df.value_counts(\"Sex\")"
   ]
  },
  {
   "cell_type": "markdown",
   "id": "98b9ebfb",
   "metadata": {
    "papermill": {
     "duration": 0.02394,
     "end_time": "2022-08-08T18:50:28.417215",
     "exception": false,
     "start_time": "2022-08-08T18:50:28.393275",
     "status": "completed"
    },
    "tags": []
   },
   "source": [
    "to see what the Embarkes column has, we can try this"
   ]
  },
  {
   "cell_type": "code",
   "execution_count": 18,
   "id": "70aeba96",
   "metadata": {
    "execution": {
     "iopub.execute_input": "2022-08-08T18:50:28.466174Z",
     "iopub.status.busy": "2022-08-08T18:50:28.465762Z",
     "iopub.status.idle": "2022-08-08T18:50:28.476552Z",
     "shell.execute_reply": "2022-08-08T18:50:28.474457Z"
    },
    "papermill": {
     "duration": 0.038645,
     "end_time": "2022-08-08T18:50:28.479517",
     "exception": false,
     "start_time": "2022-08-08T18:50:28.440872",
     "status": "completed"
    },
    "tags": []
   },
   "outputs": [
    {
     "data": {
      "text/plain": [
       "Embarked\n",
       "S    644\n",
       "C    168\n",
       "Q     77\n",
       "dtype: int64"
      ]
     },
     "execution_count": 18,
     "metadata": {},
     "output_type": "execute_result"
    }
   ],
   "source": [
    "df.value_counts(\"Embarked\")"
   ]
  },
  {
   "cell_type": "markdown",
   "id": "8ad69986",
   "metadata": {
    "papermill": {
     "duration": 0.024405,
     "end_time": "2022-08-08T18:50:28.527691",
     "exception": false,
     "start_time": "2022-08-08T18:50:28.503286",
     "status": "completed"
    },
    "tags": []
   },
   "source": [
    "We can use groupby function for more than one column. Lets say, Sex and Survived"
   ]
  },
  {
   "cell_type": "code",
   "execution_count": 19,
   "id": "86b886b6",
   "metadata": {
    "execution": {
     "iopub.execute_input": "2022-08-08T18:50:28.580326Z",
     "iopub.status.busy": "2022-08-08T18:50:28.579520Z",
     "iopub.status.idle": "2022-08-08T18:50:28.584783Z",
     "shell.execute_reply": "2022-08-08T18:50:28.583696Z"
    },
    "papermill": {
     "duration": 0.034249,
     "end_time": "2022-08-08T18:50:28.587260",
     "exception": false,
     "start_time": "2022-08-08T18:50:28.553011",
     "status": "completed"
    },
    "tags": []
   },
   "outputs": [],
   "source": [
    "grp2=df.groupby(['Sex','Survived'])"
   ]
  },
  {
   "cell_type": "code",
   "execution_count": 20,
   "id": "2ab70c50",
   "metadata": {
    "execution": {
     "iopub.execute_input": "2022-08-08T18:50:28.638592Z",
     "iopub.status.busy": "2022-08-08T18:50:28.638142Z",
     "iopub.status.idle": "2022-08-08T18:50:28.660660Z",
     "shell.execute_reply": "2022-08-08T18:50:28.659513Z"
    },
    "papermill": {
     "duration": 0.051605,
     "end_time": "2022-08-08T18:50:28.663352",
     "exception": false,
     "start_time": "2022-08-08T18:50:28.611747",
     "status": "completed"
    },
    "tags": []
   },
   "outputs": [
    {
     "data": {
      "text/html": [
       "<div>\n",
       "<style scoped>\n",
       "    .dataframe tbody tr th:only-of-type {\n",
       "        vertical-align: middle;\n",
       "    }\n",
       "\n",
       "    .dataframe tbody tr th {\n",
       "        vertical-align: top;\n",
       "    }\n",
       "\n",
       "    .dataframe thead th {\n",
       "        text-align: right;\n",
       "    }\n",
       "</style>\n",
       "<table border=\"1\" class=\"dataframe\">\n",
       "  <thead>\n",
       "    <tr style=\"text-align: right;\">\n",
       "      <th></th>\n",
       "      <th></th>\n",
       "      <th>Pclass</th>\n",
       "      <th>Name</th>\n",
       "      <th>Age</th>\n",
       "      <th>SibSp</th>\n",
       "      <th>Parch</th>\n",
       "      <th>Ticket</th>\n",
       "      <th>Fare</th>\n",
       "      <th>Cabin</th>\n",
       "      <th>Embarked</th>\n",
       "    </tr>\n",
       "    <tr>\n",
       "      <th>Sex</th>\n",
       "      <th>Survived</th>\n",
       "      <th></th>\n",
       "      <th></th>\n",
       "      <th></th>\n",
       "      <th></th>\n",
       "      <th></th>\n",
       "      <th></th>\n",
       "      <th></th>\n",
       "      <th></th>\n",
       "      <th></th>\n",
       "    </tr>\n",
       "  </thead>\n",
       "  <tbody>\n",
       "    <tr>\n",
       "      <th rowspan=\"2\" valign=\"top\">female</th>\n",
       "      <th>0</th>\n",
       "      <td>3</td>\n",
       "      <td>Vestrom, Miss. Hulda Amanda Adolfina</td>\n",
       "      <td>14.0</td>\n",
       "      <td>0</td>\n",
       "      <td>0</td>\n",
       "      <td>350406</td>\n",
       "      <td>7.8542</td>\n",
       "      <td>C49</td>\n",
       "      <td>S</td>\n",
       "    </tr>\n",
       "    <tr>\n",
       "      <th>1</th>\n",
       "      <td>1</td>\n",
       "      <td>Cumings, Mrs. John Bradley (Florence Briggs Th...</td>\n",
       "      <td>38.0</td>\n",
       "      <td>1</td>\n",
       "      <td>0</td>\n",
       "      <td>PC 17599</td>\n",
       "      <td>71.2833</td>\n",
       "      <td>C85</td>\n",
       "      <td>C</td>\n",
       "    </tr>\n",
       "    <tr>\n",
       "      <th rowspan=\"2\" valign=\"top\">male</th>\n",
       "      <th>0</th>\n",
       "      <td>3</td>\n",
       "      <td>Braund, Mr. Owen Harris</td>\n",
       "      <td>22.0</td>\n",
       "      <td>1</td>\n",
       "      <td>0</td>\n",
       "      <td>A/5 21171</td>\n",
       "      <td>7.2500</td>\n",
       "      <td>E46</td>\n",
       "      <td>S</td>\n",
       "    </tr>\n",
       "    <tr>\n",
       "      <th>1</th>\n",
       "      <td>2</td>\n",
       "      <td>Williams, Mr. Charles Eugene</td>\n",
       "      <td>34.0</td>\n",
       "      <td>0</td>\n",
       "      <td>0</td>\n",
       "      <td>244373</td>\n",
       "      <td>13.0000</td>\n",
       "      <td>D56</td>\n",
       "      <td>S</td>\n",
       "    </tr>\n",
       "  </tbody>\n",
       "</table>\n",
       "</div>"
      ],
      "text/plain": [
       "                 Pclass                                               Name  \\\n",
       "Sex    Survived                                                              \n",
       "female 0              3               Vestrom, Miss. Hulda Amanda Adolfina   \n",
       "       1              1  Cumings, Mrs. John Bradley (Florence Briggs Th...   \n",
       "male   0              3                            Braund, Mr. Owen Harris   \n",
       "       1              2                       Williams, Mr. Charles Eugene   \n",
       "\n",
       "                  Age  SibSp  Parch     Ticket     Fare Cabin Embarked  \n",
       "Sex    Survived                                                         \n",
       "female 0         14.0      0      0     350406   7.8542   C49        S  \n",
       "       1         38.0      1      0   PC 17599  71.2833   C85        C  \n",
       "male   0         22.0      1      0  A/5 21171   7.2500   E46        S  \n",
       "       1         34.0      0      0     244373  13.0000   D56        S  "
      ]
     },
     "execution_count": 20,
     "metadata": {},
     "output_type": "execute_result"
    }
   ],
   "source": [
    "grp2.first()"
   ]
  },
  {
   "cell_type": "markdown",
   "id": "e6313fa5",
   "metadata": {
    "papermill": {
     "duration": 0.025264,
     "end_time": "2022-08-08T18:50:28.714797",
     "exception": false,
     "start_time": "2022-08-08T18:50:28.689533",
     "status": "completed"
    },
    "tags": []
   },
   "source": [
    "We saw that the Age column has 177 null values. So let stry to fill them.\n",
    "\n",
    "But the problem is, when we want to replace the null values with mean, we might get mean arount 29. We cannot replace 29 for a child. \n",
    "\n",
    "So we will here use groupby functions "
   ]
  },
  {
   "cell_type": "code",
   "execution_count": 21,
   "id": "e726cf56",
   "metadata": {
    "execution": {
     "iopub.execute_input": "2022-08-08T18:50:28.772415Z",
     "iopub.status.busy": "2022-08-08T18:50:28.771969Z",
     "iopub.status.idle": "2022-08-08T18:50:28.779842Z",
     "shell.execute_reply": "2022-08-08T18:50:28.778628Z"
    },
    "papermill": {
     "duration": 0.039782,
     "end_time": "2022-08-08T18:50:28.782632",
     "exception": false,
     "start_time": "2022-08-08T18:50:28.742850",
     "status": "completed"
    },
    "tags": []
   },
   "outputs": [
    {
     "data": {
      "text/plain": [
       "29.69911764705882"
      ]
     },
     "execution_count": 21,
     "metadata": {},
     "output_type": "execute_result"
    }
   ],
   "source": [
    "df['Age'].mean()"
   ]
  },
  {
   "cell_type": "markdown",
   "id": "8cdf4c5e",
   "metadata": {
    "papermill": {
     "duration": 0.024657,
     "end_time": "2022-08-08T18:50:28.832052",
     "exception": false,
     "start_time": "2022-08-08T18:50:28.807395",
     "status": "completed"
    },
    "tags": []
   },
   "source": [
    "What we are trying to do here is basically we are trying to have different age groups. Say, child(0-18),adult(18-45), oldage(45+)\n",
    "\n",
    "We can do this in two ways.\n",
    "\n",
    "1. We can try to create new column and specify the value for it using conditions. We create 3 dataframe for chils, adult adn oldage and concatenate them\n",
    "2. We can use bins for this purpose. Using bins makes it very easy"
   ]
  },
  {
   "cell_type": "markdown",
   "id": "aae03f3e",
   "metadata": {
    "papermill": {
     "duration": 0.024553,
     "end_time": "2022-08-08T18:50:28.881024",
     "exception": false,
     "start_time": "2022-08-08T18:50:28.856471",
     "status": "completed"
    },
    "tags": []
   },
   "source": [
    "**Method 1**"
   ]
  },
  {
   "cell_type": "code",
   "execution_count": 22,
   "id": "fb652aee",
   "metadata": {
    "execution": {
     "iopub.execute_input": "2022-08-08T18:50:28.934522Z",
     "iopub.status.busy": "2022-08-08T18:50:28.933093Z",
     "iopub.status.idle": "2022-08-08T18:50:28.943254Z",
     "shell.execute_reply": "2022-08-08T18:50:28.941522Z"
    },
    "papermill": {
     "duration": 0.040954,
     "end_time": "2022-08-08T18:50:28.946260",
     "exception": false,
     "start_time": "2022-08-08T18:50:28.905306",
     "status": "completed"
    },
    "tags": []
   },
   "outputs": [
    {
     "name": "stderr",
     "output_type": "stream",
     "text": [
      "/opt/conda/lib/python3.7/site-packages/ipykernel_launcher.py:2: SettingWithCopyWarning: \n",
      "A value is trying to be set on a copy of a slice from a DataFrame.\n",
      "Try using .loc[row_indexer,col_indexer] = value instead\n",
      "\n",
      "See the caveats in the documentation: https://pandas.pydata.org/pandas-docs/stable/user_guide/indexing.html#returning-a-view-versus-a-copy\n",
      "  \n"
     ]
    }
   ],
   "source": [
    "\n",
    "df_c=df[(df[\"Age\"]>0) & (df['Age']<18)]\n",
    "df_c[\"Desc\"]=\"child\"\n"
   ]
  },
  {
   "cell_type": "code",
   "execution_count": 23,
   "id": "08a083a0",
   "metadata": {
    "execution": {
     "iopub.execute_input": "2022-08-08T18:50:29.003543Z",
     "iopub.status.busy": "2022-08-08T18:50:29.002641Z",
     "iopub.status.idle": "2022-08-08T18:50:29.021874Z",
     "shell.execute_reply": "2022-08-08T18:50:29.020651Z"
    },
    "papermill": {
     "duration": 0.051066,
     "end_time": "2022-08-08T18:50:29.024716",
     "exception": false,
     "start_time": "2022-08-08T18:50:28.973650",
     "status": "completed"
    },
    "tags": []
   },
   "outputs": [
    {
     "data": {
      "text/html": [
       "<div>\n",
       "<style scoped>\n",
       "    .dataframe tbody tr th:only-of-type {\n",
       "        vertical-align: middle;\n",
       "    }\n",
       "\n",
       "    .dataframe tbody tr th {\n",
       "        vertical-align: top;\n",
       "    }\n",
       "\n",
       "    .dataframe thead th {\n",
       "        text-align: right;\n",
       "    }\n",
       "</style>\n",
       "<table border=\"1\" class=\"dataframe\">\n",
       "  <thead>\n",
       "    <tr style=\"text-align: right;\">\n",
       "      <th></th>\n",
       "      <th>Survived</th>\n",
       "      <th>Pclass</th>\n",
       "      <th>Name</th>\n",
       "      <th>Sex</th>\n",
       "      <th>Age</th>\n",
       "      <th>SibSp</th>\n",
       "      <th>Parch</th>\n",
       "      <th>Ticket</th>\n",
       "      <th>Fare</th>\n",
       "      <th>Cabin</th>\n",
       "      <th>Embarked</th>\n",
       "      <th>Desc</th>\n",
       "    </tr>\n",
       "    <tr>\n",
       "      <th>PassengerId</th>\n",
       "      <th></th>\n",
       "      <th></th>\n",
       "      <th></th>\n",
       "      <th></th>\n",
       "      <th></th>\n",
       "      <th></th>\n",
       "      <th></th>\n",
       "      <th></th>\n",
       "      <th></th>\n",
       "      <th></th>\n",
       "      <th></th>\n",
       "      <th></th>\n",
       "    </tr>\n",
       "  </thead>\n",
       "  <tbody>\n",
       "    <tr>\n",
       "      <th>8</th>\n",
       "      <td>0</td>\n",
       "      <td>3</td>\n",
       "      <td>Palsson, Master. Gosta Leonard</td>\n",
       "      <td>male</td>\n",
       "      <td>2.0</td>\n",
       "      <td>3</td>\n",
       "      <td>1</td>\n",
       "      <td>349909</td>\n",
       "      <td>21.0750</td>\n",
       "      <td>NaN</td>\n",
       "      <td>S</td>\n",
       "      <td>child</td>\n",
       "    </tr>\n",
       "    <tr>\n",
       "      <th>10</th>\n",
       "      <td>1</td>\n",
       "      <td>2</td>\n",
       "      <td>Nasser, Mrs. Nicholas (Adele Achem)</td>\n",
       "      <td>female</td>\n",
       "      <td>14.0</td>\n",
       "      <td>1</td>\n",
       "      <td>0</td>\n",
       "      <td>237736</td>\n",
       "      <td>30.0708</td>\n",
       "      <td>NaN</td>\n",
       "      <td>C</td>\n",
       "      <td>child</td>\n",
       "    </tr>\n",
       "    <tr>\n",
       "      <th>11</th>\n",
       "      <td>1</td>\n",
       "      <td>3</td>\n",
       "      <td>Sandstrom, Miss. Marguerite Rut</td>\n",
       "      <td>female</td>\n",
       "      <td>4.0</td>\n",
       "      <td>1</td>\n",
       "      <td>1</td>\n",
       "      <td>PP 9549</td>\n",
       "      <td>16.7000</td>\n",
       "      <td>G6</td>\n",
       "      <td>S</td>\n",
       "      <td>child</td>\n",
       "    </tr>\n",
       "    <tr>\n",
       "      <th>15</th>\n",
       "      <td>0</td>\n",
       "      <td>3</td>\n",
       "      <td>Vestrom, Miss. Hulda Amanda Adolfina</td>\n",
       "      <td>female</td>\n",
       "      <td>14.0</td>\n",
       "      <td>0</td>\n",
       "      <td>0</td>\n",
       "      <td>350406</td>\n",
       "      <td>7.8542</td>\n",
       "      <td>NaN</td>\n",
       "      <td>S</td>\n",
       "      <td>child</td>\n",
       "    </tr>\n",
       "    <tr>\n",
       "      <th>17</th>\n",
       "      <td>0</td>\n",
       "      <td>3</td>\n",
       "      <td>Rice, Master. Eugene</td>\n",
       "      <td>male</td>\n",
       "      <td>2.0</td>\n",
       "      <td>4</td>\n",
       "      <td>1</td>\n",
       "      <td>382652</td>\n",
       "      <td>29.1250</td>\n",
       "      <td>NaN</td>\n",
       "      <td>Q</td>\n",
       "      <td>child</td>\n",
       "    </tr>\n",
       "  </tbody>\n",
       "</table>\n",
       "</div>"
      ],
      "text/plain": [
       "             Survived  Pclass                                  Name     Sex  \\\n",
       "PassengerId                                                                   \n",
       "8                   0       3        Palsson, Master. Gosta Leonard    male   \n",
       "10                  1       2   Nasser, Mrs. Nicholas (Adele Achem)  female   \n",
       "11                  1       3       Sandstrom, Miss. Marguerite Rut  female   \n",
       "15                  0       3  Vestrom, Miss. Hulda Amanda Adolfina  female   \n",
       "17                  0       3                  Rice, Master. Eugene    male   \n",
       "\n",
       "              Age  SibSp  Parch   Ticket     Fare Cabin Embarked   Desc  \n",
       "PassengerId                                                              \n",
       "8             2.0      3      1   349909  21.0750   NaN        S  child  \n",
       "10           14.0      1      0   237736  30.0708   NaN        C  child  \n",
       "11            4.0      1      1  PP 9549  16.7000    G6        S  child  \n",
       "15           14.0      0      0   350406   7.8542   NaN        S  child  \n",
       "17            2.0      4      1   382652  29.1250   NaN        Q  child  "
      ]
     },
     "execution_count": 23,
     "metadata": {},
     "output_type": "execute_result"
    }
   ],
   "source": [
    "df_c.head()"
   ]
  },
  {
   "cell_type": "code",
   "execution_count": 24,
   "id": "b78c0b7c",
   "metadata": {
    "execution": {
     "iopub.execute_input": "2022-08-08T18:50:29.077481Z",
     "iopub.status.busy": "2022-08-08T18:50:29.077027Z",
     "iopub.status.idle": "2022-08-08T18:50:29.085588Z",
     "shell.execute_reply": "2022-08-08T18:50:29.084643Z"
    },
    "papermill": {
     "duration": 0.037817,
     "end_time": "2022-08-08T18:50:29.088926",
     "exception": false,
     "start_time": "2022-08-08T18:50:29.051109",
     "status": "completed"
    },
    "tags": []
   },
   "outputs": [
    {
     "name": "stderr",
     "output_type": "stream",
     "text": [
      "/opt/conda/lib/python3.7/site-packages/ipykernel_launcher.py:2: SettingWithCopyWarning: \n",
      "A value is trying to be set on a copy of a slice from a DataFrame.\n",
      "Try using .loc[row_indexer,col_indexer] = value instead\n",
      "\n",
      "See the caveats in the documentation: https://pandas.pydata.org/pandas-docs/stable/user_guide/indexing.html#returning-a-view-versus-a-copy\n",
      "  \n"
     ]
    }
   ],
   "source": [
    "\n",
    "df_a=df[(df[\"Age\"]>=18) & (df['Age']<=45)]\n",
    "df_a[\"Desc\"]=\"adult\"\n"
   ]
  },
  {
   "cell_type": "code",
   "execution_count": 25,
   "id": "4e096cd3",
   "metadata": {
    "execution": {
     "iopub.execute_input": "2022-08-08T18:50:29.142270Z",
     "iopub.status.busy": "2022-08-08T18:50:29.141816Z",
     "iopub.status.idle": "2022-08-08T18:50:29.161261Z",
     "shell.execute_reply": "2022-08-08T18:50:29.160043Z"
    },
    "papermill": {
     "duration": 0.048549,
     "end_time": "2022-08-08T18:50:29.163911",
     "exception": false,
     "start_time": "2022-08-08T18:50:29.115362",
     "status": "completed"
    },
    "tags": []
   },
   "outputs": [
    {
     "data": {
      "text/html": [
       "<div>\n",
       "<style scoped>\n",
       "    .dataframe tbody tr th:only-of-type {\n",
       "        vertical-align: middle;\n",
       "    }\n",
       "\n",
       "    .dataframe tbody tr th {\n",
       "        vertical-align: top;\n",
       "    }\n",
       "\n",
       "    .dataframe thead th {\n",
       "        text-align: right;\n",
       "    }\n",
       "</style>\n",
       "<table border=\"1\" class=\"dataframe\">\n",
       "  <thead>\n",
       "    <tr style=\"text-align: right;\">\n",
       "      <th></th>\n",
       "      <th>Survived</th>\n",
       "      <th>Pclass</th>\n",
       "      <th>Name</th>\n",
       "      <th>Sex</th>\n",
       "      <th>Age</th>\n",
       "      <th>SibSp</th>\n",
       "      <th>Parch</th>\n",
       "      <th>Ticket</th>\n",
       "      <th>Fare</th>\n",
       "      <th>Cabin</th>\n",
       "      <th>Embarked</th>\n",
       "      <th>Desc</th>\n",
       "    </tr>\n",
       "    <tr>\n",
       "      <th>PassengerId</th>\n",
       "      <th></th>\n",
       "      <th></th>\n",
       "      <th></th>\n",
       "      <th></th>\n",
       "      <th></th>\n",
       "      <th></th>\n",
       "      <th></th>\n",
       "      <th></th>\n",
       "      <th></th>\n",
       "      <th></th>\n",
       "      <th></th>\n",
       "      <th></th>\n",
       "    </tr>\n",
       "  </thead>\n",
       "  <tbody>\n",
       "    <tr>\n",
       "      <th>1</th>\n",
       "      <td>0</td>\n",
       "      <td>3</td>\n",
       "      <td>Braund, Mr. Owen Harris</td>\n",
       "      <td>male</td>\n",
       "      <td>22.0</td>\n",
       "      <td>1</td>\n",
       "      <td>0</td>\n",
       "      <td>A/5 21171</td>\n",
       "      <td>7.2500</td>\n",
       "      <td>NaN</td>\n",
       "      <td>S</td>\n",
       "      <td>adult</td>\n",
       "    </tr>\n",
       "    <tr>\n",
       "      <th>2</th>\n",
       "      <td>1</td>\n",
       "      <td>1</td>\n",
       "      <td>Cumings, Mrs. John Bradley (Florence Briggs Th...</td>\n",
       "      <td>female</td>\n",
       "      <td>38.0</td>\n",
       "      <td>1</td>\n",
       "      <td>0</td>\n",
       "      <td>PC 17599</td>\n",
       "      <td>71.2833</td>\n",
       "      <td>C85</td>\n",
       "      <td>C</td>\n",
       "      <td>adult</td>\n",
       "    </tr>\n",
       "    <tr>\n",
       "      <th>3</th>\n",
       "      <td>1</td>\n",
       "      <td>3</td>\n",
       "      <td>Heikkinen, Miss. Laina</td>\n",
       "      <td>female</td>\n",
       "      <td>26.0</td>\n",
       "      <td>0</td>\n",
       "      <td>0</td>\n",
       "      <td>STON/O2. 3101282</td>\n",
       "      <td>7.9250</td>\n",
       "      <td>NaN</td>\n",
       "      <td>S</td>\n",
       "      <td>adult</td>\n",
       "    </tr>\n",
       "    <tr>\n",
       "      <th>4</th>\n",
       "      <td>1</td>\n",
       "      <td>1</td>\n",
       "      <td>Futrelle, Mrs. Jacques Heath (Lily May Peel)</td>\n",
       "      <td>female</td>\n",
       "      <td>35.0</td>\n",
       "      <td>1</td>\n",
       "      <td>0</td>\n",
       "      <td>113803</td>\n",
       "      <td>53.1000</td>\n",
       "      <td>C123</td>\n",
       "      <td>S</td>\n",
       "      <td>adult</td>\n",
       "    </tr>\n",
       "    <tr>\n",
       "      <th>5</th>\n",
       "      <td>0</td>\n",
       "      <td>3</td>\n",
       "      <td>Allen, Mr. William Henry</td>\n",
       "      <td>male</td>\n",
       "      <td>35.0</td>\n",
       "      <td>0</td>\n",
       "      <td>0</td>\n",
       "      <td>373450</td>\n",
       "      <td>8.0500</td>\n",
       "      <td>NaN</td>\n",
       "      <td>S</td>\n",
       "      <td>adult</td>\n",
       "    </tr>\n",
       "  </tbody>\n",
       "</table>\n",
       "</div>"
      ],
      "text/plain": [
       "             Survived  Pclass  \\\n",
       "PassengerId                     \n",
       "1                   0       3   \n",
       "2                   1       1   \n",
       "3                   1       3   \n",
       "4                   1       1   \n",
       "5                   0       3   \n",
       "\n",
       "                                                          Name     Sex   Age  \\\n",
       "PassengerId                                                                    \n",
       "1                                      Braund, Mr. Owen Harris    male  22.0   \n",
       "2            Cumings, Mrs. John Bradley (Florence Briggs Th...  female  38.0   \n",
       "3                                       Heikkinen, Miss. Laina  female  26.0   \n",
       "4                 Futrelle, Mrs. Jacques Heath (Lily May Peel)  female  35.0   \n",
       "5                                     Allen, Mr. William Henry    male  35.0   \n",
       "\n",
       "             SibSp  Parch            Ticket     Fare Cabin Embarked   Desc  \n",
       "PassengerId                                                                 \n",
       "1                1      0         A/5 21171   7.2500   NaN        S  adult  \n",
       "2                1      0          PC 17599  71.2833   C85        C  adult  \n",
       "3                0      0  STON/O2. 3101282   7.9250   NaN        S  adult  \n",
       "4                1      0            113803  53.1000  C123        S  adult  \n",
       "5                0      0            373450   8.0500   NaN        S  adult  "
      ]
     },
     "execution_count": 25,
     "metadata": {},
     "output_type": "execute_result"
    }
   ],
   "source": [
    "df_a.head()"
   ]
  },
  {
   "cell_type": "code",
   "execution_count": 26,
   "id": "e9c7f783",
   "metadata": {
    "execution": {
     "iopub.execute_input": "2022-08-08T18:50:29.217449Z",
     "iopub.status.busy": "2022-08-08T18:50:29.216994Z",
     "iopub.status.idle": "2022-08-08T18:50:29.225818Z",
     "shell.execute_reply": "2022-08-08T18:50:29.224175Z"
    },
    "papermill": {
     "duration": 0.038558,
     "end_time": "2022-08-08T18:50:29.228786",
     "exception": false,
     "start_time": "2022-08-08T18:50:29.190228",
     "status": "completed"
    },
    "tags": []
   },
   "outputs": [
    {
     "name": "stderr",
     "output_type": "stream",
     "text": [
      "/opt/conda/lib/python3.7/site-packages/ipykernel_launcher.py:2: SettingWithCopyWarning: \n",
      "A value is trying to be set on a copy of a slice from a DataFrame.\n",
      "Try using .loc[row_indexer,col_indexer] = value instead\n",
      "\n",
      "See the caveats in the documentation: https://pandas.pydata.org/pandas-docs/stable/user_guide/indexing.html#returning-a-view-versus-a-copy\n",
      "  \n"
     ]
    }
   ],
   "source": [
    "\n",
    "df_o=df[(df[\"Age\"]>45)]\n",
    "df_o[\"Desc\"]=\"oldage\"\n"
   ]
  },
  {
   "cell_type": "code",
   "execution_count": 27,
   "id": "8a214763",
   "metadata": {
    "execution": {
     "iopub.execute_input": "2022-08-08T18:50:29.285827Z",
     "iopub.status.busy": "2022-08-08T18:50:29.285358Z",
     "iopub.status.idle": "2022-08-08T18:50:29.304228Z",
     "shell.execute_reply": "2022-08-08T18:50:29.303233Z"
    },
    "papermill": {
     "duration": 0.056613,
     "end_time": "2022-08-08T18:50:29.313417",
     "exception": false,
     "start_time": "2022-08-08T18:50:29.256804",
     "status": "completed"
    },
    "tags": []
   },
   "outputs": [
    {
     "data": {
      "text/html": [
       "<div>\n",
       "<style scoped>\n",
       "    .dataframe tbody tr th:only-of-type {\n",
       "        vertical-align: middle;\n",
       "    }\n",
       "\n",
       "    .dataframe tbody tr th {\n",
       "        vertical-align: top;\n",
       "    }\n",
       "\n",
       "    .dataframe thead th {\n",
       "        text-align: right;\n",
       "    }\n",
       "</style>\n",
       "<table border=\"1\" class=\"dataframe\">\n",
       "  <thead>\n",
       "    <tr style=\"text-align: right;\">\n",
       "      <th></th>\n",
       "      <th>Survived</th>\n",
       "      <th>Pclass</th>\n",
       "      <th>Name</th>\n",
       "      <th>Sex</th>\n",
       "      <th>Age</th>\n",
       "      <th>SibSp</th>\n",
       "      <th>Parch</th>\n",
       "      <th>Ticket</th>\n",
       "      <th>Fare</th>\n",
       "      <th>Cabin</th>\n",
       "      <th>Embarked</th>\n",
       "      <th>Desc</th>\n",
       "    </tr>\n",
       "    <tr>\n",
       "      <th>PassengerId</th>\n",
       "      <th></th>\n",
       "      <th></th>\n",
       "      <th></th>\n",
       "      <th></th>\n",
       "      <th></th>\n",
       "      <th></th>\n",
       "      <th></th>\n",
       "      <th></th>\n",
       "      <th></th>\n",
       "      <th></th>\n",
       "      <th></th>\n",
       "      <th></th>\n",
       "    </tr>\n",
       "  </thead>\n",
       "  <tbody>\n",
       "    <tr>\n",
       "      <th>7</th>\n",
       "      <td>0</td>\n",
       "      <td>1</td>\n",
       "      <td>McCarthy, Mr. Timothy J</td>\n",
       "      <td>male</td>\n",
       "      <td>54.0</td>\n",
       "      <td>0</td>\n",
       "      <td>0</td>\n",
       "      <td>17463</td>\n",
       "      <td>51.8625</td>\n",
       "      <td>E46</td>\n",
       "      <td>S</td>\n",
       "      <td>oldage</td>\n",
       "    </tr>\n",
       "    <tr>\n",
       "      <th>12</th>\n",
       "      <td>1</td>\n",
       "      <td>1</td>\n",
       "      <td>Bonnell, Miss. Elizabeth</td>\n",
       "      <td>female</td>\n",
       "      <td>58.0</td>\n",
       "      <td>0</td>\n",
       "      <td>0</td>\n",
       "      <td>113783</td>\n",
       "      <td>26.5500</td>\n",
       "      <td>C103</td>\n",
       "      <td>S</td>\n",
       "      <td>oldage</td>\n",
       "    </tr>\n",
       "    <tr>\n",
       "      <th>16</th>\n",
       "      <td>1</td>\n",
       "      <td>2</td>\n",
       "      <td>Hewlett, Mrs. (Mary D Kingcome)</td>\n",
       "      <td>female</td>\n",
       "      <td>55.0</td>\n",
       "      <td>0</td>\n",
       "      <td>0</td>\n",
       "      <td>248706</td>\n",
       "      <td>16.0000</td>\n",
       "      <td>NaN</td>\n",
       "      <td>S</td>\n",
       "      <td>oldage</td>\n",
       "    </tr>\n",
       "    <tr>\n",
       "      <th>34</th>\n",
       "      <td>0</td>\n",
       "      <td>2</td>\n",
       "      <td>Wheadon, Mr. Edward H</td>\n",
       "      <td>male</td>\n",
       "      <td>66.0</td>\n",
       "      <td>0</td>\n",
       "      <td>0</td>\n",
       "      <td>C.A. 24579</td>\n",
       "      <td>10.5000</td>\n",
       "      <td>NaN</td>\n",
       "      <td>S</td>\n",
       "      <td>oldage</td>\n",
       "    </tr>\n",
       "    <tr>\n",
       "      <th>53</th>\n",
       "      <td>1</td>\n",
       "      <td>1</td>\n",
       "      <td>Harper, Mrs. Henry Sleeper (Myna Haxtun)</td>\n",
       "      <td>female</td>\n",
       "      <td>49.0</td>\n",
       "      <td>1</td>\n",
       "      <td>0</td>\n",
       "      <td>PC 17572</td>\n",
       "      <td>76.7292</td>\n",
       "      <td>D33</td>\n",
       "      <td>C</td>\n",
       "      <td>oldage</td>\n",
       "    </tr>\n",
       "  </tbody>\n",
       "</table>\n",
       "</div>"
      ],
      "text/plain": [
       "             Survived  Pclass                                      Name  \\\n",
       "PassengerId                                                               \n",
       "7                   0       1                   McCarthy, Mr. Timothy J   \n",
       "12                  1       1                  Bonnell, Miss. Elizabeth   \n",
       "16                  1       2          Hewlett, Mrs. (Mary D Kingcome)    \n",
       "34                  0       2                     Wheadon, Mr. Edward H   \n",
       "53                  1       1  Harper, Mrs. Henry Sleeper (Myna Haxtun)   \n",
       "\n",
       "                Sex   Age  SibSp  Parch      Ticket     Fare Cabin Embarked  \\\n",
       "PassengerId                                                                   \n",
       "7              male  54.0      0      0       17463  51.8625   E46        S   \n",
       "12           female  58.0      0      0      113783  26.5500  C103        S   \n",
       "16           female  55.0      0      0      248706  16.0000   NaN        S   \n",
       "34             male  66.0      0      0  C.A. 24579  10.5000   NaN        S   \n",
       "53           female  49.0      1      0    PC 17572  76.7292   D33        C   \n",
       "\n",
       "               Desc  \n",
       "PassengerId          \n",
       "7            oldage  \n",
       "12           oldage  \n",
       "16           oldage  \n",
       "34           oldage  \n",
       "53           oldage  "
      ]
     },
     "execution_count": 27,
     "metadata": {},
     "output_type": "execute_result"
    }
   ],
   "source": [
    "df_o.head()"
   ]
  },
  {
   "cell_type": "code",
   "execution_count": 28,
   "id": "8269c584",
   "metadata": {
    "execution": {
     "iopub.execute_input": "2022-08-08T18:50:29.372606Z",
     "iopub.status.busy": "2022-08-08T18:50:29.371727Z",
     "iopub.status.idle": "2022-08-08T18:50:29.381003Z",
     "shell.execute_reply": "2022-08-08T18:50:29.379739Z"
    },
    "papermill": {
     "duration": 0.040071,
     "end_time": "2022-08-08T18:50:29.383415",
     "exception": false,
     "start_time": "2022-08-08T18:50:29.343344",
     "status": "completed"
    },
    "tags": []
   },
   "outputs": [],
   "source": [
    "df_new=pd.concat([df_c,df_a,df_o],axis=0)"
   ]
  },
  {
   "cell_type": "code",
   "execution_count": 29,
   "id": "53defeb7",
   "metadata": {
    "execution": {
     "iopub.execute_input": "2022-08-08T18:50:29.438380Z",
     "iopub.status.busy": "2022-08-08T18:50:29.437989Z",
     "iopub.status.idle": "2022-08-08T18:50:29.455992Z",
     "shell.execute_reply": "2022-08-08T18:50:29.454816Z"
    },
    "papermill": {
     "duration": 0.049753,
     "end_time": "2022-08-08T18:50:29.458558",
     "exception": false,
     "start_time": "2022-08-08T18:50:29.408805",
     "status": "completed"
    },
    "tags": []
   },
   "outputs": [
    {
     "data": {
      "text/html": [
       "<div>\n",
       "<style scoped>\n",
       "    .dataframe tbody tr th:only-of-type {\n",
       "        vertical-align: middle;\n",
       "    }\n",
       "\n",
       "    .dataframe tbody tr th {\n",
       "        vertical-align: top;\n",
       "    }\n",
       "\n",
       "    .dataframe thead th {\n",
       "        text-align: right;\n",
       "    }\n",
       "</style>\n",
       "<table border=\"1\" class=\"dataframe\">\n",
       "  <thead>\n",
       "    <tr style=\"text-align: right;\">\n",
       "      <th></th>\n",
       "      <th>Survived</th>\n",
       "      <th>Pclass</th>\n",
       "      <th>Name</th>\n",
       "      <th>Sex</th>\n",
       "      <th>Age</th>\n",
       "      <th>SibSp</th>\n",
       "      <th>Parch</th>\n",
       "      <th>Ticket</th>\n",
       "      <th>Fare</th>\n",
       "      <th>Cabin</th>\n",
       "      <th>Embarked</th>\n",
       "      <th>Desc</th>\n",
       "    </tr>\n",
       "    <tr>\n",
       "      <th>PassengerId</th>\n",
       "      <th></th>\n",
       "      <th></th>\n",
       "      <th></th>\n",
       "      <th></th>\n",
       "      <th></th>\n",
       "      <th></th>\n",
       "      <th></th>\n",
       "      <th></th>\n",
       "      <th></th>\n",
       "      <th></th>\n",
       "      <th></th>\n",
       "      <th></th>\n",
       "    </tr>\n",
       "  </thead>\n",
       "  <tbody>\n",
       "    <tr>\n",
       "      <th>8</th>\n",
       "      <td>0</td>\n",
       "      <td>3</td>\n",
       "      <td>Palsson, Master. Gosta Leonard</td>\n",
       "      <td>male</td>\n",
       "      <td>2.0</td>\n",
       "      <td>3</td>\n",
       "      <td>1</td>\n",
       "      <td>349909</td>\n",
       "      <td>21.0750</td>\n",
       "      <td>NaN</td>\n",
       "      <td>S</td>\n",
       "      <td>child</td>\n",
       "    </tr>\n",
       "    <tr>\n",
       "      <th>10</th>\n",
       "      <td>1</td>\n",
       "      <td>2</td>\n",
       "      <td>Nasser, Mrs. Nicholas (Adele Achem)</td>\n",
       "      <td>female</td>\n",
       "      <td>14.0</td>\n",
       "      <td>1</td>\n",
       "      <td>0</td>\n",
       "      <td>237736</td>\n",
       "      <td>30.0708</td>\n",
       "      <td>NaN</td>\n",
       "      <td>C</td>\n",
       "      <td>child</td>\n",
       "    </tr>\n",
       "    <tr>\n",
       "      <th>11</th>\n",
       "      <td>1</td>\n",
       "      <td>3</td>\n",
       "      <td>Sandstrom, Miss. Marguerite Rut</td>\n",
       "      <td>female</td>\n",
       "      <td>4.0</td>\n",
       "      <td>1</td>\n",
       "      <td>1</td>\n",
       "      <td>PP 9549</td>\n",
       "      <td>16.7000</td>\n",
       "      <td>G6</td>\n",
       "      <td>S</td>\n",
       "      <td>child</td>\n",
       "    </tr>\n",
       "    <tr>\n",
       "      <th>15</th>\n",
       "      <td>0</td>\n",
       "      <td>3</td>\n",
       "      <td>Vestrom, Miss. Hulda Amanda Adolfina</td>\n",
       "      <td>female</td>\n",
       "      <td>14.0</td>\n",
       "      <td>0</td>\n",
       "      <td>0</td>\n",
       "      <td>350406</td>\n",
       "      <td>7.8542</td>\n",
       "      <td>NaN</td>\n",
       "      <td>S</td>\n",
       "      <td>child</td>\n",
       "    </tr>\n",
       "    <tr>\n",
       "      <th>17</th>\n",
       "      <td>0</td>\n",
       "      <td>3</td>\n",
       "      <td>Rice, Master. Eugene</td>\n",
       "      <td>male</td>\n",
       "      <td>2.0</td>\n",
       "      <td>4</td>\n",
       "      <td>1</td>\n",
       "      <td>382652</td>\n",
       "      <td>29.1250</td>\n",
       "      <td>NaN</td>\n",
       "      <td>Q</td>\n",
       "      <td>child</td>\n",
       "    </tr>\n",
       "  </tbody>\n",
       "</table>\n",
       "</div>"
      ],
      "text/plain": [
       "             Survived  Pclass                                  Name     Sex  \\\n",
       "PassengerId                                                                   \n",
       "8                   0       3        Palsson, Master. Gosta Leonard    male   \n",
       "10                  1       2   Nasser, Mrs. Nicholas (Adele Achem)  female   \n",
       "11                  1       3       Sandstrom, Miss. Marguerite Rut  female   \n",
       "15                  0       3  Vestrom, Miss. Hulda Amanda Adolfina  female   \n",
       "17                  0       3                  Rice, Master. Eugene    male   \n",
       "\n",
       "              Age  SibSp  Parch   Ticket     Fare Cabin Embarked   Desc  \n",
       "PassengerId                                                              \n",
       "8             2.0      3      1   349909  21.0750   NaN        S  child  \n",
       "10           14.0      1      0   237736  30.0708   NaN        C  child  \n",
       "11            4.0      1      1  PP 9549  16.7000    G6        S  child  \n",
       "15           14.0      0      0   350406   7.8542   NaN        S  child  \n",
       "17            2.0      4      1   382652  29.1250   NaN        Q  child  "
      ]
     },
     "execution_count": 29,
     "metadata": {},
     "output_type": "execute_result"
    }
   ],
   "source": [
    "df_new.head()"
   ]
  },
  {
   "cell_type": "markdown",
   "id": "4cb31b12",
   "metadata": {
    "papermill": {
     "duration": 0.028019,
     "end_time": "2022-08-08T18:50:29.512253",
     "exception": false,
     "start_time": "2022-08-08T18:50:29.484234",
     "status": "completed"
    },
    "tags": []
   },
   "source": [
    "**Method 2**"
   ]
  },
  {
   "cell_type": "markdown",
   "id": "b0364965",
   "metadata": {
    "papermill": {
     "duration": 0.025265,
     "end_time": "2022-08-08T18:50:29.565383",
     "exception": false,
     "start_time": "2022-08-08T18:50:29.540118",
     "status": "completed"
    },
    "tags": []
   },
   "source": [
    "when you try to apply bins for columns haveing null values, then the new column also will have null value for the corresponding row"
   ]
  },
  {
   "cell_type": "code",
   "execution_count": 30,
   "id": "0a824b57",
   "metadata": {
    "execution": {
     "iopub.execute_input": "2022-08-08T18:50:29.619245Z",
     "iopub.status.busy": "2022-08-08T18:50:29.618090Z",
     "iopub.status.idle": "2022-08-08T18:50:29.627014Z",
     "shell.execute_reply": "2022-08-08T18:50:29.625870Z"
    },
    "papermill": {
     "duration": 0.039124,
     "end_time": "2022-08-08T18:50:29.630197",
     "exception": false,
     "start_time": "2022-08-08T18:50:29.591073",
     "status": "completed"
    },
    "tags": []
   },
   "outputs": [],
   "source": [
    "df_new1=df\n",
    "df_new1['desc']=pd.cut(df['Age'],bins=[0,18,45,100],labels=['child','adult','oldage'])"
   ]
  },
  {
   "cell_type": "code",
   "execution_count": 31,
   "id": "cf1f5565",
   "metadata": {
    "execution": {
     "iopub.execute_input": "2022-08-08T18:50:29.685988Z",
     "iopub.status.busy": "2022-08-08T18:50:29.685583Z",
     "iopub.status.idle": "2022-08-08T18:50:29.705738Z",
     "shell.execute_reply": "2022-08-08T18:50:29.704458Z"
    },
    "papermill": {
     "duration": 0.051171,
     "end_time": "2022-08-08T18:50:29.708747",
     "exception": false,
     "start_time": "2022-08-08T18:50:29.657576",
     "status": "completed"
    },
    "tags": []
   },
   "outputs": [
    {
     "data": {
      "text/html": [
       "<div>\n",
       "<style scoped>\n",
       "    .dataframe tbody tr th:only-of-type {\n",
       "        vertical-align: middle;\n",
       "    }\n",
       "\n",
       "    .dataframe tbody tr th {\n",
       "        vertical-align: top;\n",
       "    }\n",
       "\n",
       "    .dataframe thead th {\n",
       "        text-align: right;\n",
       "    }\n",
       "</style>\n",
       "<table border=\"1\" class=\"dataframe\">\n",
       "  <thead>\n",
       "    <tr style=\"text-align: right;\">\n",
       "      <th></th>\n",
       "      <th>Survived</th>\n",
       "      <th>Pclass</th>\n",
       "      <th>Name</th>\n",
       "      <th>Sex</th>\n",
       "      <th>Age</th>\n",
       "      <th>SibSp</th>\n",
       "      <th>Parch</th>\n",
       "      <th>Ticket</th>\n",
       "      <th>Fare</th>\n",
       "      <th>Cabin</th>\n",
       "      <th>Embarked</th>\n",
       "      <th>desc</th>\n",
       "    </tr>\n",
       "    <tr>\n",
       "      <th>PassengerId</th>\n",
       "      <th></th>\n",
       "      <th></th>\n",
       "      <th></th>\n",
       "      <th></th>\n",
       "      <th></th>\n",
       "      <th></th>\n",
       "      <th></th>\n",
       "      <th></th>\n",
       "      <th></th>\n",
       "      <th></th>\n",
       "      <th></th>\n",
       "      <th></th>\n",
       "    </tr>\n",
       "  </thead>\n",
       "  <tbody>\n",
       "    <tr>\n",
       "      <th>887</th>\n",
       "      <td>0</td>\n",
       "      <td>2</td>\n",
       "      <td>Montvila, Rev. Juozas</td>\n",
       "      <td>male</td>\n",
       "      <td>27.0</td>\n",
       "      <td>0</td>\n",
       "      <td>0</td>\n",
       "      <td>211536</td>\n",
       "      <td>13.00</td>\n",
       "      <td>NaN</td>\n",
       "      <td>S</td>\n",
       "      <td>adult</td>\n",
       "    </tr>\n",
       "    <tr>\n",
       "      <th>888</th>\n",
       "      <td>1</td>\n",
       "      <td>1</td>\n",
       "      <td>Graham, Miss. Margaret Edith</td>\n",
       "      <td>female</td>\n",
       "      <td>19.0</td>\n",
       "      <td>0</td>\n",
       "      <td>0</td>\n",
       "      <td>112053</td>\n",
       "      <td>30.00</td>\n",
       "      <td>B42</td>\n",
       "      <td>S</td>\n",
       "      <td>adult</td>\n",
       "    </tr>\n",
       "    <tr>\n",
       "      <th>889</th>\n",
       "      <td>0</td>\n",
       "      <td>3</td>\n",
       "      <td>Johnston, Miss. Catherine Helen \"Carrie\"</td>\n",
       "      <td>female</td>\n",
       "      <td>NaN</td>\n",
       "      <td>1</td>\n",
       "      <td>2</td>\n",
       "      <td>W./C. 6607</td>\n",
       "      <td>23.45</td>\n",
       "      <td>NaN</td>\n",
       "      <td>S</td>\n",
       "      <td>NaN</td>\n",
       "    </tr>\n",
       "    <tr>\n",
       "      <th>890</th>\n",
       "      <td>1</td>\n",
       "      <td>1</td>\n",
       "      <td>Behr, Mr. Karl Howell</td>\n",
       "      <td>male</td>\n",
       "      <td>26.0</td>\n",
       "      <td>0</td>\n",
       "      <td>0</td>\n",
       "      <td>111369</td>\n",
       "      <td>30.00</td>\n",
       "      <td>C148</td>\n",
       "      <td>C</td>\n",
       "      <td>adult</td>\n",
       "    </tr>\n",
       "    <tr>\n",
       "      <th>891</th>\n",
       "      <td>0</td>\n",
       "      <td>3</td>\n",
       "      <td>Dooley, Mr. Patrick</td>\n",
       "      <td>male</td>\n",
       "      <td>32.0</td>\n",
       "      <td>0</td>\n",
       "      <td>0</td>\n",
       "      <td>370376</td>\n",
       "      <td>7.75</td>\n",
       "      <td>NaN</td>\n",
       "      <td>Q</td>\n",
       "      <td>adult</td>\n",
       "    </tr>\n",
       "  </tbody>\n",
       "</table>\n",
       "</div>"
      ],
      "text/plain": [
       "             Survived  Pclass                                      Name  \\\n",
       "PassengerId                                                               \n",
       "887                 0       2                     Montvila, Rev. Juozas   \n",
       "888                 1       1              Graham, Miss. Margaret Edith   \n",
       "889                 0       3  Johnston, Miss. Catherine Helen \"Carrie\"   \n",
       "890                 1       1                     Behr, Mr. Karl Howell   \n",
       "891                 0       3                       Dooley, Mr. Patrick   \n",
       "\n",
       "                Sex   Age  SibSp  Parch      Ticket   Fare Cabin Embarked  \\\n",
       "PassengerId                                                                 \n",
       "887            male  27.0      0      0      211536  13.00   NaN        S   \n",
       "888          female  19.0      0      0      112053  30.00   B42        S   \n",
       "889          female   NaN      1      2  W./C. 6607  23.45   NaN        S   \n",
       "890            male  26.0      0      0      111369  30.00  C148        C   \n",
       "891            male  32.0      0      0      370376   7.75   NaN        Q   \n",
       "\n",
       "              desc  \n",
       "PassengerId         \n",
       "887          adult  \n",
       "888          adult  \n",
       "889            NaN  \n",
       "890          adult  \n",
       "891          adult  "
      ]
     },
     "execution_count": 31,
     "metadata": {},
     "output_type": "execute_result"
    }
   ],
   "source": [
    "df_new1.tail()"
   ]
  },
  {
   "cell_type": "markdown",
   "id": "db4ced60",
   "metadata": {
    "papermill": {
     "duration": 0.026818,
     "end_time": "2022-08-08T18:50:29.762754",
     "exception": false,
     "start_time": "2022-08-08T18:50:29.735936",
     "status": "completed"
    },
    "tags": []
   },
   "source": [
    "lets use df_new itself"
   ]
  },
  {
   "cell_type": "markdown",
   "id": "05df859e",
   "metadata": {
    "papermill": {
     "duration": 0.026005,
     "end_time": "2022-08-08T18:50:29.815349",
     "exception": false,
     "start_time": "2022-08-08T18:50:29.789344",
     "status": "completed"
    },
    "tags": []
   },
   "source": [
    "we can now have 6 groups and based on this, we can fill the values for \"Age\" for male child, female child, male adult, female adult and so on..."
   ]
  },
  {
   "cell_type": "code",
   "execution_count": 32,
   "id": "e00a6047",
   "metadata": {
    "execution": {
     "iopub.execute_input": "2022-08-08T18:50:29.869039Z",
     "iopub.status.busy": "2022-08-08T18:50:29.868618Z",
     "iopub.status.idle": "2022-08-08T18:50:29.875042Z",
     "shell.execute_reply": "2022-08-08T18:50:29.873770Z"
    },
    "papermill": {
     "duration": 0.036569,
     "end_time": "2022-08-08T18:50:29.877910",
     "exception": false,
     "start_time": "2022-08-08T18:50:29.841341",
     "status": "completed"
    },
    "tags": []
   },
   "outputs": [],
   "source": [
    "grp3=df_new.groupby('Desc')"
   ]
  },
  {
   "cell_type": "code",
   "execution_count": 33,
   "id": "660a5e8c",
   "metadata": {
    "execution": {
     "iopub.execute_input": "2022-08-08T18:50:29.932797Z",
     "iopub.status.busy": "2022-08-08T18:50:29.931903Z",
     "iopub.status.idle": "2022-08-08T18:50:29.951943Z",
     "shell.execute_reply": "2022-08-08T18:50:29.951027Z"
    },
    "papermill": {
     "duration": 0.049757,
     "end_time": "2022-08-08T18:50:29.954304",
     "exception": false,
     "start_time": "2022-08-08T18:50:29.904547",
     "status": "completed"
    },
    "tags": []
   },
   "outputs": [
    {
     "data": {
      "text/html": [
       "<div>\n",
       "<style scoped>\n",
       "    .dataframe tbody tr th:only-of-type {\n",
       "        vertical-align: middle;\n",
       "    }\n",
       "\n",
       "    .dataframe tbody tr th {\n",
       "        vertical-align: top;\n",
       "    }\n",
       "\n",
       "    .dataframe thead th {\n",
       "        text-align: right;\n",
       "    }\n",
       "</style>\n",
       "<table border=\"1\" class=\"dataframe\">\n",
       "  <thead>\n",
       "    <tr style=\"text-align: right;\">\n",
       "      <th></th>\n",
       "      <th>Survived</th>\n",
       "      <th>Pclass</th>\n",
       "      <th>Name</th>\n",
       "      <th>Sex</th>\n",
       "      <th>Age</th>\n",
       "      <th>SibSp</th>\n",
       "      <th>Parch</th>\n",
       "      <th>Ticket</th>\n",
       "      <th>Fare</th>\n",
       "      <th>Cabin</th>\n",
       "      <th>Embarked</th>\n",
       "    </tr>\n",
       "    <tr>\n",
       "      <th>Desc</th>\n",
       "      <th></th>\n",
       "      <th></th>\n",
       "      <th></th>\n",
       "      <th></th>\n",
       "      <th></th>\n",
       "      <th></th>\n",
       "      <th></th>\n",
       "      <th></th>\n",
       "      <th></th>\n",
       "      <th></th>\n",
       "      <th></th>\n",
       "    </tr>\n",
       "  </thead>\n",
       "  <tbody>\n",
       "    <tr>\n",
       "      <th>adult</th>\n",
       "      <td>0</td>\n",
       "      <td>3</td>\n",
       "      <td>Braund, Mr. Owen Harris</td>\n",
       "      <td>male</td>\n",
       "      <td>22.0</td>\n",
       "      <td>1</td>\n",
       "      <td>0</td>\n",
       "      <td>A/5 21171</td>\n",
       "      <td>7.2500</td>\n",
       "      <td>C85</td>\n",
       "      <td>S</td>\n",
       "    </tr>\n",
       "    <tr>\n",
       "      <th>child</th>\n",
       "      <td>0</td>\n",
       "      <td>3</td>\n",
       "      <td>Palsson, Master. Gosta Leonard</td>\n",
       "      <td>male</td>\n",
       "      <td>2.0</td>\n",
       "      <td>3</td>\n",
       "      <td>1</td>\n",
       "      <td>349909</td>\n",
       "      <td>21.0750</td>\n",
       "      <td>G6</td>\n",
       "      <td>S</td>\n",
       "    </tr>\n",
       "    <tr>\n",
       "      <th>oldage</th>\n",
       "      <td>0</td>\n",
       "      <td>1</td>\n",
       "      <td>McCarthy, Mr. Timothy J</td>\n",
       "      <td>male</td>\n",
       "      <td>54.0</td>\n",
       "      <td>0</td>\n",
       "      <td>0</td>\n",
       "      <td>17463</td>\n",
       "      <td>51.8625</td>\n",
       "      <td>E46</td>\n",
       "      <td>S</td>\n",
       "    </tr>\n",
       "  </tbody>\n",
       "</table>\n",
       "</div>"
      ],
      "text/plain": [
       "        Survived  Pclass                            Name   Sex   Age  SibSp  \\\n",
       "Desc                                                                          \n",
       "adult          0       3         Braund, Mr. Owen Harris  male  22.0      1   \n",
       "child          0       3  Palsson, Master. Gosta Leonard  male   2.0      3   \n",
       "oldage         0       1         McCarthy, Mr. Timothy J  male  54.0      0   \n",
       "\n",
       "        Parch     Ticket     Fare Cabin Embarked  \n",
       "Desc                                              \n",
       "adult       0  A/5 21171   7.2500   C85        S  \n",
       "child       1     349909  21.0750    G6        S  \n",
       "oldage      0      17463  51.8625   E46        S  "
      ]
     },
     "execution_count": 33,
     "metadata": {},
     "output_type": "execute_result"
    }
   ],
   "source": [
    "grp3.first()"
   ]
  },
  {
   "cell_type": "code",
   "execution_count": 34,
   "id": "f2ee01ac",
   "metadata": {
    "execution": {
     "iopub.execute_input": "2022-08-08T18:50:30.011104Z",
     "iopub.status.busy": "2022-08-08T18:50:30.010055Z",
     "iopub.status.idle": "2022-08-08T18:50:30.017949Z",
     "shell.execute_reply": "2022-08-08T18:50:30.016628Z"
    },
    "papermill": {
     "duration": 0.0389,
     "end_time": "2022-08-08T18:50:30.020641",
     "exception": false,
     "start_time": "2022-08-08T18:50:29.981741",
     "status": "completed"
    },
    "tags": []
   },
   "outputs": [],
   "source": [
    "grp4=df_new.groupby(['Desc','Sex'])"
   ]
  },
  {
   "cell_type": "code",
   "execution_count": 35,
   "id": "e4dcb5a8",
   "metadata": {
    "execution": {
     "iopub.execute_input": "2022-08-08T18:50:30.075693Z",
     "iopub.status.busy": "2022-08-08T18:50:30.075233Z",
     "iopub.status.idle": "2022-08-08T18:50:30.096004Z",
     "shell.execute_reply": "2022-08-08T18:50:30.095162Z"
    },
    "papermill": {
     "duration": 0.050904,
     "end_time": "2022-08-08T18:50:30.098275",
     "exception": false,
     "start_time": "2022-08-08T18:50:30.047371",
     "status": "completed"
    },
    "tags": []
   },
   "outputs": [
    {
     "data": {
      "text/html": [
       "<div>\n",
       "<style scoped>\n",
       "    .dataframe tbody tr th:only-of-type {\n",
       "        vertical-align: middle;\n",
       "    }\n",
       "\n",
       "    .dataframe tbody tr th {\n",
       "        vertical-align: top;\n",
       "    }\n",
       "\n",
       "    .dataframe thead th {\n",
       "        text-align: right;\n",
       "    }\n",
       "</style>\n",
       "<table border=\"1\" class=\"dataframe\">\n",
       "  <thead>\n",
       "    <tr style=\"text-align: right;\">\n",
       "      <th></th>\n",
       "      <th></th>\n",
       "      <th>Survived</th>\n",
       "      <th>Pclass</th>\n",
       "      <th>Name</th>\n",
       "      <th>Age</th>\n",
       "      <th>SibSp</th>\n",
       "      <th>Parch</th>\n",
       "      <th>Ticket</th>\n",
       "      <th>Fare</th>\n",
       "      <th>Cabin</th>\n",
       "      <th>Embarked</th>\n",
       "    </tr>\n",
       "    <tr>\n",
       "      <th>Desc</th>\n",
       "      <th>Sex</th>\n",
       "      <th></th>\n",
       "      <th></th>\n",
       "      <th></th>\n",
       "      <th></th>\n",
       "      <th></th>\n",
       "      <th></th>\n",
       "      <th></th>\n",
       "      <th></th>\n",
       "      <th></th>\n",
       "      <th></th>\n",
       "    </tr>\n",
       "  </thead>\n",
       "  <tbody>\n",
       "    <tr>\n",
       "      <th rowspan=\"2\" valign=\"top\">adult</th>\n",
       "      <th>female</th>\n",
       "      <td>1</td>\n",
       "      <td>1</td>\n",
       "      <td>Cumings, Mrs. John Bradley (Florence Briggs Th...</td>\n",
       "      <td>38.0</td>\n",
       "      <td>1</td>\n",
       "      <td>0</td>\n",
       "      <td>PC 17599</td>\n",
       "      <td>71.2833</td>\n",
       "      <td>C85</td>\n",
       "      <td>C</td>\n",
       "    </tr>\n",
       "    <tr>\n",
       "      <th>male</th>\n",
       "      <td>0</td>\n",
       "      <td>3</td>\n",
       "      <td>Braund, Mr. Owen Harris</td>\n",
       "      <td>22.0</td>\n",
       "      <td>1</td>\n",
       "      <td>0</td>\n",
       "      <td>A/5 21171</td>\n",
       "      <td>7.2500</td>\n",
       "      <td>D56</td>\n",
       "      <td>S</td>\n",
       "    </tr>\n",
       "    <tr>\n",
       "      <th rowspan=\"2\" valign=\"top\">child</th>\n",
       "      <th>female</th>\n",
       "      <td>1</td>\n",
       "      <td>2</td>\n",
       "      <td>Nasser, Mrs. Nicholas (Adele Achem)</td>\n",
       "      <td>14.0</td>\n",
       "      <td>1</td>\n",
       "      <td>0</td>\n",
       "      <td>237736</td>\n",
       "      <td>30.0708</td>\n",
       "      <td>G6</td>\n",
       "      <td>C</td>\n",
       "    </tr>\n",
       "    <tr>\n",
       "      <th>male</th>\n",
       "      <td>0</td>\n",
       "      <td>3</td>\n",
       "      <td>Palsson, Master. Gosta Leonard</td>\n",
       "      <td>2.0</td>\n",
       "      <td>3</td>\n",
       "      <td>1</td>\n",
       "      <td>349909</td>\n",
       "      <td>21.0750</td>\n",
       "      <td>F4</td>\n",
       "      <td>S</td>\n",
       "    </tr>\n",
       "    <tr>\n",
       "      <th rowspan=\"2\" valign=\"top\">oldage</th>\n",
       "      <th>female</th>\n",
       "      <td>1</td>\n",
       "      <td>1</td>\n",
       "      <td>Bonnell, Miss. Elizabeth</td>\n",
       "      <td>58.0</td>\n",
       "      <td>0</td>\n",
       "      <td>0</td>\n",
       "      <td>113783</td>\n",
       "      <td>26.5500</td>\n",
       "      <td>C103</td>\n",
       "      <td>S</td>\n",
       "    </tr>\n",
       "    <tr>\n",
       "      <th>male</th>\n",
       "      <td>0</td>\n",
       "      <td>1</td>\n",
       "      <td>McCarthy, Mr. Timothy J</td>\n",
       "      <td>54.0</td>\n",
       "      <td>0</td>\n",
       "      <td>0</td>\n",
       "      <td>17463</td>\n",
       "      <td>51.8625</td>\n",
       "      <td>E46</td>\n",
       "      <td>S</td>\n",
       "    </tr>\n",
       "  </tbody>\n",
       "</table>\n",
       "</div>"
      ],
      "text/plain": [
       "               Survived  Pclass  \\\n",
       "Desc   Sex                        \n",
       "adult  female         1       1   \n",
       "       male           0       3   \n",
       "child  female         1       2   \n",
       "       male           0       3   \n",
       "oldage female         1       1   \n",
       "       male           0       1   \n",
       "\n",
       "                                                            Name   Age  SibSp  \\\n",
       "Desc   Sex                                                                      \n",
       "adult  female  Cumings, Mrs. John Bradley (Florence Briggs Th...  38.0      1   \n",
       "       male                              Braund, Mr. Owen Harris  22.0      1   \n",
       "child  female                Nasser, Mrs. Nicholas (Adele Achem)  14.0      1   \n",
       "       male                       Palsson, Master. Gosta Leonard   2.0      3   \n",
       "oldage female                           Bonnell, Miss. Elizabeth  58.0      0   \n",
       "       male                              McCarthy, Mr. Timothy J  54.0      0   \n",
       "\n",
       "               Parch     Ticket     Fare Cabin Embarked  \n",
       "Desc   Sex                                               \n",
       "adult  female      0   PC 17599  71.2833   C85        C  \n",
       "       male        0  A/5 21171   7.2500   D56        S  \n",
       "child  female      0     237736  30.0708    G6        C  \n",
       "       male        1     349909  21.0750    F4        S  \n",
       "oldage female      0     113783  26.5500  C103        S  \n",
       "       male        0      17463  51.8625   E46        S  "
      ]
     },
     "execution_count": 35,
     "metadata": {},
     "output_type": "execute_result"
    }
   ],
   "source": [
    "grp4.first()"
   ]
  },
  {
   "cell_type": "code",
   "execution_count": 36,
   "id": "b9734ca0",
   "metadata": {
    "execution": {
     "iopub.execute_input": "2022-08-08T18:50:30.153392Z",
     "iopub.status.busy": "2022-08-08T18:50:30.152602Z",
     "iopub.status.idle": "2022-08-08T18:50:30.162986Z",
     "shell.execute_reply": "2022-08-08T18:50:30.161795Z"
    },
    "papermill": {
     "duration": 0.040819,
     "end_time": "2022-08-08T18:50:30.165607",
     "exception": false,
     "start_time": "2022-08-08T18:50:30.124788",
     "status": "completed"
    },
    "tags": []
   },
   "outputs": [
    {
     "data": {
      "text/plain": [
       "Desc    Sex   \n",
       "adult   female    29.454545\n",
       "        male      29.079193\n",
       "child   female     9.236364\n",
       "        male       8.856379\n",
       "oldage  female    53.133333\n",
       "        male      55.369863\n",
       "Name: Age, dtype: float64"
      ]
     },
     "execution_count": 36,
     "metadata": {},
     "output_type": "execute_result"
    }
   ],
   "source": [
    "grp4['Age'].mean()"
   ]
  },
  {
   "cell_type": "markdown",
   "id": "5e19f65d",
   "metadata": {
    "papermill": {
     "duration": 0.026955,
     "end_time": "2022-08-08T18:50:30.219521",
     "exception": false,
     "start_time": "2022-08-08T18:50:30.192566",
     "status": "completed"
    },
    "tags": []
   },
   "source": [
    "We can replace the corresponding values of age "
   ]
  },
  {
   "cell_type": "markdown",
   "id": "c7d5c188",
   "metadata": {
    "papermill": {
     "duration": 0.046709,
     "end_time": "2022-08-08T18:50:30.293698",
     "exception": false,
     "start_time": "2022-08-08T18:50:30.246989",
     "status": "completed"
    },
    "tags": []
   },
   "source": [
    "We will here use TRANSFORM function.\n",
    "here we give a lambda function as argument"
   ]
  },
  {
   "cell_type": "code",
   "execution_count": 37,
   "id": "24c77587",
   "metadata": {
    "execution": {
     "iopub.execute_input": "2022-08-08T18:50:30.354835Z",
     "iopub.status.busy": "2022-08-08T18:50:30.354209Z",
     "iopub.status.idle": "2022-08-08T18:50:30.367950Z",
     "shell.execute_reply": "2022-08-08T18:50:30.366797Z"
    },
    "papermill": {
     "duration": 0.047747,
     "end_time": "2022-08-08T18:50:30.370716",
     "exception": false,
     "start_time": "2022-08-08T18:50:30.322969",
     "status": "completed"
    },
    "tags": []
   },
   "outputs": [],
   "source": [
    "df_new['Age']=grp4['Age'].transform(lambda x: x.fillna(x.mean()))"
   ]
  },
  {
   "cell_type": "markdown",
   "id": "e8c8f1cf",
   "metadata": {
    "papermill": {
     "duration": 0.029786,
     "end_time": "2022-08-08T18:50:30.431839",
     "exception": false,
     "start_time": "2022-08-08T18:50:30.402053",
     "status": "completed"
    },
    "tags": []
   },
   "source": [
    "Now the null values are filled."
   ]
  },
  {
   "cell_type": "code",
   "execution_count": 38,
   "id": "f30bb370",
   "metadata": {
    "execution": {
     "iopub.execute_input": "2022-08-08T18:50:30.493028Z",
     "iopub.status.busy": "2022-08-08T18:50:30.492090Z",
     "iopub.status.idle": "2022-08-08T18:50:30.513655Z",
     "shell.execute_reply": "2022-08-08T18:50:30.512348Z"
    },
    "papermill": {
     "duration": 0.055164,
     "end_time": "2022-08-08T18:50:30.516259",
     "exception": false,
     "start_time": "2022-08-08T18:50:30.461095",
     "status": "completed"
    },
    "tags": []
   },
   "outputs": [
    {
     "data": {
      "text/html": [
       "<div>\n",
       "<style scoped>\n",
       "    .dataframe tbody tr th:only-of-type {\n",
       "        vertical-align: middle;\n",
       "    }\n",
       "\n",
       "    .dataframe tbody tr th {\n",
       "        vertical-align: top;\n",
       "    }\n",
       "\n",
       "    .dataframe thead th {\n",
       "        text-align: right;\n",
       "    }\n",
       "</style>\n",
       "<table border=\"1\" class=\"dataframe\">\n",
       "  <thead>\n",
       "    <tr style=\"text-align: right;\">\n",
       "      <th></th>\n",
       "      <th>Survived</th>\n",
       "      <th>Pclass</th>\n",
       "      <th>Name</th>\n",
       "      <th>Sex</th>\n",
       "      <th>Age</th>\n",
       "      <th>SibSp</th>\n",
       "      <th>Parch</th>\n",
       "      <th>Ticket</th>\n",
       "      <th>Fare</th>\n",
       "      <th>Cabin</th>\n",
       "      <th>Embarked</th>\n",
       "      <th>Desc</th>\n",
       "    </tr>\n",
       "    <tr>\n",
       "      <th>PassengerId</th>\n",
       "      <th></th>\n",
       "      <th></th>\n",
       "      <th></th>\n",
       "      <th></th>\n",
       "      <th></th>\n",
       "      <th></th>\n",
       "      <th></th>\n",
       "      <th></th>\n",
       "      <th></th>\n",
       "      <th></th>\n",
       "      <th></th>\n",
       "      <th></th>\n",
       "    </tr>\n",
       "  </thead>\n",
       "  <tbody>\n",
       "    <tr>\n",
       "      <th>64</th>\n",
       "      <td>0</td>\n",
       "      <td>3</td>\n",
       "      <td>Skoog, Master. Harald</td>\n",
       "      <td>male</td>\n",
       "      <td>4.00</td>\n",
       "      <td>3</td>\n",
       "      <td>2</td>\n",
       "      <td>347088</td>\n",
       "      <td>27.9000</td>\n",
       "      <td>NaN</td>\n",
       "      <td>S</td>\n",
       "      <td>child</td>\n",
       "    </tr>\n",
       "    <tr>\n",
       "      <th>69</th>\n",
       "      <td>1</td>\n",
       "      <td>3</td>\n",
       "      <td>Andersson, Miss. Erna Alexandra</td>\n",
       "      <td>female</td>\n",
       "      <td>17.00</td>\n",
       "      <td>4</td>\n",
       "      <td>2</td>\n",
       "      <td>3101281</td>\n",
       "      <td>7.9250</td>\n",
       "      <td>NaN</td>\n",
       "      <td>S</td>\n",
       "      <td>child</td>\n",
       "    </tr>\n",
       "    <tr>\n",
       "      <th>72</th>\n",
       "      <td>0</td>\n",
       "      <td>3</td>\n",
       "      <td>Goodwin, Miss. Lillian Amy</td>\n",
       "      <td>female</td>\n",
       "      <td>16.00</td>\n",
       "      <td>5</td>\n",
       "      <td>2</td>\n",
       "      <td>CA 2144</td>\n",
       "      <td>46.9000</td>\n",
       "      <td>NaN</td>\n",
       "      <td>S</td>\n",
       "      <td>child</td>\n",
       "    </tr>\n",
       "    <tr>\n",
       "      <th>79</th>\n",
       "      <td>1</td>\n",
       "      <td>2</td>\n",
       "      <td>Caldwell, Master. Alden Gates</td>\n",
       "      <td>male</td>\n",
       "      <td>0.83</td>\n",
       "      <td>0</td>\n",
       "      <td>2</td>\n",
       "      <td>248738</td>\n",
       "      <td>29.0000</td>\n",
       "      <td>NaN</td>\n",
       "      <td>S</td>\n",
       "      <td>child</td>\n",
       "    </tr>\n",
       "    <tr>\n",
       "      <th>85</th>\n",
       "      <td>1</td>\n",
       "      <td>2</td>\n",
       "      <td>Ilett, Miss. Bertha</td>\n",
       "      <td>female</td>\n",
       "      <td>17.00</td>\n",
       "      <td>0</td>\n",
       "      <td>0</td>\n",
       "      <td>SO/C 14885</td>\n",
       "      <td>10.5000</td>\n",
       "      <td>NaN</td>\n",
       "      <td>S</td>\n",
       "      <td>child</td>\n",
       "    </tr>\n",
       "    <tr>\n",
       "      <th>87</th>\n",
       "      <td>0</td>\n",
       "      <td>3</td>\n",
       "      <td>Ford, Mr. William Neal</td>\n",
       "      <td>male</td>\n",
       "      <td>16.00</td>\n",
       "      <td>1</td>\n",
       "      <td>3</td>\n",
       "      <td>W./C. 6608</td>\n",
       "      <td>34.3750</td>\n",
       "      <td>NaN</td>\n",
       "      <td>S</td>\n",
       "      <td>child</td>\n",
       "    </tr>\n",
       "    <tr>\n",
       "      <th>112</th>\n",
       "      <td>0</td>\n",
       "      <td>3</td>\n",
       "      <td>Zabour, Miss. Hileni</td>\n",
       "      <td>female</td>\n",
       "      <td>14.50</td>\n",
       "      <td>1</td>\n",
       "      <td>0</td>\n",
       "      <td>2665</td>\n",
       "      <td>14.4542</td>\n",
       "      <td>NaN</td>\n",
       "      <td>C</td>\n",
       "      <td>child</td>\n",
       "    </tr>\n",
       "    <tr>\n",
       "      <th>115</th>\n",
       "      <td>0</td>\n",
       "      <td>3</td>\n",
       "      <td>Attalah, Miss. Malake</td>\n",
       "      <td>female</td>\n",
       "      <td>17.00</td>\n",
       "      <td>0</td>\n",
       "      <td>0</td>\n",
       "      <td>2627</td>\n",
       "      <td>14.4583</td>\n",
       "      <td>NaN</td>\n",
       "      <td>C</td>\n",
       "      <td>child</td>\n",
       "    </tr>\n",
       "    <tr>\n",
       "      <th>120</th>\n",
       "      <td>0</td>\n",
       "      <td>3</td>\n",
       "      <td>Andersson, Miss. Ellis Anna Maria</td>\n",
       "      <td>female</td>\n",
       "      <td>2.00</td>\n",
       "      <td>4</td>\n",
       "      <td>2</td>\n",
       "      <td>347082</td>\n",
       "      <td>31.2750</td>\n",
       "      <td>NaN</td>\n",
       "      <td>S</td>\n",
       "      <td>child</td>\n",
       "    </tr>\n",
       "    <tr>\n",
       "      <th>126</th>\n",
       "      <td>1</td>\n",
       "      <td>3</td>\n",
       "      <td>Nicola-Yarred, Master. Elias</td>\n",
       "      <td>male</td>\n",
       "      <td>12.00</td>\n",
       "      <td>1</td>\n",
       "      <td>0</td>\n",
       "      <td>2651</td>\n",
       "      <td>11.2417</td>\n",
       "      <td>NaN</td>\n",
       "      <td>C</td>\n",
       "      <td>child</td>\n",
       "    </tr>\n",
       "    <tr>\n",
       "      <th>139</th>\n",
       "      <td>0</td>\n",
       "      <td>3</td>\n",
       "      <td>Osen, Mr. Olaf Elon</td>\n",
       "      <td>male</td>\n",
       "      <td>16.00</td>\n",
       "      <td>0</td>\n",
       "      <td>0</td>\n",
       "      <td>7534</td>\n",
       "      <td>9.2167</td>\n",
       "      <td>NaN</td>\n",
       "      <td>S</td>\n",
       "      <td>child</td>\n",
       "    </tr>\n",
       "    <tr>\n",
       "      <th>148</th>\n",
       "      <td>0</td>\n",
       "      <td>3</td>\n",
       "      <td>Ford, Miss. Robina Maggie \"Ruby\"</td>\n",
       "      <td>female</td>\n",
       "      <td>9.00</td>\n",
       "      <td>2</td>\n",
       "      <td>2</td>\n",
       "      <td>W./C. 6608</td>\n",
       "      <td>34.3750</td>\n",
       "      <td>NaN</td>\n",
       "      <td>S</td>\n",
       "      <td>child</td>\n",
       "    </tr>\n",
       "    <tr>\n",
       "      <th>157</th>\n",
       "      <td>1</td>\n",
       "      <td>3</td>\n",
       "      <td>Gilnagh, Miss. Katherine \"Katie\"</td>\n",
       "      <td>female</td>\n",
       "      <td>16.00</td>\n",
       "      <td>0</td>\n",
       "      <td>0</td>\n",
       "      <td>35851</td>\n",
       "      <td>7.7333</td>\n",
       "      <td>NaN</td>\n",
       "      <td>Q</td>\n",
       "      <td>child</td>\n",
       "    </tr>\n",
       "  </tbody>\n",
       "</table>\n",
       "</div>"
      ],
      "text/plain": [
       "             Survived  Pclass                               Name     Sex  \\\n",
       "PassengerId                                                                \n",
       "64                  0       3              Skoog, Master. Harald    male   \n",
       "69                  1       3    Andersson, Miss. Erna Alexandra  female   \n",
       "72                  0       3         Goodwin, Miss. Lillian Amy  female   \n",
       "79                  1       2      Caldwell, Master. Alden Gates    male   \n",
       "85                  1       2                Ilett, Miss. Bertha  female   \n",
       "87                  0       3             Ford, Mr. William Neal    male   \n",
       "112                 0       3               Zabour, Miss. Hileni  female   \n",
       "115                 0       3              Attalah, Miss. Malake  female   \n",
       "120                 0       3  Andersson, Miss. Ellis Anna Maria  female   \n",
       "126                 1       3       Nicola-Yarred, Master. Elias    male   \n",
       "139                 0       3                Osen, Mr. Olaf Elon    male   \n",
       "148                 0       3   Ford, Miss. Robina Maggie \"Ruby\"  female   \n",
       "157                 1       3   Gilnagh, Miss. Katherine \"Katie\"  female   \n",
       "\n",
       "               Age  SibSp  Parch      Ticket     Fare Cabin Embarked   Desc  \n",
       "PassengerId                                                                  \n",
       "64            4.00      3      2      347088  27.9000   NaN        S  child  \n",
       "69           17.00      4      2     3101281   7.9250   NaN        S  child  \n",
       "72           16.00      5      2     CA 2144  46.9000   NaN        S  child  \n",
       "79            0.83      0      2      248738  29.0000   NaN        S  child  \n",
       "85           17.00      0      0  SO/C 14885  10.5000   NaN        S  child  \n",
       "87           16.00      1      3  W./C. 6608  34.3750   NaN        S  child  \n",
       "112          14.50      1      0        2665  14.4542   NaN        C  child  \n",
       "115          17.00      0      0        2627  14.4583   NaN        C  child  \n",
       "120           2.00      4      2      347082  31.2750   NaN        S  child  \n",
       "126          12.00      1      0        2651  11.2417   NaN        C  child  \n",
       "139          16.00      0      0        7534   9.2167   NaN        S  child  \n",
       "148           9.00      2      2  W./C. 6608  34.3750   NaN        S  child  \n",
       "157          16.00      0      0       35851   7.7333   NaN        Q  child  "
      ]
     },
     "execution_count": 38,
     "metadata": {},
     "output_type": "execute_result"
    }
   ],
   "source": [
    "df_new.iloc[12:25]"
   ]
  },
  {
   "cell_type": "markdown",
   "id": "abd7bd43",
   "metadata": {
    "papermill": {
     "duration": 0.026406,
     "end_time": "2022-08-08T18:50:30.572544",
     "exception": false,
     "start_time": "2022-08-08T18:50:30.546138",
     "status": "completed"
    },
    "tags": []
   },
   "source": [
    "To check if it has outliers. We use boxplot,\n",
    "In this case, Fare can actually have outliers."
   ]
  },
  {
   "cell_type": "code",
   "execution_count": 39,
   "id": "4317d550",
   "metadata": {
    "execution": {
     "iopub.execute_input": "2022-08-08T18:50:30.630918Z",
     "iopub.status.busy": "2022-08-08T18:50:30.630183Z",
     "iopub.status.idle": "2022-08-08T18:50:30.879022Z",
     "shell.execute_reply": "2022-08-08T18:50:30.877792Z"
    },
    "papermill": {
     "duration": 0.282246,
     "end_time": "2022-08-08T18:50:30.882289",
     "exception": false,
     "start_time": "2022-08-08T18:50:30.600043",
     "status": "completed"
    },
    "tags": []
   },
   "outputs": [
    {
     "data": {
      "text/plain": [
       "<AxesSubplot:>"
      ]
     },
     "execution_count": 39,
     "metadata": {},
     "output_type": "execute_result"
    },
    {
     "data": {
      "image/png": "[encoded data removed]",
      "text/plain": [
       "<Figure size 432x288 with 1 Axes>"
      ]
     },
     "metadata": {
      "needs_background": "light"
     },
     "output_type": "display_data"
    }
   ],
   "source": [
    "df_new.boxplot(column='Fare')"
   ]
  },
  {
   "cell_type": "markdown",
   "id": "39baa90b",
   "metadata": {
    "papermill": {
     "duration": 0.027208,
     "end_time": "2022-08-08T18:50:30.936516",
     "exception": false,
     "start_time": "2022-08-08T18:50:30.909308",
     "status": "completed"
    },
    "tags": []
   },
   "source": [
    " we try to get rid out outliers but avoiding the rows having those large or small values. \n",
    "We will use 1st quartile, 3rd quartile, compute the inter quartile range and then compute lower and upper values.\n",
    "\n",
    "Lower= Q1 -1.5* IQR\n",
    "\n",
    "Upper= Q3 + 1.5* IQR\n"
   ]
  },
  {
   "cell_type": "code",
   "execution_count": 40,
   "id": "17bbfd30",
   "metadata": {
    "execution": {
     "iopub.execute_input": "2022-08-08T18:50:30.994538Z",
     "iopub.status.busy": "2022-08-08T18:50:30.993762Z",
     "iopub.status.idle": "2022-08-08T18:50:31.000782Z",
     "shell.execute_reply": "2022-08-08T18:50:30.999563Z"
    },
    "papermill": {
     "duration": 0.039608,
     "end_time": "2022-08-08T18:50:31.003533",
     "exception": false,
     "start_time": "2022-08-08T18:50:30.963925",
     "status": "completed"
    },
    "tags": []
   },
   "outputs": [],
   "source": [
    "def IQR(data,col):\n",
    "    \n",
    "    q1=data[col].quantile(0.25)\n",
    "    q3=data[col].quantile(0.75)\n",
    "    \n",
    "    iqr=q3-q1\n",
    "    lower= q1- 1.5*iqr\n",
    "    upper= q3+ 1.5*iqr\n",
    "    return (lower,upper)\n",
    "\n"
   ]
  },
  {
   "cell_type": "code",
   "execution_count": 41,
   "id": "a7e8f8d3",
   "metadata": {
    "execution": {
     "iopub.execute_input": "2022-08-08T18:50:31.060855Z",
     "iopub.status.busy": "2022-08-08T18:50:31.060394Z",
     "iopub.status.idle": "2022-08-08T18:50:31.071475Z",
     "shell.execute_reply": "2022-08-08T18:50:31.070309Z"
    },
    "papermill": {
     "duration": 0.043472,
     "end_time": "2022-08-08T18:50:31.074514",
     "exception": false,
     "start_time": "2022-08-08T18:50:31.031042",
     "status": "completed"
    },
    "tags": []
   },
   "outputs": [
    {
     "name": "stdout",
     "output_type": "stream",
     "text": [
      "lower :  -29.937499999999996 \n",
      "upper :  71.3625\n"
     ]
    }
   ],
   "source": [
    "lower,upper=IQR(df_new,\"Fare\")\n",
    "print(\"lower : \",lower,\"\\nupper : \",upper)"
   ]
  },
  {
   "cell_type": "code",
   "execution_count": 42,
   "id": "de5510f9",
   "metadata": {
    "execution": {
     "iopub.execute_input": "2022-08-08T18:50:31.133491Z",
     "iopub.status.busy": "2022-08-08T18:50:31.133012Z",
     "iopub.status.idle": "2022-08-08T18:50:31.143092Z",
     "shell.execute_reply": "2022-08-08T18:50:31.140859Z"
    },
    "papermill": {
     "duration": 0.043566,
     "end_time": "2022-08-08T18:50:31.146715",
     "exception": false,
     "start_time": "2022-08-08T18:50:31.103149",
     "status": "completed"
    },
    "tags": []
   },
   "outputs": [],
   "source": [
    "df_new3=df_new[(df_new['Fare']>lower) & (df_new['Fare']<upper)]"
   ]
  },
  {
   "cell_type": "code",
   "execution_count": 43,
   "id": "67a1e80d",
   "metadata": {
    "execution": {
     "iopub.execute_input": "2022-08-08T18:50:31.208046Z",
     "iopub.status.busy": "2022-08-08T18:50:31.207650Z",
     "iopub.status.idle": "2022-08-08T18:50:31.215615Z",
     "shell.execute_reply": "2022-08-08T18:50:31.214248Z"
    },
    "papermill": {
     "duration": 0.041089,
     "end_time": "2022-08-08T18:50:31.218192",
     "exception": false,
     "start_time": "2022-08-08T18:50:31.177103",
     "status": "completed"
    },
    "tags": []
   },
   "outputs": [
    {
     "data": {
      "text/plain": [
       "(714, 12)"
      ]
     },
     "execution_count": 43,
     "metadata": {},
     "output_type": "execute_result"
    }
   ],
   "source": [
    "df_new.shape"
   ]
  },
  {
   "cell_type": "code",
   "execution_count": 44,
   "id": "cdbb2766",
   "metadata": {
    "execution": {
     "iopub.execute_input": "2022-08-08T18:50:31.277958Z",
     "iopub.status.busy": "2022-08-08T18:50:31.277548Z",
     "iopub.status.idle": "2022-08-08T18:50:31.283606Z",
     "shell.execute_reply": "2022-08-08T18:50:31.282748Z"
    },
    "papermill": {
     "duration": 0.038815,
     "end_time": "2022-08-08T18:50:31.285943",
     "exception": false,
     "start_time": "2022-08-08T18:50:31.247128",
     "status": "completed"
    },
    "tags": []
   },
   "outputs": [
    {
     "data": {
      "text/plain": [
       "(620, 12)"
      ]
     },
     "execution_count": 44,
     "metadata": {},
     "output_type": "execute_result"
    }
   ],
   "source": [
    "df_new3.shape"
   ]
  },
  {
   "cell_type": "markdown",
   "id": "f9d76603",
   "metadata": {
    "papermill": {
     "duration": 0.030046,
     "end_time": "2022-08-08T18:50:31.345687",
     "exception": false,
     "start_time": "2022-08-08T18:50:31.315641",
     "status": "completed"
    },
    "tags": []
   },
   "source": [
    "By comparing the shape, we see that, 94 rows are not there. I dont think we have any more null values in Fare or Age. LETS CHECK"
   ]
  },
  {
   "cell_type": "code",
   "execution_count": 45,
   "id": "8efc7ad7",
   "metadata": {
    "execution": {
     "iopub.execute_input": "2022-08-08T18:50:31.406274Z",
     "iopub.status.busy": "2022-08-08T18:50:31.405838Z",
     "iopub.status.idle": "2022-08-08T18:50:31.416296Z",
     "shell.execute_reply": "2022-08-08T18:50:31.415009Z"
    },
    "papermill": {
     "duration": 0.044023,
     "end_time": "2022-08-08T18:50:31.419021",
     "exception": false,
     "start_time": "2022-08-08T18:50:31.374998",
     "status": "completed"
    },
    "tags": []
   },
   "outputs": [
    {
     "data": {
      "text/plain": [
       "Survived      0\n",
       "Pclass        0\n",
       "Name          0\n",
       "Sex           0\n",
       "Age           0\n",
       "SibSp         0\n",
       "Parch         0\n",
       "Ticket        0\n",
       "Fare          0\n",
       "Cabin       515\n",
       "Embarked      0\n",
       "Desc          0\n",
       "dtype: int64"
      ]
     },
     "execution_count": 45,
     "metadata": {},
     "output_type": "execute_result"
    }
   ],
   "source": [
    "df_new3.isna().sum()"
   ]
  },
  {
   "cell_type": "markdown",
   "id": "f920c820",
   "metadata": {
    "papermill": {
     "duration": 0.028634,
     "end_time": "2022-08-08T18:50:31.475765",
     "exception": false,
     "start_time": "2022-08-08T18:50:31.447131",
     "status": "completed"
    },
    "tags": []
   },
   "source": [
    "cabin has 515 null vales for 620 rows so we can just drop it."
   ]
  },
  {
   "cell_type": "code",
   "execution_count": 46,
   "id": "25af9093",
   "metadata": {
    "execution": {
     "iopub.execute_input": "2022-08-08T18:50:31.534984Z",
     "iopub.status.busy": "2022-08-08T18:50:31.534558Z",
     "iopub.status.idle": "2022-08-08T18:50:31.542215Z",
     "shell.execute_reply": "2022-08-08T18:50:31.540783Z"
    },
    "papermill": {
     "duration": 0.040857,
     "end_time": "2022-08-08T18:50:31.544751",
     "exception": false,
     "start_time": "2022-08-08T18:50:31.503894",
     "status": "completed"
    },
    "tags": []
   },
   "outputs": [],
   "source": [
    "df_new3=df_new3.drop(['Cabin'],axis=1)"
   ]
  },
  {
   "cell_type": "code",
   "execution_count": 47,
   "id": "b7b976f4",
   "metadata": {
    "execution": {
     "iopub.execute_input": "2022-08-08T18:50:31.604236Z",
     "iopub.status.busy": "2022-08-08T18:50:31.603225Z",
     "iopub.status.idle": "2022-08-08T18:50:31.626674Z",
     "shell.execute_reply": "2022-08-08T18:50:31.625704Z"
    },
    "papermill": {
     "duration": 0.055254,
     "end_time": "2022-08-08T18:50:31.629044",
     "exception": false,
     "start_time": "2022-08-08T18:50:31.573790",
     "status": "completed"
    },
    "tags": []
   },
   "outputs": [
    {
     "data": {
      "text/html": [
       "<div>\n",
       "<style scoped>\n",
       "    .dataframe tbody tr th:only-of-type {\n",
       "        vertical-align: middle;\n",
       "    }\n",
       "\n",
       "    .dataframe tbody tr th {\n",
       "        vertical-align: top;\n",
       "    }\n",
       "\n",
       "    .dataframe thead th {\n",
       "        text-align: right;\n",
       "    }\n",
       "</style>\n",
       "<table border=\"1\" class=\"dataframe\">\n",
       "  <thead>\n",
       "    <tr style=\"text-align: right;\">\n",
       "      <th></th>\n",
       "      <th>Survived</th>\n",
       "      <th>Pclass</th>\n",
       "      <th>Name</th>\n",
       "      <th>Sex</th>\n",
       "      <th>Age</th>\n",
       "      <th>SibSp</th>\n",
       "      <th>Parch</th>\n",
       "      <th>Ticket</th>\n",
       "      <th>Fare</th>\n",
       "      <th>Embarked</th>\n",
       "      <th>Desc</th>\n",
       "    </tr>\n",
       "    <tr>\n",
       "      <th>PassengerId</th>\n",
       "      <th></th>\n",
       "      <th></th>\n",
       "      <th></th>\n",
       "      <th></th>\n",
       "      <th></th>\n",
       "      <th></th>\n",
       "      <th></th>\n",
       "      <th></th>\n",
       "      <th></th>\n",
       "      <th></th>\n",
       "      <th></th>\n",
       "    </tr>\n",
       "  </thead>\n",
       "  <tbody>\n",
       "    <tr>\n",
       "      <th>1</th>\n",
       "      <td>0</td>\n",
       "      <td>3</td>\n",
       "      <td>Braund, Mr. Owen Harris</td>\n",
       "      <td>male</td>\n",
       "      <td>22.0</td>\n",
       "      <td>1</td>\n",
       "      <td>0</td>\n",
       "      <td>A/5 21171</td>\n",
       "      <td>7.2500</td>\n",
       "      <td>S</td>\n",
       "      <td>adult</td>\n",
       "    </tr>\n",
       "    <tr>\n",
       "      <th>2</th>\n",
       "      <td>1</td>\n",
       "      <td>1</td>\n",
       "      <td>Cumings, Mrs. John Bradley (Florence Briggs Th...</td>\n",
       "      <td>female</td>\n",
       "      <td>38.0</td>\n",
       "      <td>1</td>\n",
       "      <td>0</td>\n",
       "      <td>PC 17599</td>\n",
       "      <td>71.2833</td>\n",
       "      <td>C</td>\n",
       "      <td>adult</td>\n",
       "    </tr>\n",
       "    <tr>\n",
       "      <th>3</th>\n",
       "      <td>1</td>\n",
       "      <td>3</td>\n",
       "      <td>Heikkinen, Miss. Laina</td>\n",
       "      <td>female</td>\n",
       "      <td>26.0</td>\n",
       "      <td>0</td>\n",
       "      <td>0</td>\n",
       "      <td>STON/O2. 3101282</td>\n",
       "      <td>7.9250</td>\n",
       "      <td>S</td>\n",
       "      <td>adult</td>\n",
       "    </tr>\n",
       "    <tr>\n",
       "      <th>4</th>\n",
       "      <td>1</td>\n",
       "      <td>1</td>\n",
       "      <td>Futrelle, Mrs. Jacques Heath (Lily May Peel)</td>\n",
       "      <td>female</td>\n",
       "      <td>35.0</td>\n",
       "      <td>1</td>\n",
       "      <td>0</td>\n",
       "      <td>113803</td>\n",
       "      <td>53.1000</td>\n",
       "      <td>S</td>\n",
       "      <td>adult</td>\n",
       "    </tr>\n",
       "    <tr>\n",
       "      <th>5</th>\n",
       "      <td>0</td>\n",
       "      <td>3</td>\n",
       "      <td>Allen, Mr. William Henry</td>\n",
       "      <td>male</td>\n",
       "      <td>35.0</td>\n",
       "      <td>0</td>\n",
       "      <td>0</td>\n",
       "      <td>373450</td>\n",
       "      <td>8.0500</td>\n",
       "      <td>S</td>\n",
       "      <td>adult</td>\n",
       "    </tr>\n",
       "    <tr>\n",
       "      <th>...</th>\n",
       "      <td>...</td>\n",
       "      <td>...</td>\n",
       "      <td>...</td>\n",
       "      <td>...</td>\n",
       "      <td>...</td>\n",
       "      <td>...</td>\n",
       "      <td>...</td>\n",
       "      <td>...</td>\n",
       "      <td>...</td>\n",
       "      <td>...</td>\n",
       "      <td>...</td>\n",
       "    </tr>\n",
       "    <tr>\n",
       "      <th>886</th>\n",
       "      <td>0</td>\n",
       "      <td>3</td>\n",
       "      <td>Rice, Mrs. William (Margaret Norton)</td>\n",
       "      <td>female</td>\n",
       "      <td>39.0</td>\n",
       "      <td>0</td>\n",
       "      <td>5</td>\n",
       "      <td>382652</td>\n",
       "      <td>29.1250</td>\n",
       "      <td>Q</td>\n",
       "      <td>adult</td>\n",
       "    </tr>\n",
       "    <tr>\n",
       "      <th>887</th>\n",
       "      <td>0</td>\n",
       "      <td>2</td>\n",
       "      <td>Montvila, Rev. Juozas</td>\n",
       "      <td>male</td>\n",
       "      <td>27.0</td>\n",
       "      <td>0</td>\n",
       "      <td>0</td>\n",
       "      <td>211536</td>\n",
       "      <td>13.0000</td>\n",
       "      <td>S</td>\n",
       "      <td>adult</td>\n",
       "    </tr>\n",
       "    <tr>\n",
       "      <th>888</th>\n",
       "      <td>1</td>\n",
       "      <td>1</td>\n",
       "      <td>Graham, Miss. Margaret Edith</td>\n",
       "      <td>female</td>\n",
       "      <td>19.0</td>\n",
       "      <td>0</td>\n",
       "      <td>0</td>\n",
       "      <td>112053</td>\n",
       "      <td>30.0000</td>\n",
       "      <td>S</td>\n",
       "      <td>adult</td>\n",
       "    </tr>\n",
       "    <tr>\n",
       "      <th>890</th>\n",
       "      <td>1</td>\n",
       "      <td>1</td>\n",
       "      <td>Behr, Mr. Karl Howell</td>\n",
       "      <td>male</td>\n",
       "      <td>26.0</td>\n",
       "      <td>0</td>\n",
       "      <td>0</td>\n",
       "      <td>111369</td>\n",
       "      <td>30.0000</td>\n",
       "      <td>C</td>\n",
       "      <td>adult</td>\n",
       "    </tr>\n",
       "    <tr>\n",
       "      <th>891</th>\n",
       "      <td>0</td>\n",
       "      <td>3</td>\n",
       "      <td>Dooley, Mr. Patrick</td>\n",
       "      <td>male</td>\n",
       "      <td>32.0</td>\n",
       "      <td>0</td>\n",
       "      <td>0</td>\n",
       "      <td>370376</td>\n",
       "      <td>7.7500</td>\n",
       "      <td>Q</td>\n",
       "      <td>adult</td>\n",
       "    </tr>\n",
       "  </tbody>\n",
       "</table>\n",
       "<p>620 rows × 11 columns</p>\n",
       "</div>"
      ],
      "text/plain": [
       "             Survived  Pclass  \\\n",
       "PassengerId                     \n",
       "1                   0       3   \n",
       "2                   1       1   \n",
       "3                   1       3   \n",
       "4                   1       1   \n",
       "5                   0       3   \n",
       "...               ...     ...   \n",
       "886                 0       3   \n",
       "887                 0       2   \n",
       "888                 1       1   \n",
       "890                 1       1   \n",
       "891                 0       3   \n",
       "\n",
       "                                                          Name     Sex   Age  \\\n",
       "PassengerId                                                                    \n",
       "1                                      Braund, Mr. Owen Harris    male  22.0   \n",
       "2            Cumings, Mrs. John Bradley (Florence Briggs Th...  female  38.0   \n",
       "3                                       Heikkinen, Miss. Laina  female  26.0   \n",
       "4                 Futrelle, Mrs. Jacques Heath (Lily May Peel)  female  35.0   \n",
       "5                                     Allen, Mr. William Henry    male  35.0   \n",
       "...                                                        ...     ...   ...   \n",
       "886                       Rice, Mrs. William (Margaret Norton)  female  39.0   \n",
       "887                                      Montvila, Rev. Juozas    male  27.0   \n",
       "888                               Graham, Miss. Margaret Edith  female  19.0   \n",
       "890                                      Behr, Mr. Karl Howell    male  26.0   \n",
       "891                                        Dooley, Mr. Patrick    male  32.0   \n",
       "\n",
       "             SibSp  Parch            Ticket     Fare Embarked   Desc  \n",
       "PassengerId                                                           \n",
       "1                1      0         A/5 21171   7.2500        S  adult  \n",
       "2                1      0          PC 17599  71.2833        C  adult  \n",
       "3                0      0  STON/O2. 3101282   7.9250        S  adult  \n",
       "4                1      0            113803  53.1000        S  adult  \n",
       "5                0      0            373450   8.0500        S  adult  \n",
       "...            ...    ...               ...      ...      ...    ...  \n",
       "886              0      5            382652  29.1250        Q  adult  \n",
       "887              0      0            211536  13.0000        S  adult  \n",
       "888              0      0            112053  30.0000        S  adult  \n",
       "890              0      0            111369  30.0000        C  adult  \n",
       "891              0      0            370376   7.7500        Q  adult  \n",
       "\n",
       "[620 rows x 11 columns]"
      ]
     },
     "execution_count": 47,
     "metadata": {},
     "output_type": "execute_result"
    }
   ],
   "source": [
    "df_new3.sort_index()"
   ]
  },
  {
   "cell_type": "code",
   "execution_count": 48,
   "id": "d3214446",
   "metadata": {
    "execution": {
     "iopub.execute_input": "2022-08-08T18:50:31.689591Z",
     "iopub.status.busy": "2022-08-08T18:50:31.688802Z",
     "iopub.status.idle": "2022-08-08T18:50:31.705652Z",
     "shell.execute_reply": "2022-08-08T18:50:31.704651Z"
    },
    "papermill": {
     "duration": 0.051302,
     "end_time": "2022-08-08T18:50:31.708652",
     "exception": false,
     "start_time": "2022-08-08T18:50:31.657350",
     "status": "completed"
    },
    "tags": []
   },
   "outputs": [
    {
     "data": {
      "text/html": [
       "<div>\n",
       "<style scoped>\n",
       "    .dataframe tbody tr th:only-of-type {\n",
       "        vertical-align: middle;\n",
       "    }\n",
       "\n",
       "    .dataframe tbody tr th {\n",
       "        vertical-align: top;\n",
       "    }\n",
       "\n",
       "    .dataframe thead th {\n",
       "        text-align: right;\n",
       "    }\n",
       "</style>\n",
       "<table border=\"1\" class=\"dataframe\">\n",
       "  <thead>\n",
       "    <tr style=\"text-align: right;\">\n",
       "      <th></th>\n",
       "      <th>Survived</th>\n",
       "      <th>Pclass</th>\n",
       "      <th>Name</th>\n",
       "      <th>Sex</th>\n",
       "      <th>Age</th>\n",
       "      <th>SibSp</th>\n",
       "      <th>Parch</th>\n",
       "      <th>Ticket</th>\n",
       "      <th>Fare</th>\n",
       "      <th>Embarked</th>\n",
       "      <th>Desc</th>\n",
       "    </tr>\n",
       "    <tr>\n",
       "      <th>PassengerId</th>\n",
       "      <th></th>\n",
       "      <th></th>\n",
       "      <th></th>\n",
       "      <th></th>\n",
       "      <th></th>\n",
       "      <th></th>\n",
       "      <th></th>\n",
       "      <th></th>\n",
       "      <th></th>\n",
       "      <th></th>\n",
       "      <th></th>\n",
       "    </tr>\n",
       "  </thead>\n",
       "  <tbody>\n",
       "    <tr>\n",
       "      <th>8</th>\n",
       "      <td>0</td>\n",
       "      <td>3</td>\n",
       "      <td>Palsson, Master. Gosta Leonard</td>\n",
       "      <td>male</td>\n",
       "      <td>2.0</td>\n",
       "      <td>3</td>\n",
       "      <td>1</td>\n",
       "      <td>349909</td>\n",
       "      <td>21.0750</td>\n",
       "      <td>S</td>\n",
       "      <td>child</td>\n",
       "    </tr>\n",
       "    <tr>\n",
       "      <th>10</th>\n",
       "      <td>1</td>\n",
       "      <td>2</td>\n",
       "      <td>Nasser, Mrs. Nicholas (Adele Achem)</td>\n",
       "      <td>female</td>\n",
       "      <td>14.0</td>\n",
       "      <td>1</td>\n",
       "      <td>0</td>\n",
       "      <td>237736</td>\n",
       "      <td>30.0708</td>\n",
       "      <td>C</td>\n",
       "      <td>child</td>\n",
       "    </tr>\n",
       "    <tr>\n",
       "      <th>11</th>\n",
       "      <td>1</td>\n",
       "      <td>3</td>\n",
       "      <td>Sandstrom, Miss. Marguerite Rut</td>\n",
       "      <td>female</td>\n",
       "      <td>4.0</td>\n",
       "      <td>1</td>\n",
       "      <td>1</td>\n",
       "      <td>PP 9549</td>\n",
       "      <td>16.7000</td>\n",
       "      <td>S</td>\n",
       "      <td>child</td>\n",
       "    </tr>\n",
       "    <tr>\n",
       "      <th>15</th>\n",
       "      <td>0</td>\n",
       "      <td>3</td>\n",
       "      <td>Vestrom, Miss. Hulda Amanda Adolfina</td>\n",
       "      <td>female</td>\n",
       "      <td>14.0</td>\n",
       "      <td>0</td>\n",
       "      <td>0</td>\n",
       "      <td>350406</td>\n",
       "      <td>7.8542</td>\n",
       "      <td>S</td>\n",
       "      <td>child</td>\n",
       "    </tr>\n",
       "    <tr>\n",
       "      <th>17</th>\n",
       "      <td>0</td>\n",
       "      <td>3</td>\n",
       "      <td>Rice, Master. Eugene</td>\n",
       "      <td>male</td>\n",
       "      <td>2.0</td>\n",
       "      <td>4</td>\n",
       "      <td>1</td>\n",
       "      <td>382652</td>\n",
       "      <td>29.1250</td>\n",
       "      <td>Q</td>\n",
       "      <td>child</td>\n",
       "    </tr>\n",
       "  </tbody>\n",
       "</table>\n",
       "</div>"
      ],
      "text/plain": [
       "             Survived  Pclass                                  Name     Sex  \\\n",
       "PassengerId                                                                   \n",
       "8                   0       3        Palsson, Master. Gosta Leonard    male   \n",
       "10                  1       2   Nasser, Mrs. Nicholas (Adele Achem)  female   \n",
       "11                  1       3       Sandstrom, Miss. Marguerite Rut  female   \n",
       "15                  0       3  Vestrom, Miss. Hulda Amanda Adolfina  female   \n",
       "17                  0       3                  Rice, Master. Eugene    male   \n",
       "\n",
       "              Age  SibSp  Parch   Ticket     Fare Embarked   Desc  \n",
       "PassengerId                                                        \n",
       "8             2.0      3      1   349909  21.0750        S  child  \n",
       "10           14.0      1      0   237736  30.0708        C  child  \n",
       "11            4.0      1      1  PP 9549  16.7000        S  child  \n",
       "15           14.0      0      0   350406   7.8542        S  child  \n",
       "17            2.0      4      1   382652  29.1250        Q  child  "
      ]
     },
     "execution_count": 48,
     "metadata": {},
     "output_type": "execute_result"
    }
   ],
   "source": [
    "df_new3.head()"
   ]
  },
  {
   "cell_type": "code",
   "execution_count": 49,
   "id": "ce87ca70",
   "metadata": {
    "execution": {
     "iopub.execute_input": "2022-08-08T18:50:31.775775Z",
     "iopub.status.busy": "2022-08-08T18:50:31.774979Z",
     "iopub.status.idle": "2022-08-08T18:50:31.785762Z",
     "shell.execute_reply": "2022-08-08T18:50:31.784714Z"
    },
    "papermill": {
     "duration": 0.048646,
     "end_time": "2022-08-08T18:50:31.788745",
     "exception": false,
     "start_time": "2022-08-08T18:50:31.740099",
     "status": "completed"
    },
    "tags": []
   },
   "outputs": [
    {
     "data": {
      "text/plain": [
       "Survived    0\n",
       "Pclass      0\n",
       "Name        0\n",
       "Sex         0\n",
       "Age         0\n",
       "SibSp       0\n",
       "Parch       0\n",
       "Ticket      0\n",
       "Fare        0\n",
       "Embarked    0\n",
       "Desc        0\n",
       "dtype: int64"
      ]
     },
     "execution_count": 49,
     "metadata": {},
     "output_type": "execute_result"
    }
   ],
   "source": [
    "df_new3.isna().sum()"
   ]
  },
  {
   "cell_type": "markdown",
   "id": "47bd45be",
   "metadata": {
    "papermill": {
     "duration": 0.028675,
     "end_time": "2022-08-08T18:50:31.847351",
     "exception": false,
     "start_time": "2022-08-08T18:50:31.818676",
     "status": "completed"
    },
    "tags": []
   },
   "source": [
    "SUCCESSSFULLYYYY NO NULLL VALUES!!!!"
   ]
  },
  {
   "cell_type": "code",
   "execution_count": 50,
   "id": "055f2da7",
   "metadata": {
    "execution": {
     "iopub.execute_input": "2022-08-08T18:50:31.908873Z",
     "iopub.status.busy": "2022-08-08T18:50:31.908085Z",
     "iopub.status.idle": "2022-08-08T18:50:32.105561Z",
     "shell.execute_reply": "2022-08-08T18:50:32.104664Z"
    },
    "papermill": {
     "duration": 0.232088,
     "end_time": "2022-08-08T18:50:32.108055",
     "exception": false,
     "start_time": "2022-08-08T18:50:31.875967",
     "status": "completed"
    },
    "tags": []
   },
   "outputs": [
    {
     "data": {
      "text/plain": [
       "<AxesSubplot:>"
      ]
     },
     "execution_count": 50,
     "metadata": {},
     "output_type": "execute_result"
    },
    {
     "data": {
      "image/png": "[encoded data removed]",
      "text/plain": [
       "<Figure size 432x288 with 1 Axes>"
      ]
     },
     "metadata": {
      "needs_background": "light"
     },
     "output_type": "display_data"
    }
   ],
   "source": [
    "df_new3.boxplot(column=\"Fare\")"
   ]
  },
  {
   "cell_type": "code",
   "execution_count": 51,
   "id": "fc997ada",
   "metadata": {
    "execution": {
     "iopub.execute_input": "2022-08-08T18:50:32.174833Z",
     "iopub.status.busy": "2022-08-08T18:50:32.174347Z",
     "iopub.status.idle": "2022-08-08T18:50:32.460473Z",
     "shell.execute_reply": "2022-08-08T18:50:32.459038Z"
    },
    "papermill": {
     "duration": 0.32374,
     "end_time": "2022-08-08T18:50:32.463393",
     "exception": false,
     "start_time": "2022-08-08T18:50:32.139653",
     "status": "completed"
    },
    "tags": []
   },
   "outputs": [
    {
     "data": {
      "text/plain": [
       "<AxesSubplot:xlabel='PassengerId', ylabel='Fare'>"
      ]
     },
     "execution_count": 51,
     "metadata": {},
     "output_type": "execute_result"
    },
    {
     "data": {
      "image/png": "[encoded data removed]",
      "text/plain": [
       "<Figure size 432x288 with 1 Axes>"
      ]
     },
     "metadata": {
      "needs_background": "light"
     },
     "output_type": "display_data"
    }
   ],
   "source": [
    "sns.lineplot(data=df_new3['Fare'])"
   ]
  },
  {
   "cell_type": "code",
   "execution_count": 52,
   "id": "1ce678a8",
   "metadata": {
    "execution": {
     "iopub.execute_input": "2022-08-08T18:50:32.526935Z",
     "iopub.status.busy": "2022-08-08T18:50:32.526517Z",
     "iopub.status.idle": "2022-08-08T18:50:32.714454Z",
     "shell.execute_reply": "2022-08-08T18:50:32.713402Z"
    },
    "papermill": {
     "duration": 0.223584,
     "end_time": "2022-08-08T18:50:32.716966",
     "exception": false,
     "start_time": "2022-08-08T18:50:32.493382",
     "status": "completed"
    },
    "tags": []
   },
   "outputs": [
    {
     "data": {
      "text/plain": [
       "<AxesSubplot:xlabel='count', ylabel='Desc'>"
      ]
     },
     "execution_count": 52,
     "metadata": {},
     "output_type": "execute_result"
    },
    {
     "data": {
      "image/png": "[encoded data removed]",
      "text/plain": [
       "<Figure size 432x288 with 1 Axes>"
      ]
     },
     "metadata": {
      "needs_background": "light"
     },
     "output_type": "display_data"
    }
   ],
   "source": [
    "sns.countplot(y='Desc',data=df_new3,palette='Set2')"
   ]
  },
  {
   "cell_type": "code",
   "execution_count": 53,
   "id": "a55746e2",
   "metadata": {
    "execution": {
     "iopub.execute_input": "2022-08-08T18:50:32.787595Z",
     "iopub.status.busy": "2022-08-08T18:50:32.786626Z",
     "iopub.status.idle": "2022-08-08T18:50:32.797670Z",
     "shell.execute_reply": "2022-08-08T18:50:32.796244Z"
    },
    "papermill": {
     "duration": 0.050391,
     "end_time": "2022-08-08T18:50:32.800574",
     "exception": false,
     "start_time": "2022-08-08T18:50:32.750183",
     "status": "completed"
    },
    "tags": []
   },
   "outputs": [
    {
     "data": {
      "text/plain": [
       "Desc\n",
       "adult     436\n",
       "child     104\n",
       "oldage     80\n",
       "dtype: int64"
      ]
     },
     "execution_count": 53,
     "metadata": {},
     "output_type": "execute_result"
    }
   ],
   "source": [
    "df_new3.value_counts(\"Desc\")"
   ]
  },
  {
   "cell_type": "code",
   "execution_count": 54,
   "id": "6b482b9d",
   "metadata": {
    "execution": {
     "iopub.execute_input": "2022-08-08T18:50:32.875874Z",
     "iopub.status.busy": "2022-08-08T18:50:32.875389Z",
     "iopub.status.idle": "2022-08-08T18:50:33.118843Z",
     "shell.execute_reply": "2022-08-08T18:50:33.117338Z"
    },
    "papermill": {
     "duration": 0.286793,
     "end_time": "2022-08-08T18:50:33.123071",
     "exception": false,
     "start_time": "2022-08-08T18:50:32.836278",
     "status": "completed"
    },
    "tags": []
   },
   "outputs": [
    {
     "data": {
      "text/plain": [
       "<AxesSubplot:xlabel='count', ylabel='SibSp'>"
      ]
     },
     "execution_count": 54,
     "metadata": {},
     "output_type": "execute_result"
    },
    {
     "data": {
      "image/png": "[encoded data removed]",
      "text/plain": [
       "<Figure size 432x288 with 1 Axes>"
      ]
     },
     "metadata": {
      "needs_background": "light"
     },
     "output_type": "display_data"
    }
   ],
   "source": [
    "sns.countplot(y='SibSp',data=df_new3,palette='Set2')"
   ]
  },
  {
   "cell_type": "code",
   "execution_count": 55,
   "id": "7667523b",
   "metadata": {
    "execution": {
     "iopub.execute_input": "2022-08-08T18:50:33.193118Z",
     "iopub.status.busy": "2022-08-08T18:50:33.192643Z",
     "iopub.status.idle": "2022-08-08T18:50:33.404126Z",
     "shell.execute_reply": "2022-08-08T18:50:33.402775Z"
    },
    "papermill": {
     "duration": 0.250655,
     "end_time": "2022-08-08T18:50:33.407387",
     "exception": false,
     "start_time": "2022-08-08T18:50:33.156732",
     "status": "completed"
    },
    "tags": []
   },
   "outputs": [
    {
     "data": {
      "text/plain": [
       "<AxesSubplot:xlabel='count', ylabel='Parch'>"
      ]
     },
     "execution_count": 55,
     "metadata": {},
     "output_type": "execute_result"
    },
    {
     "data": {
      "image/png": "[encoded data removed]",
      "text/plain": [
       "<Figure size 432x288 with 1 Axes>"
      ]
     },
     "metadata": {
      "needs_background": "light"
     },
     "output_type": "display_data"
    }
   ],
   "source": [
    "sns.countplot(y='Parch',data=df_new3,palette='Set2')"
   ]
  },
  {
   "cell_type": "markdown",
   "id": "c4db6fb0",
   "metadata": {
    "papermill": {
     "duration": 0.030363,
     "end_time": "2022-08-08T18:50:33.469399",
     "exception": false,
     "start_time": "2022-08-08T18:50:33.439036",
     "status": "completed"
    },
    "tags": []
   },
   "source": [
    "400+ of them travelled without family"
   ]
  },
  {
   "cell_type": "code",
   "execution_count": 56,
   "id": "c738ea46",
   "metadata": {
    "execution": {
     "iopub.execute_input": "2022-08-08T18:50:33.535127Z",
     "iopub.status.busy": "2022-08-08T18:50:33.534002Z",
     "iopub.status.idle": "2022-08-08T18:50:33.542924Z",
     "shell.execute_reply": "2022-08-08T18:50:33.541736Z"
    },
    "papermill": {
     "duration": 0.043761,
     "end_time": "2022-08-08T18:50:33.545424",
     "exception": false,
     "start_time": "2022-08-08T18:50:33.501663",
     "status": "completed"
    },
    "tags": []
   },
   "outputs": [
    {
     "data": {
      "text/plain": [
       "Parch\n",
       "0    465\n",
       "1     91\n",
       "2     50\n",
       "3      5\n",
       "5      5\n",
       "4      3\n",
       "6      1\n",
       "dtype: int64"
      ]
     },
     "execution_count": 56,
     "metadata": {},
     "output_type": "execute_result"
    }
   ],
   "source": [
    "df_new3.value_counts(\"Parch\")"
   ]
  },
  {
   "cell_type": "code",
   "execution_count": 57,
   "id": "a86454d0",
   "metadata": {
    "execution": {
     "iopub.execute_input": "2022-08-08T18:50:33.611246Z",
     "iopub.status.busy": "2022-08-08T18:50:33.610507Z",
     "iopub.status.idle": "2022-08-08T18:50:33.874277Z",
     "shell.execute_reply": "2022-08-08T18:50:33.873055Z"
    },
    "papermill": {
     "duration": 0.300913,
     "end_time": "2022-08-08T18:50:33.877067",
     "exception": false,
     "start_time": "2022-08-08T18:50:33.576154",
     "status": "completed"
    },
    "tags": []
   },
   "outputs": [
    {
     "data": {
      "text/plain": [
       "<AxesSubplot:xlabel='Fare', ylabel='Count'>"
      ]
     },
     "execution_count": 57,
     "metadata": {},
     "output_type": "execute_result"
    },
    {
     "data": {
      "image/png": "[encoded data removed]",
      "text/plain": [
       "<Figure size 432x288 with 1 Axes>"
      ]
     },
     "metadata": {
      "needs_background": "light"
     },
     "output_type": "display_data"
    }
   ],
   "source": [
    "sns.histplot(data=df_new3['Fare'])"
   ]
  },
  {
   "cell_type": "code",
   "execution_count": 58,
   "id": "8e40bde5",
   "metadata": {
    "execution": {
     "iopub.execute_input": "2022-08-08T18:50:33.945111Z",
     "iopub.status.busy": "2022-08-08T18:50:33.944142Z",
     "iopub.status.idle": "2022-08-08T18:50:34.219111Z",
     "shell.execute_reply": "2022-08-08T18:50:34.218202Z"
    },
    "papermill": {
     "duration": 0.312814,
     "end_time": "2022-08-08T18:50:34.221662",
     "exception": false,
     "start_time": "2022-08-08T18:50:33.908848",
     "status": "completed"
    },
    "tags": []
   },
   "outputs": [
    {
     "data": {
      "text/plain": [
       "<AxesSubplot:xlabel='Age', ylabel='Count'>"
      ]
     },
     "execution_count": 58,
     "metadata": {},
     "output_type": "execute_result"
    },
    {
     "data": {
      "image/png": "[encoded data removed]",
      "text/plain": [
       "<Figure size 432x288 with 1 Axes>"
      ]
     },
     "metadata": {
      "needs_background": "light"
     },
     "output_type": "display_data"
    }
   ],
   "source": [
    "sns.histplot(data=df_new3['Age'])"
   ]
  },
  {
   "cell_type": "markdown",
   "id": "9f25c22f",
   "metadata": {
    "papermill": {
     "duration": 0.032755,
     "end_time": "2022-08-08T18:50:34.287998",
     "exception": false,
     "start_time": "2022-08-08T18:50:34.255243",
     "status": "completed"
    },
    "tags": []
   },
   "source": [
    "STRANDARDISATION AND NORAMLISATION"
   ]
  },
  {
   "cell_type": "markdown",
   "id": "99c3abe1",
   "metadata": {
    "papermill": {
     "duration": 0.031787,
     "end_time": "2022-08-08T18:50:34.352987",
     "exception": false,
     "start_time": "2022-08-08T18:50:34.321200",
     "status": "completed"
    },
    "tags": []
   },
   "source": [
    "NORMALISATION converts the data values between 0 and 1\n",
    "\n",
    "x= x- min(x)/max(x)-mean(x)"
   ]
  },
  {
   "cell_type": "markdown",
   "id": "3b19a82a",
   "metadata": {
    "papermill": {
     "duration": 0.031205,
     "end_time": "2022-08-08T18:50:34.419042",
     "exception": false,
     "start_time": "2022-08-08T18:50:34.387837",
     "status": "completed"
    },
    "tags": []
   },
   "source": [
    "STANDARDISATION converts data to gaussian distribution.\n",
    "\n",
    "x= x- mean(x)/ std(x)"
   ]
  },
  {
   "cell_type": "code",
   "execution_count": 59,
   "id": "a8404cac",
   "metadata": {
    "execution": {
     "iopub.execute_input": "2022-08-08T18:50:34.484195Z",
     "iopub.status.busy": "2022-08-08T18:50:34.483548Z",
     "iopub.status.idle": "2022-08-08T18:50:34.491011Z",
     "shell.execute_reply": "2022-08-08T18:50:34.489766Z"
    },
    "papermill": {
     "duration": 0.043385,
     "end_time": "2022-08-08T18:50:34.493807",
     "exception": false,
     "start_time": "2022-08-08T18:50:34.450422",
     "status": "completed"
    },
    "tags": []
   },
   "outputs": [],
   "source": [
    "#Normalisation of Age\n",
    "x=df_new3['Age']\n",
    "df_new3['NormAge']=(x-min(x))/(max(x)-min(x))"
   ]
  },
  {
   "cell_type": "code",
   "execution_count": 60,
   "id": "0702e5a9",
   "metadata": {
    "execution": {
     "iopub.execute_input": "2022-08-08T18:50:34.564603Z",
     "iopub.status.busy": "2022-08-08T18:50:34.563833Z",
     "iopub.status.idle": "2022-08-08T18:50:34.837630Z",
     "shell.execute_reply": "2022-08-08T18:50:34.836384Z"
    },
    "papermill": {
     "duration": 0.314384,
     "end_time": "2022-08-08T18:50:34.840340",
     "exception": false,
     "start_time": "2022-08-08T18:50:34.525956",
     "status": "completed"
    },
    "tags": []
   },
   "outputs": [
    {
     "data": {
      "text/plain": [
       "<AxesSubplot:xlabel='NormAge', ylabel='Count'>"
      ]
     },
     "execution_count": 60,
     "metadata": {},
     "output_type": "execute_result"
    },
    {
     "data": {
      "image/png": "[encoded data removed]",
      "text/plain": [
       "<Figure size 432x288 with 1 Axes>"
      ]
     },
     "metadata": {
      "needs_background": "light"
     },
     "output_type": "display_data"
    }
   ],
   "source": [
    "sns.histplot(data=df_new3['NormAge'])"
   ]
  },
  {
   "cell_type": "markdown",
   "id": "63f2b251",
   "metadata": {
    "papermill": {
     "duration": 0.034221,
     "end_time": "2022-08-08T18:50:34.908284",
     "exception": false,
     "start_time": "2022-08-08T18:50:34.874063",
     "status": "completed"
    },
    "tags": []
   },
   "source": [
    "This is literally the same distribution we saw above. Just that, without normalisation the range was 0-80. Normalisisng the AGE helped us convert all the values between 0 and 1. This will not change the distribution"
   ]
  },
  {
   "cell_type": "code",
   "execution_count": 61,
   "id": "643b98f4",
   "metadata": {
    "execution": {
     "iopub.execute_input": "2022-08-08T18:50:34.976402Z",
     "iopub.status.busy": "2022-08-08T18:50:34.975230Z",
     "iopub.status.idle": "2022-08-08T18:50:34.982350Z",
     "shell.execute_reply": "2022-08-08T18:50:34.981487Z"
    },
    "papermill": {
     "duration": 0.042318,
     "end_time": "2022-08-08T18:50:34.984966",
     "exception": false,
     "start_time": "2022-08-08T18:50:34.942648",
     "status": "completed"
    },
    "tags": []
   },
   "outputs": [],
   "source": [
    "#Standardisation of Age\n",
    "x=df_new3['Age']\n",
    "df_new3['StdAge']=(x-x.mean())/x.std()"
   ]
  },
  {
   "cell_type": "code",
   "execution_count": 62,
   "id": "3984715e",
   "metadata": {
    "execution": {
     "iopub.execute_input": "2022-08-08T18:50:35.057145Z",
     "iopub.status.busy": "2022-08-08T18:50:35.056293Z",
     "iopub.status.idle": "2022-08-08T18:50:35.322855Z",
     "shell.execute_reply": "2022-08-08T18:50:35.321550Z"
    },
    "papermill": {
     "duration": 0.306048,
     "end_time": "2022-08-08T18:50:35.325632",
     "exception": false,
     "start_time": "2022-08-08T18:50:35.019584",
     "status": "completed"
    },
    "tags": []
   },
   "outputs": [
    {
     "data": {
      "text/plain": [
       "<AxesSubplot:xlabel='StdAge', ylabel='Count'>"
      ]
     },
     "execution_count": 62,
     "metadata": {},
     "output_type": "execute_result"
    },
    {
     "data": {
      "image/png": "[encoded data removed]",
      "text/plain": [
       "<Figure size 432x288 with 1 Axes>"
      ]
     },
     "metadata": {
      "needs_background": "light"
     },
     "output_type": "display_data"
    }
   ],
   "source": [
    "#standardisation plot\n",
    "sns.histplot(data=df_new3['StdAge'])"
   ]
  },
  {
   "cell_type": "markdown",
   "id": "e5b88e85",
   "metadata": {
    "papermill": {
     "duration": 0.036146,
     "end_time": "2022-08-08T18:50:35.396273",
     "exception": false,
     "start_time": "2022-08-08T18:50:35.360127",
     "status": "completed"
    },
    "tags": []
   },
   "source": [
    "### PIVOT TABLE"
   ]
  },
  {
   "cell_type": "markdown",
   "id": "a50df8e3",
   "metadata": {
    "papermill": {
     "duration": 0.033235,
     "end_time": "2022-08-08T18:50:35.463587",
     "exception": false,
     "start_time": "2022-08-08T18:50:35.430352",
     "status": "completed"
    },
    "tags": []
   },
   "source": [
    "It should have dataframe and index as parameters.(this is the simplest one)"
   ]
  },
  {
   "cell_type": "markdown",
   "id": "3c975a16",
   "metadata": {
    "papermill": {
     "duration": 0.032518,
     "end_time": "2022-08-08T18:50:35.530137",
     "exception": false,
     "start_time": "2022-08-08T18:50:35.497619",
     "status": "completed"
    },
    "tags": []
   },
   "source": [
    "passing index as set of columns, makes the column as index"
   ]
  },
  {
   "cell_type": "code",
   "execution_count": 63,
   "id": "e82ba0bc",
   "metadata": {
    "execution": {
     "iopub.execute_input": "2022-08-08T18:50:35.598740Z",
     "iopub.status.busy": "2022-08-08T18:50:35.598307Z",
     "iopub.status.idle": "2022-08-08T18:50:35.636080Z",
     "shell.execute_reply": "2022-08-08T18:50:35.635017Z"
    },
    "papermill": {
     "duration": 0.075649,
     "end_time": "2022-08-08T18:50:35.639379",
     "exception": false,
     "start_time": "2022-08-08T18:50:35.563730",
     "status": "completed"
    },
    "tags": []
   },
   "outputs": [
    {
     "data": {
      "text/html": [
       "<div>\n",
       "<style scoped>\n",
       "    .dataframe tbody tr th:only-of-type {\n",
       "        vertical-align: middle;\n",
       "    }\n",
       "\n",
       "    .dataframe tbody tr th {\n",
       "        vertical-align: top;\n",
       "    }\n",
       "\n",
       "    .dataframe thead th {\n",
       "        text-align: right;\n",
       "    }\n",
       "</style>\n",
       "<table border=\"1\" class=\"dataframe\">\n",
       "  <thead>\n",
       "    <tr style=\"text-align: right;\">\n",
       "      <th></th>\n",
       "      <th></th>\n",
       "      <th>Fare</th>\n",
       "      <th>NormAge</th>\n",
       "      <th>Parch</th>\n",
       "      <th>Pclass</th>\n",
       "      <th>SibSp</th>\n",
       "      <th>StdAge</th>\n",
       "      <th>Survived</th>\n",
       "    </tr>\n",
       "    <tr>\n",
       "      <th>Age</th>\n",
       "      <th>Sex</th>\n",
       "      <th></th>\n",
       "      <th></th>\n",
       "      <th></th>\n",
       "      <th></th>\n",
       "      <th></th>\n",
       "      <th></th>\n",
       "      <th></th>\n",
       "    </tr>\n",
       "  </thead>\n",
       "  <tbody>\n",
       "    <tr>\n",
       "      <th>0.42</th>\n",
       "      <th>male</th>\n",
       "      <td>8.5167</td>\n",
       "      <td>0.000000</td>\n",
       "      <td>1.0</td>\n",
       "      <td>3.0</td>\n",
       "      <td>0.0</td>\n",
       "      <td>-1.986314</td>\n",
       "      <td>1.0</td>\n",
       "    </tr>\n",
       "    <tr>\n",
       "      <th>0.67</th>\n",
       "      <th>male</th>\n",
       "      <td>14.5000</td>\n",
       "      <td>0.003141</td>\n",
       "      <td>1.0</td>\n",
       "      <td>2.0</td>\n",
       "      <td>1.0</td>\n",
       "      <td>-1.968946</td>\n",
       "      <td>1.0</td>\n",
       "    </tr>\n",
       "    <tr>\n",
       "      <th>0.75</th>\n",
       "      <th>female</th>\n",
       "      <td>19.2583</td>\n",
       "      <td>0.004147</td>\n",
       "      <td>1.0</td>\n",
       "      <td>3.0</td>\n",
       "      <td>2.0</td>\n",
       "      <td>-1.963389</td>\n",
       "      <td>1.0</td>\n",
       "    </tr>\n",
       "    <tr>\n",
       "      <th>0.83</th>\n",
       "      <th>male</th>\n",
       "      <td>23.8750</td>\n",
       "      <td>0.005152</td>\n",
       "      <td>1.5</td>\n",
       "      <td>2.0</td>\n",
       "      <td>0.5</td>\n",
       "      <td>-1.957831</td>\n",
       "      <td>1.0</td>\n",
       "    </tr>\n",
       "    <tr>\n",
       "      <th>1.00</th>\n",
       "      <th>female</th>\n",
       "      <td>13.4375</td>\n",
       "      <td>0.007288</td>\n",
       "      <td>1.5</td>\n",
       "      <td>3.0</td>\n",
       "      <td>0.5</td>\n",
       "      <td>-1.946021</td>\n",
       "      <td>1.0</td>\n",
       "    </tr>\n",
       "    <tr>\n",
       "      <th>...</th>\n",
       "      <th>...</th>\n",
       "      <td>...</td>\n",
       "      <td>...</td>\n",
       "      <td>...</td>\n",
       "      <td>...</td>\n",
       "      <td>...</td>\n",
       "      <td>...</td>\n",
       "      <td>...</td>\n",
       "    </tr>\n",
       "    <tr>\n",
       "      <th>70.00</th>\n",
       "      <th>male</th>\n",
       "      <td>40.7500</td>\n",
       "      <td>0.874340</td>\n",
       "      <td>0.5</td>\n",
       "      <td>1.5</td>\n",
       "      <td>0.5</td>\n",
       "      <td>2.847528</td>\n",
       "      <td>0.0</td>\n",
       "    </tr>\n",
       "    <tr>\n",
       "      <th>70.50</th>\n",
       "      <th>male</th>\n",
       "      <td>7.7500</td>\n",
       "      <td>0.880623</td>\n",
       "      <td>0.0</td>\n",
       "      <td>3.0</td>\n",
       "      <td>0.0</td>\n",
       "      <td>2.882264</td>\n",
       "      <td>0.0</td>\n",
       "    </tr>\n",
       "    <tr>\n",
       "      <th>71.00</th>\n",
       "      <th>male</th>\n",
       "      <td>42.0792</td>\n",
       "      <td>0.886906</td>\n",
       "      <td>0.0</td>\n",
       "      <td>1.0</td>\n",
       "      <td>0.0</td>\n",
       "      <td>2.917000</td>\n",
       "      <td>0.0</td>\n",
       "    </tr>\n",
       "    <tr>\n",
       "      <th>74.00</th>\n",
       "      <th>male</th>\n",
       "      <td>7.7750</td>\n",
       "      <td>0.924604</td>\n",
       "      <td>0.0</td>\n",
       "      <td>3.0</td>\n",
       "      <td>0.0</td>\n",
       "      <td>3.125415</td>\n",
       "      <td>0.0</td>\n",
       "    </tr>\n",
       "    <tr>\n",
       "      <th>80.00</th>\n",
       "      <th>male</th>\n",
       "      <td>30.0000</td>\n",
       "      <td>1.000000</td>\n",
       "      <td>0.0</td>\n",
       "      <td>1.0</td>\n",
       "      <td>0.0</td>\n",
       "      <td>3.542246</td>\n",
       "      <td>1.0</td>\n",
       "    </tr>\n",
       "  </tbody>\n",
       "</table>\n",
       "<p>139 rows × 7 columns</p>\n",
       "</div>"
      ],
      "text/plain": [
       "                 Fare   NormAge  Parch  Pclass  SibSp    StdAge  Survived\n",
       "Age   Sex                                                                \n",
       "0.42  male     8.5167  0.000000    1.0     3.0    0.0 -1.986314       1.0\n",
       "0.67  male    14.5000  0.003141    1.0     2.0    1.0 -1.968946       1.0\n",
       "0.75  female  19.2583  0.004147    1.0     3.0    2.0 -1.963389       1.0\n",
       "0.83  male    23.8750  0.005152    1.5     2.0    0.5 -1.957831       1.0\n",
       "1.00  female  13.4375  0.007288    1.5     3.0    0.5 -1.946021       1.0\n",
       "...               ...       ...    ...     ...    ...       ...       ...\n",
       "70.00 male    40.7500  0.874340    0.5     1.5    0.5  2.847528       0.0\n",
       "70.50 male     7.7500  0.880623    0.0     3.0    0.0  2.882264       0.0\n",
       "71.00 male    42.0792  0.886906    0.0     1.0    0.0  2.917000       0.0\n",
       "74.00 male     7.7750  0.924604    0.0     3.0    0.0  3.125415       0.0\n",
       "80.00 male    30.0000  1.000000    0.0     1.0    0.0  3.542246       1.0\n",
       "\n",
       "[139 rows x 7 columns]"
      ]
     },
     "execution_count": 63,
     "metadata": {},
     "output_type": "execute_result"
    }
   ],
   "source": [
    "pd.pivot_table(df_new3,index=['Age','Sex'])"
   ]
  },
  {
   "cell_type": "markdown",
   "id": "b0a1fe22",
   "metadata": {
    "papermill": {
     "duration": 0.035469,
     "end_time": "2022-08-08T18:50:35.707684",
     "exception": false,
     "start_time": "2022-08-08T18:50:35.672215",
     "status": "completed"
    },
    "tags": []
   },
   "source": [
    "Whatever is given as column, becomes your column value.\n",
    "\n",
    "Values is the one that occurs in row. \n",
    "\n",
    "Aggfunc will help us to find specific things we want like count or sum or mean etc."
   ]
  },
  {
   "cell_type": "code",
   "execution_count": 64,
   "id": "3bc14426",
   "metadata": {
    "execution": {
     "iopub.execute_input": "2022-08-08T18:50:35.776696Z",
     "iopub.status.busy": "2022-08-08T18:50:35.776242Z",
     "iopub.status.idle": "2022-08-08T18:50:35.796758Z",
     "shell.execute_reply": "2022-08-08T18:50:35.795306Z"
    },
    "papermill": {
     "duration": 0.058485,
     "end_time": "2022-08-08T18:50:35.799343",
     "exception": false,
     "start_time": "2022-08-08T18:50:35.740858",
     "status": "completed"
    },
    "tags": []
   },
   "outputs": [
    {
     "data": {
      "text/html": [
       "<div>\n",
       "<style scoped>\n",
       "    .dataframe tbody tr th:only-of-type {\n",
       "        vertical-align: middle;\n",
       "    }\n",
       "\n",
       "    .dataframe tbody tr th {\n",
       "        vertical-align: top;\n",
       "    }\n",
       "\n",
       "    .dataframe thead th {\n",
       "        text-align: right;\n",
       "    }\n",
       "</style>\n",
       "<table border=\"1\" class=\"dataframe\">\n",
       "  <thead>\n",
       "    <tr style=\"text-align: right;\">\n",
       "      <th>Sex</th>\n",
       "      <th>female</th>\n",
       "      <th>male</th>\n",
       "    </tr>\n",
       "  </thead>\n",
       "  <tbody>\n",
       "    <tr>\n",
       "      <th>Survived</th>\n",
       "      <td>143</td>\n",
       "      <td>79</td>\n",
       "    </tr>\n",
       "  </tbody>\n",
       "</table>\n",
       "</div>"
      ],
      "text/plain": [
       "Sex       female  male\n",
       "Survived     143    79"
      ]
     },
     "execution_count": 64,
     "metadata": {},
     "output_type": "execute_result"
    }
   ],
   "source": [
    "pd.pivot_table(df_new3,values='Survived',columns=['Sex'],aggfunc=np.sum)"
   ]
  },
  {
   "cell_type": "markdown",
   "id": "c6369259",
   "metadata": {
    "papermill": {
     "duration": 0.033654,
     "end_time": "2022-08-08T18:50:35.868161",
     "exception": false,
     "start_time": "2022-08-08T18:50:35.834507",
     "status": "completed"
    },
    "tags": []
   },
   "source": [
    "Here, values= top column names.\n",
    "\n",
    "index= index of the df\n",
    "\n",
    "columns= for the values asked, the columns are divided"
   ]
  },
  {
   "cell_type": "markdown",
   "id": "7aee284a",
   "metadata": {
    "papermill": {
     "duration": 0.03655,
     "end_time": "2022-08-08T18:50:35.938386",
     "exception": false,
     "start_time": "2022-08-08T18:50:35.901836",
     "status": "completed"
    },
    "tags": []
   },
   "source": [
    "pivot table below would give you the mean(aggfunc) of age(value) for sex(column) and desc(index)"
   ]
  },
  {
   "cell_type": "code",
   "execution_count": 65,
   "id": "b5367ac5",
   "metadata": {
    "execution": {
     "iopub.execute_input": "2022-08-08T18:50:36.008568Z",
     "iopub.status.busy": "2022-08-08T18:50:36.007561Z",
     "iopub.status.idle": "2022-08-08T18:50:36.034734Z",
     "shell.execute_reply": "2022-08-08T18:50:36.033415Z"
    },
    "papermill": {
     "duration": 0.06668,
     "end_time": "2022-08-08T18:50:36.037357",
     "exception": false,
     "start_time": "2022-08-08T18:50:35.970677",
     "status": "completed"
    },
    "tags": []
   },
   "outputs": [
    {
     "data": {
      "text/html": [
       "<div>\n",
       "<style scoped>\n",
       "    .dataframe tbody tr th:only-of-type {\n",
       "        vertical-align: middle;\n",
       "    }\n",
       "\n",
       "    .dataframe tbody tr th {\n",
       "        vertical-align: top;\n",
       "    }\n",
       "\n",
       "    .dataframe thead th {\n",
       "        text-align: right;\n",
       "    }\n",
       "</style>\n",
       "<table border=\"1\" class=\"dataframe\">\n",
       "  <thead>\n",
       "    <tr style=\"text-align: right;\">\n",
       "      <th>Sex</th>\n",
       "      <th>female</th>\n",
       "      <th>male</th>\n",
       "    </tr>\n",
       "    <tr>\n",
       "      <th>Desc</th>\n",
       "      <th></th>\n",
       "      <th></th>\n",
       "    </tr>\n",
       "  </thead>\n",
       "  <tbody>\n",
       "    <tr>\n",
       "      <th>adult</th>\n",
       "      <td>28.956204</td>\n",
       "      <td>29.112040</td>\n",
       "    </tr>\n",
       "    <tr>\n",
       "      <th>child</th>\n",
       "      <td>8.880000</td>\n",
       "      <td>8.902778</td>\n",
       "    </tr>\n",
       "    <tr>\n",
       "      <th>oldage</th>\n",
       "      <td>51.611111</td>\n",
       "      <td>55.838710</td>\n",
       "    </tr>\n",
       "  </tbody>\n",
       "</table>\n",
       "</div>"
      ],
      "text/plain": [
       "Sex        female       male\n",
       "Desc                        \n",
       "adult   28.956204  29.112040\n",
       "child    8.880000   8.902778\n",
       "oldage  51.611111  55.838710"
      ]
     },
     "execution_count": 65,
     "metadata": {},
     "output_type": "execute_result"
    }
   ],
   "source": [
    "pd.pivot_table(df_new3,values='Age',index='Desc',columns=['Sex'],aggfunc=np.mean)"
   ]
  },
  {
   "cell_type": "markdown",
   "id": "a44d7468",
   "metadata": {
    "papermill": {
     "duration": 0.034181,
     "end_time": "2022-08-08T18:50:36.106871",
     "exception": false,
     "start_time": "2022-08-08T18:50:36.072690",
     "status": "completed"
    },
    "tags": []
   },
   "source": [
    "this gives us minimum age of the passenger bales on desc and sex( as aggfunc is min)"
   ]
  },
  {
   "cell_type": "code",
   "execution_count": 66,
   "id": "be3892ad",
   "metadata": {
    "execution": {
     "iopub.execute_input": "2022-08-08T18:50:36.178025Z",
     "iopub.status.busy": "2022-08-08T18:50:36.177242Z",
     "iopub.status.idle": "2022-08-08T18:50:36.199504Z",
     "shell.execute_reply": "2022-08-08T18:50:36.198534Z"
    },
    "papermill": {
     "duration": 0.061578,
     "end_time": "2022-08-08T18:50:36.201921",
     "exception": false,
     "start_time": "2022-08-08T18:50:36.140343",
     "status": "completed"
    },
    "tags": []
   },
   "outputs": [
    {
     "data": {
      "text/html": [
       "<div>\n",
       "<style scoped>\n",
       "    .dataframe tbody tr th:only-of-type {\n",
       "        vertical-align: middle;\n",
       "    }\n",
       "\n",
       "    .dataframe tbody tr th {\n",
       "        vertical-align: top;\n",
       "    }\n",
       "\n",
       "    .dataframe thead th {\n",
       "        text-align: right;\n",
       "    }\n",
       "</style>\n",
       "<table border=\"1\" class=\"dataframe\">\n",
       "  <thead>\n",
       "    <tr style=\"text-align: right;\">\n",
       "      <th>Sex</th>\n",
       "      <th>female</th>\n",
       "      <th>male</th>\n",
       "    </tr>\n",
       "    <tr>\n",
       "      <th>Desc</th>\n",
       "      <th></th>\n",
       "      <th></th>\n",
       "    </tr>\n",
       "  </thead>\n",
       "  <tbody>\n",
       "    <tr>\n",
       "      <th>adult</th>\n",
       "      <td>18.00</td>\n",
       "      <td>18.00</td>\n",
       "    </tr>\n",
       "    <tr>\n",
       "      <th>child</th>\n",
       "      <td>0.75</td>\n",
       "      <td>0.42</td>\n",
       "    </tr>\n",
       "    <tr>\n",
       "      <th>oldage</th>\n",
       "      <td>47.00</td>\n",
       "      <td>45.50</td>\n",
       "    </tr>\n",
       "  </tbody>\n",
       "</table>\n",
       "</div>"
      ],
      "text/plain": [
       "Sex     female   male\n",
       "Desc                 \n",
       "adult    18.00  18.00\n",
       "child     0.75   0.42\n",
       "oldage   47.00  45.50"
      ]
     },
     "execution_count": 66,
     "metadata": {},
     "output_type": "execute_result"
    }
   ],
   "source": [
    "pd.pivot_table(df_new3,values='Age',index=['Desc'],columns=['Sex'],aggfunc=np.min)"
   ]
  },
  {
   "cell_type": "code",
   "execution_count": 67,
   "id": "51ea57ca",
   "metadata": {
    "execution": {
     "iopub.execute_input": "2022-08-08T18:50:36.271743Z",
     "iopub.status.busy": "2022-08-08T18:50:36.271000Z",
     "iopub.status.idle": "2022-08-08T18:50:36.296037Z",
     "shell.execute_reply": "2022-08-08T18:50:36.295057Z"
    },
    "papermill": {
     "duration": 0.062688,
     "end_time": "2022-08-08T18:50:36.299114",
     "exception": false,
     "start_time": "2022-08-08T18:50:36.236426",
     "status": "completed"
    },
    "tags": []
   },
   "outputs": [
    {
     "data": {
      "text/html": [
       "<div>\n",
       "<style scoped>\n",
       "    .dataframe tbody tr th:only-of-type {\n",
       "        vertical-align: middle;\n",
       "    }\n",
       "\n",
       "    .dataframe tbody tr th {\n",
       "        vertical-align: top;\n",
       "    }\n",
       "\n",
       "    .dataframe thead tr th {\n",
       "        text-align: left;\n",
       "    }\n",
       "\n",
       "    .dataframe thead tr:last-of-type th {\n",
       "        text-align: right;\n",
       "    }\n",
       "</style>\n",
       "<table border=\"1\" class=\"dataframe\">\n",
       "  <thead>\n",
       "    <tr>\n",
       "      <th></th>\n",
       "      <th colspan=\"2\" halign=\"left\">Embarked</th>\n",
       "      <th colspan=\"2\" halign=\"left\">Pclass</th>\n",
       "    </tr>\n",
       "    <tr>\n",
       "      <th>Sex</th>\n",
       "      <th>female</th>\n",
       "      <th>male</th>\n",
       "      <th>female</th>\n",
       "      <th>male</th>\n",
       "    </tr>\n",
       "    <tr>\n",
       "      <th>Desc</th>\n",
       "      <th></th>\n",
       "      <th></th>\n",
       "      <th></th>\n",
       "      <th></th>\n",
       "    </tr>\n",
       "  </thead>\n",
       "  <tbody>\n",
       "    <tr>\n",
       "      <th>adult</th>\n",
       "      <td>137</td>\n",
       "      <td>299</td>\n",
       "      <td>137</td>\n",
       "      <td>299</td>\n",
       "    </tr>\n",
       "    <tr>\n",
       "      <th>child</th>\n",
       "      <td>50</td>\n",
       "      <td>54</td>\n",
       "      <td>50</td>\n",
       "      <td>54</td>\n",
       "    </tr>\n",
       "    <tr>\n",
       "      <th>oldage</th>\n",
       "      <td>18</td>\n",
       "      <td>62</td>\n",
       "      <td>18</td>\n",
       "      <td>62</td>\n",
       "    </tr>\n",
       "  </tbody>\n",
       "</table>\n",
       "</div>"
      ],
      "text/plain": [
       "       Embarked      Pclass     \n",
       "Sex      female male female male\n",
       "Desc                            \n",
       "adult       137  299    137  299\n",
       "child        50   54     50   54\n",
       "oldage       18   62     18   62"
      ]
     },
     "execution_count": 67,
     "metadata": {},
     "output_type": "execute_result"
    }
   ],
   "source": [
    "pd.pivot_table(df_new3,values=['Embarked','Pclass'],index=['Desc'],columns=['Sex'],aggfunc=(lambda x:len(x)))"
   ]
  },
  {
   "cell_type": "markdown",
   "id": "7a8e444c",
   "metadata": {
    "papermill": {
     "duration": 0.03327,
     "end_time": "2022-08-08T18:50:36.367882",
     "exception": false,
     "start_time": "2022-08-08T18:50:36.334612",
     "status": "completed"
    },
    "tags": []
   },
   "source": []
  },
  {
   "cell_type": "code",
   "execution_count": 68,
   "id": "ba487c28",
   "metadata": {
    "execution": {
     "iopub.execute_input": "2022-08-08T18:50:36.437707Z",
     "iopub.status.busy": "2022-08-08T18:50:36.437260Z",
     "iopub.status.idle": "2022-08-08T18:50:36.455752Z",
     "shell.execute_reply": "2022-08-08T18:50:36.454293Z"
    },
    "papermill": {
     "duration": 0.056264,
     "end_time": "2022-08-08T18:50:36.458448",
     "exception": false,
     "start_time": "2022-08-08T18:50:36.402184",
     "status": "completed"
    },
    "tags": []
   },
   "outputs": [
    {
     "data": {
      "text/html": [
       "<div>\n",
       "<style scoped>\n",
       "    .dataframe tbody tr th:only-of-type {\n",
       "        vertical-align: middle;\n",
       "    }\n",
       "\n",
       "    .dataframe tbody tr th {\n",
       "        vertical-align: top;\n",
       "    }\n",
       "\n",
       "    .dataframe thead th {\n",
       "        text-align: right;\n",
       "    }\n",
       "</style>\n",
       "<table border=\"1\" class=\"dataframe\">\n",
       "  <thead>\n",
       "    <tr style=\"text-align: right;\">\n",
       "      <th>Desc</th>\n",
       "      <th>adult</th>\n",
       "      <th>child</th>\n",
       "      <th>oldage</th>\n",
       "    </tr>\n",
       "  </thead>\n",
       "  <tbody>\n",
       "    <tr>\n",
       "      <th>Sex</th>\n",
       "      <td>436</td>\n",
       "      <td>104</td>\n",
       "      <td>80</td>\n",
       "    </tr>\n",
       "  </tbody>\n",
       "</table>\n",
       "</div>"
      ],
      "text/plain": [
       "Desc  adult  child  oldage\n",
       "Sex     436    104      80"
      ]
     },
     "execution_count": 68,
     "metadata": {},
     "output_type": "execute_result"
    }
   ],
   "source": [
    "pd.pivot_table(df_new3,values='Sex',columns='Desc',aggfunc=(lambda x:len(x)))"
   ]
  }
 ],
 "metadata": {
  "kernelspec": {
   "display_name": "Python 3",
   "language": "python",
   "name": "python3"
  },
  "language_info": {
   "codemirror_mode": {
    "name": "ipython",
    "version": 3
   },
   "file_extension": ".py",
   "mimetype": "text/x-python",
   "name": "python",
   "nbconvert_exporter": "python",
   "pygments_lexer": "ipython3",
   "version": "3.7.12"
  },
  "papermill": {
   "default_parameters": {},
   "duration": 23.88127,
   "end_time": "2022-08-08T18:50:37.418600",
   "environment_variables": {},
   "exception": null,
   "input_path": "__notebook__.ipynb",
   "output_path": "__notebook__.ipynb",
   "parameters": {},
   "start_time": "2022-08-08T18:50:13.537330",
   "version": "2.3.4"
  }
 },
 "nbformat": 4,
 "nbformat_minor": 5
}

{
 "cells": [
  {
   "cell_type": "code",
   "execution_count": 1,
   "id": "77e46306",
   "metadata": {
    "execution": {
     "iopub.execute_input": "2022-08-08T16:29:28.221550Z",
     "iopub.status.busy": "2022-08-08T16:29:28.220468Z",
     "iopub.status.idle": "2022-08-08T16:29:29.311816Z",
     "shell.execute_reply": "2022-08-08T16:29:29.310520Z"
    },
    "papermill": {
     "duration": 1.121632,
     "end_time": "2022-08-08T16:29:29.314976",
     "exception": false,
     "start_time": "2022-08-08T16:29:28.193344",
     "status": "completed"
    },
    "tags": []
   },
   "outputs": [],
   "source": [
    "import pandas as pd\n",
    "import numpy as np\n",
    "import matplotlib.pyplot as plt\n",
    "import seaborn as sns"
   ]
  },
  {
   "cell_type": "markdown",
   "id": "d78e0482",
   "metadata": {
    "papermill": {
     "duration": 0.016482,
     "end_time": "2022-08-08T16:29:29.350185",
     "exception": false,
     "start_time": "2022-08-08T16:29:29.333703",
     "status": "completed"
    },
    "tags": []
   },
   "source": [
    "To read data, we use read_csv from pandas. we store it in a variable called df (which means dataframe)"
   ]
  },
  {
   "cell_type": "code",
   "execution_count": 2,
   "id": "c0998ca7",
   "metadata": {
    "execution": {
     "iopub.execute_input": "2022-08-08T16:29:29.385086Z",
     "iopub.status.busy": "2022-08-08T16:29:29.384637Z",
     "iopub.status.idle": "2022-08-08T16:29:29.407267Z",
     "shell.execute_reply": "2022-08-08T16:29:29.405908Z"
    },
    "papermill": {
     "duration": 0.043206,
     "end_time": "2022-08-08T16:29:29.409944",
     "exception": false,
     "start_time": "2022-08-08T16:29:29.366738",
     "status": "completed"
    },
    "tags": []
   },
   "outputs": [],
   "source": [
    "df=pd.read_csv(\"../input/titanic/train.csv\")"
   ]
  },
  {
   "cell_type": "markdown",
   "id": "377d45b3",
   "metadata": {
    "papermill": {
     "duration": 0.016507,
     "end_time": "2022-08-08T16:29:29.443893",
     "exception": false,
     "start_time": "2022-08-08T16:29:29.427386",
     "status": "completed"
    },
    "tags": []
   },
   "source": [
    "head() helps us to display the first 5 observations.\n",
    "\n",
    "We can specify the argument as head(10) to get first 10 observations\n",
    "\n",
    "In the same way, tail() helps us to display the last 5 observations."
   ]
  },
  {
   "cell_type": "code",
   "execution_count": 3,
   "id": "59ee6461",
   "metadata": {
    "execution": {
     "iopub.execute_input": "2022-08-08T16:29:29.479791Z",
     "iopub.status.busy": "2022-08-08T16:29:29.478811Z",
     "iopub.status.idle": "2022-08-08T16:29:29.502371Z",
     "shell.execute_reply": "2022-08-08T16:29:29.501581Z"
    },
    "papermill": {
     "duration": 0.044155,
     "end_time": "2022-08-08T16:29:29.504824",
     "exception": false,
     "start_time": "2022-08-08T16:29:29.460669",
     "status": "completed"
    },
    "tags": []
   },
   "outputs": [
    {
     "data": {
      "text/html": [
       "<div>\n",
       "<style scoped>\n",
       "    .dataframe tbody tr th:only-of-type {\n",
       "        vertical-align: middle;\n",
       "    }\n",
       "\n",
       "    .dataframe tbody tr th {\n",
       "        vertical-align: top;\n",
       "    }\n",
       "\n",
       "    .dataframe thead th {\n",
       "        text-align: right;\n",
       "    }\n",
       "</style>\n",
       "<table border=\"1\" class=\"dataframe\">\n",
       "  <thead>\n",
       "    <tr style=\"text-align: right;\">\n",
       "      <th></th>\n",
       "      <th>PassengerId</th>\n",
       "      <th>Survived</th>\n",
       "      <th>Pclass</th>\n",
       "      <th>Name</th>\n",
       "      <th>Sex</th>\n",
       "      <th>Age</th>\n",
       "      <th>SibSp</th>\n",
       "      <th>Parch</th>\n",
       "      <th>Ticket</th>\n",
       "      <th>Fare</th>\n",
       "      <th>Cabin</th>\n",
       "      <th>Embarked</th>\n",
       "    </tr>\n",
       "  </thead>\n",
       "  <tbody>\n",
       "    <tr>\n",
       "      <th>0</th>\n",
       "      <td>1</td>\n",
       "      <td>0</td>\n",
       "      <td>3</td>\n",
       "      <td>Braund, Mr. Owen Harris</td>\n",
       "      <td>male</td>\n",
       "      <td>22.0</td>\n",
       "      <td>1</td>\n",
       "      <td>0</td>\n",
       "      <td>A/5 21171</td>\n",
       "      <td>7.2500</td>\n",
       "      <td>NaN</td>\n",
       "      <td>S</td>\n",
       "    </tr>\n",
       "    <tr>\n",
       "      <th>1</th>\n",
       "      <td>2</td>\n",
       "      <td>1</td>\n",
       "      <td>1</td>\n",
       "      <td>Cumings, Mrs. John Bradley (Florence Briggs Th...</td>\n",
       "      <td>female</td>\n",
       "      <td>38.0</td>\n",
       "      <td>1</td>\n",
       "      <td>0</td>\n",
       "      <td>PC 17599</td>\n",
       "      <td>71.2833</td>\n",
       "      <td>C85</td>\n",
       "      <td>C</td>\n",
       "    </tr>\n",
       "    <tr>\n",
       "      <th>2</th>\n",
       "      <td>3</td>\n",
       "      <td>1</td>\n",
       "      <td>3</td>\n",
       "      <td>Heikkinen, Miss. Laina</td>\n",
       "      <td>female</td>\n",
       "      <td>26.0</td>\n",
       "      <td>0</td>\n",
       "      <td>0</td>\n",
       "      <td>STON/O2. 3101282</td>\n",
       "      <td>7.9250</td>\n",
       "      <td>NaN</td>\n",
       "      <td>S</td>\n",
       "    </tr>\n",
       "    <tr>\n",
       "      <th>3</th>\n",
       "      <td>4</td>\n",
       "      <td>1</td>\n",
       "      <td>1</td>\n",
       "      <td>Futrelle, Mrs. Jacques Heath (Lily May Peel)</td>\n",
       "      <td>female</td>\n",
       "      <td>35.0</td>\n",
       "      <td>1</td>\n",
       "      <td>0</td>\n",
       "      <td>113803</td>\n",
       "      <td>53.1000</td>\n",
       "      <td>C123</td>\n",
       "      <td>S</td>\n",
       "    </tr>\n",
       "    <tr>\n",
       "      <th>4</th>\n",
       "      <td>5</td>\n",
       "      <td>0</td>\n",
       "      <td>3</td>\n",
       "      <td>Allen, Mr. William Henry</td>\n",
       "      <td>male</td>\n",
       "      <td>35.0</td>\n",
       "      <td>0</td>\n",
       "      <td>0</td>\n",
       "      <td>373450</td>\n",
       "      <td>8.0500</td>\n",
       "      <td>NaN</td>\n",
       "      <td>S</td>\n",
       "    </tr>\n",
       "  </tbody>\n",
       "</table>\n",
       "</div>"
      ],
      "text/plain": [
       "   PassengerId  Survived  Pclass  \\\n",
       "0            1         0       3   \n",
       "1            2         1       1   \n",
       "2            3         1       3   \n",
       "3            4         1       1   \n",
       "4            5         0       3   \n",
       "\n",
       "                                                Name     Sex   Age  SibSp  \\\n",
       "0                            Braund, Mr. Owen Harris    male  22.0      1   \n",
       "1  Cumings, Mrs. John Bradley (Florence Briggs Th...  female  38.0      1   \n",
       "2                             Heikkinen, Miss. Laina  female  26.0      0   \n",
       "3       Futrelle, Mrs. Jacques Heath (Lily May Peel)  female  35.0      1   \n",
       "4                           Allen, Mr. William Henry    male  35.0      0   \n",
       "\n",
       "   Parch            Ticket     Fare Cabin Embarked  \n",
       "0      0         A/5 21171   7.2500   NaN        S  \n",
       "1      0          PC 17599  71.2833   C85        C  \n",
       "2      0  STON/O2. 3101282   7.9250   NaN        S  \n",
       "3      0            113803  53.1000  C123        S  \n",
       "4      0            373450   8.0500   NaN        S  "
      ]
     },
     "execution_count": 3,
     "metadata": {},
     "output_type": "execute_result"
    }
   ],
   "source": [
    "df.head()"
   ]
  },
  {
   "cell_type": "code",
   "execution_count": 4,
   "id": "287a6af8",
   "metadata": {
    "execution": {
     "iopub.execute_input": "2022-08-08T16:29:29.540646Z",
     "iopub.status.busy": "2022-08-08T16:29:29.539940Z",
     "iopub.status.idle": "2022-08-08T16:29:29.555495Z",
     "shell.execute_reply": "2022-08-08T16:29:29.554388Z"
    },
    "papermill": {
     "duration": 0.035824,
     "end_time": "2022-08-08T16:29:29.557684",
     "exception": false,
     "start_time": "2022-08-08T16:29:29.521860",
     "status": "completed"
    },
    "tags": []
   },
   "outputs": [
    {
     "data": {
      "text/html": [
       "<div>\n",
       "<style scoped>\n",
       "    .dataframe tbody tr th:only-of-type {\n",
       "        vertical-align: middle;\n",
       "    }\n",
       "\n",
       "    .dataframe tbody tr th {\n",
       "        vertical-align: top;\n",
       "    }\n",
       "\n",
       "    .dataframe thead th {\n",
       "        text-align: right;\n",
       "    }\n",
       "</style>\n",
       "<table border=\"1\" class=\"dataframe\">\n",
       "  <thead>\n",
       "    <tr style=\"text-align: right;\">\n",
       "      <th></th>\n",
       "      <th>PassengerId</th>\n",
       "      <th>Survived</th>\n",
       "      <th>Pclass</th>\n",
       "      <th>Name</th>\n",
       "      <th>Sex</th>\n",
       "      <th>Age</th>\n",
       "      <th>SibSp</th>\n",
       "      <th>Parch</th>\n",
       "      <th>Ticket</th>\n",
       "      <th>Fare</th>\n",
       "      <th>Cabin</th>\n",
       "      <th>Embarked</th>\n",
       "    </tr>\n",
       "  </thead>\n",
       "  <tbody>\n",
       "    <tr>\n",
       "      <th>886</th>\n",
       "      <td>887</td>\n",
       "      <td>0</td>\n",
       "      <td>2</td>\n",
       "      <td>Montvila, Rev. Juozas</td>\n",
       "      <td>male</td>\n",
       "      <td>27.0</td>\n",
       "      <td>0</td>\n",
       "      <td>0</td>\n",
       "      <td>211536</td>\n",
       "      <td>13.00</td>\n",
       "      <td>NaN</td>\n",
       "      <td>S</td>\n",
       "    </tr>\n",
       "    <tr>\n",
       "      <th>887</th>\n",
       "      <td>888</td>\n",
       "      <td>1</td>\n",
       "      <td>1</td>\n",
       "      <td>Graham, Miss. Margaret Edith</td>\n",
       "      <td>female</td>\n",
       "      <td>19.0</td>\n",
       "      <td>0</td>\n",
       "      <td>0</td>\n",
       "      <td>112053</td>\n",
       "      <td>30.00</td>\n",
       "      <td>B42</td>\n",
       "      <td>S</td>\n",
       "    </tr>\n",
       "    <tr>\n",
       "      <th>888</th>\n",
       "      <td>889</td>\n",
       "      <td>0</td>\n",
       "      <td>3</td>\n",
       "      <td>Johnston, Miss. Catherine Helen \"Carrie\"</td>\n",
       "      <td>female</td>\n",
       "      <td>NaN</td>\n",
       "      <td>1</td>\n",
       "      <td>2</td>\n",
       "      <td>W./C. 6607</td>\n",
       "      <td>23.45</td>\n",
       "      <td>NaN</td>\n",
       "      <td>S</td>\n",
       "    </tr>\n",
       "    <tr>\n",
       "      <th>889</th>\n",
       "      <td>890</td>\n",
       "      <td>1</td>\n",
       "      <td>1</td>\n",
       "      <td>Behr, Mr. Karl Howell</td>\n",
       "      <td>male</td>\n",
       "      <td>26.0</td>\n",
       "      <td>0</td>\n",
       "      <td>0</td>\n",
       "      <td>111369</td>\n",
       "      <td>30.00</td>\n",
       "      <td>C148</td>\n",
       "      <td>C</td>\n",
       "    </tr>\n",
       "    <tr>\n",
       "      <th>890</th>\n",
       "      <td>891</td>\n",
       "      <td>0</td>\n",
       "      <td>3</td>\n",
       "      <td>Dooley, Mr. Patrick</td>\n",
       "      <td>male</td>\n",
       "      <td>32.0</td>\n",
       "      <td>0</td>\n",
       "      <td>0</td>\n",
       "      <td>370376</td>\n",
       "      <td>7.75</td>\n",
       "      <td>NaN</td>\n",
       "      <td>Q</td>\n",
       "    </tr>\n",
       "  </tbody>\n",
       "</table>\n",
       "</div>"
      ],
      "text/plain": [
       "     PassengerId  Survived  Pclass                                      Name  \\\n",
       "886          887         0       2                     Montvila, Rev. Juozas   \n",
       "887          888         1       1              Graham, Miss. Margaret Edith   \n",
       "888          889         0       3  Johnston, Miss. Catherine Helen \"Carrie\"   \n",
       "889          890         1       1                     Behr, Mr. Karl Howell   \n",
       "890          891         0       3                       Dooley, Mr. Patrick   \n",
       "\n",
       "        Sex   Age  SibSp  Parch      Ticket   Fare Cabin Embarked  \n",
       "886    male  27.0      0      0      211536  13.00   NaN        S  \n",
       "887  female  19.0      0      0      112053  30.00   B42        S  \n",
       "888  female   NaN      1      2  W./C. 6607  23.45   NaN        S  \n",
       "889    male  26.0      0      0      111369  30.00  C148        C  \n",
       "890    male  32.0      0      0      370376   7.75   NaN        Q  "
      ]
     },
     "execution_count": 4,
     "metadata": {},
     "output_type": "execute_result"
    }
   ],
   "source": [
    "df.tail()"
   ]
  },
  {
   "cell_type": "markdown",
   "id": "167a6d55",
   "metadata": {
    "papermill": {
     "duration": 0.016571,
     "end_time": "2022-08-08T16:29:29.591144",
     "exception": false,
     "start_time": "2022-08-08T16:29:29.574573",
     "status": "completed"
    },
    "tags": []
   },
   "source": [
    "df.shape gives us the shape of the dataset.\n",
    "\n",
    "It returns a tuple. the first number is the number of rows and the second one is the number of columns in that data"
   ]
  },
  {
   "cell_type": "code",
   "execution_count": 5,
   "id": "e098abbb",
   "metadata": {
    "execution": {
     "iopub.execute_input": "2022-08-08T16:29:29.626868Z",
     "iopub.status.busy": "2022-08-08T16:29:29.626437Z",
     "iopub.status.idle": "2022-08-08T16:29:29.633303Z",
     "shell.execute_reply": "2022-08-08T16:29:29.632145Z"
    },
    "papermill": {
     "duration": 0.027561,
     "end_time": "2022-08-08T16:29:29.635639",
     "exception": false,
     "start_time": "2022-08-08T16:29:29.608078",
     "status": "completed"
    },
    "tags": []
   },
   "outputs": [
    {
     "data": {
      "text/plain": [
       "(891, 12)"
      ]
     },
     "execution_count": 5,
     "metadata": {},
     "output_type": "execute_result"
    }
   ],
   "source": [
    "df.shape"
   ]
  },
  {
   "cell_type": "markdown",
   "id": "55535c83",
   "metadata": {
    "papermill": {
     "duration": 0.016643,
     "end_time": "2022-08-08T16:29:29.669575",
     "exception": false,
     "start_time": "2022-08-08T16:29:29.652932",
     "status": "completed"
    },
    "tags": []
   },
   "source": [
    "This tells us there are 891 rows and 12 columns"
   ]
  },
  {
   "cell_type": "markdown",
   "id": "5376d84e",
   "metadata": {
    "papermill": {
     "duration": 0.017222,
     "end_time": "2022-08-08T16:29:29.703781",
     "exception": false,
     "start_time": "2022-08-08T16:29:29.686559",
     "status": "completed"
    },
    "tags": []
   },
   "source": [
    "We can see that, there's and index given by the dataframe and also passenger ID that starts with 1. so we will probably make the passenger ID the first column"
   ]
  },
  {
   "cell_type": "code",
   "execution_count": 6,
   "id": "b705f4a4",
   "metadata": {
    "execution": {
     "iopub.execute_input": "2022-08-08T16:29:29.741944Z",
     "iopub.status.busy": "2022-08-08T16:29:29.740956Z",
     "iopub.status.idle": "2022-08-08T16:29:29.755006Z",
     "shell.execute_reply": "2022-08-08T16:29:29.753460Z"
    },
    "papermill": {
     "duration": 0.037463,
     "end_time": "2022-08-08T16:29:29.758440",
     "exception": false,
     "start_time": "2022-08-08T16:29:29.720977",
     "status": "completed"
    },
    "tags": []
   },
   "outputs": [],
   "source": [
    "df=df.set_index(\"PassengerId\")"
   ]
  },
  {
   "cell_type": "markdown",
   "id": "b2f474cc",
   "metadata": {
    "papermill": {
     "duration": 0.027201,
     "end_time": "2022-08-08T16:29:29.804591",
     "exception": false,
     "start_time": "2022-08-08T16:29:29.777390",
     "status": "completed"
    },
    "tags": []
   },
   "source": [
    "We see that PassengerId has become the index columns of the dataframe."
   ]
  },
  {
   "cell_type": "code",
   "execution_count": 7,
   "id": "dab775f3",
   "metadata": {
    "execution": {
     "iopub.execute_input": "2022-08-08T16:29:29.846620Z",
     "iopub.status.busy": "2022-08-08T16:29:29.845391Z",
     "iopub.status.idle": "2022-08-08T16:29:29.866473Z",
     "shell.execute_reply": "2022-08-08T16:29:29.865486Z"
    },
    "papermill": {
     "duration": 0.045748,
     "end_time": "2022-08-08T16:29:29.868936",
     "exception": false,
     "start_time": "2022-08-08T16:29:29.823188",
     "status": "completed"
    },
    "tags": []
   },
   "outputs": [
    {
     "data": {
      "text/html": [
       "<div>\n",
       "<style scoped>\n",
       "    .dataframe tbody tr th:only-of-type {\n",
       "        vertical-align: middle;\n",
       "    }\n",
       "\n",
       "    .dataframe tbody tr th {\n",
       "        vertical-align: top;\n",
       "    }\n",
       "\n",
       "    .dataframe thead th {\n",
       "        text-align: right;\n",
       "    }\n",
       "</style>\n",
       "<table border=\"1\" class=\"dataframe\">\n",
       "  <thead>\n",
       "    <tr style=\"text-align: right;\">\n",
       "      <th></th>\n",
       "      <th>Survived</th>\n",
       "      <th>Pclass</th>\n",
       "      <th>Name</th>\n",
       "      <th>Sex</th>\n",
       "      <th>Age</th>\n",
       "      <th>SibSp</th>\n",
       "      <th>Parch</th>\n",
       "      <th>Ticket</th>\n",
       "      <th>Fare</th>\n",
       "      <th>Cabin</th>\n",
       "      <th>Embarked</th>\n",
       "    </tr>\n",
       "    <tr>\n",
       "      <th>PassengerId</th>\n",
       "      <th></th>\n",
       "      <th></th>\n",
       "      <th></th>\n",
       "      <th></th>\n",
       "      <th></th>\n",
       "      <th></th>\n",
       "      <th></th>\n",
       "      <th></th>\n",
       "      <th></th>\n",
       "      <th></th>\n",
       "      <th></th>\n",
       "    </tr>\n",
       "  </thead>\n",
       "  <tbody>\n",
       "    <tr>\n",
       "      <th>1</th>\n",
       "      <td>0</td>\n",
       "      <td>3</td>\n",
       "      <td>Braund, Mr. Owen Harris</td>\n",
       "      <td>male</td>\n",
       "      <td>22.0</td>\n",
       "      <td>1</td>\n",
       "      <td>0</td>\n",
       "      <td>A/5 21171</td>\n",
       "      <td>7.2500</td>\n",
       "      <td>NaN</td>\n",
       "      <td>S</td>\n",
       "    </tr>\n",
       "    <tr>\n",
       "      <th>2</th>\n",
       "      <td>1</td>\n",
       "      <td>1</td>\n",
       "      <td>Cumings, Mrs. John Bradley (Florence Briggs Th...</td>\n",
       "      <td>female</td>\n",
       "      <td>38.0</td>\n",
       "      <td>1</td>\n",
       "      <td>0</td>\n",
       "      <td>PC 17599</td>\n",
       "      <td>71.2833</td>\n",
       "      <td>C85</td>\n",
       "      <td>C</td>\n",
       "    </tr>\n",
       "    <tr>\n",
       "      <th>3</th>\n",
       "      <td>1</td>\n",
       "      <td>3</td>\n",
       "      <td>Heikkinen, Miss. Laina</td>\n",
       "      <td>female</td>\n",
       "      <td>26.0</td>\n",
       "      <td>0</td>\n",
       "      <td>0</td>\n",
       "      <td>STON/O2. 3101282</td>\n",
       "      <td>7.9250</td>\n",
       "      <td>NaN</td>\n",
       "      <td>S</td>\n",
       "    </tr>\n",
       "    <tr>\n",
       "      <th>4</th>\n",
       "      <td>1</td>\n",
       "      <td>1</td>\n",
       "      <td>Futrelle, Mrs. Jacques Heath (Lily May Peel)</td>\n",
       "      <td>female</td>\n",
       "      <td>35.0</td>\n",
       "      <td>1</td>\n",
       "      <td>0</td>\n",
       "      <td>113803</td>\n",
       "      <td>53.1000</td>\n",
       "      <td>C123</td>\n",
       "      <td>S</td>\n",
       "    </tr>\n",
       "    <tr>\n",
       "      <th>5</th>\n",
       "      <td>0</td>\n",
       "      <td>3</td>\n",
       "      <td>Allen, Mr. William Henry</td>\n",
       "      <td>male</td>\n",
       "      <td>35.0</td>\n",
       "      <td>0</td>\n",
       "      <td>0</td>\n",
       "      <td>373450</td>\n",
       "      <td>8.0500</td>\n",
       "      <td>NaN</td>\n",
       "      <td>S</td>\n",
       "    </tr>\n",
       "  </tbody>\n",
       "</table>\n",
       "</div>"
      ],
      "text/plain": [
       "             Survived  Pclass  \\\n",
       "PassengerId                     \n",
       "1                   0       3   \n",
       "2                   1       1   \n",
       "3                   1       3   \n",
       "4                   1       1   \n",
       "5                   0       3   \n",
       "\n",
       "                                                          Name     Sex   Age  \\\n",
       "PassengerId                                                                    \n",
       "1                                      Braund, Mr. Owen Harris    male  22.0   \n",
       "2            Cumings, Mrs. John Bradley (Florence Briggs Th...  female  38.0   \n",
       "3                                       Heikkinen, Miss. Laina  female  26.0   \n",
       "4                 Futrelle, Mrs. Jacques Heath (Lily May Peel)  female  35.0   \n",
       "5                                     Allen, Mr. William Henry    male  35.0   \n",
       "\n",
       "             SibSp  Parch            Ticket     Fare Cabin Embarked  \n",
       "PassengerId                                                          \n",
       "1                1      0         A/5 21171   7.2500   NaN        S  \n",
       "2                1      0          PC 17599  71.2833   C85        C  \n",
       "3                0      0  STON/O2. 3101282   7.9250   NaN        S  \n",
       "4                1      0            113803  53.1000  C123        S  \n",
       "5                0      0            373450   8.0500   NaN        S  "
      ]
     },
     "execution_count": 7,
     "metadata": {},
     "output_type": "execute_result"
    }
   ],
   "source": [
    "df.head()"
   ]
  },
  {
   "cell_type": "markdown",
   "id": "e2eb9839",
   "metadata": {
    "papermill": {
     "duration": 0.018246,
     "end_time": "2022-08-08T16:29:29.906106",
     "exception": false,
     "start_time": "2022-08-08T16:29:29.887860",
     "status": "completed"
    },
    "tags": []
   },
   "source": [
    "We first start by understanding our data.\n",
    "\n",
    "- what are the columns in the dataset\n",
    "- how many values are present and if column has null values\n",
    "- we get the descriptive statistics( mean, median, std deviation) of the numerical column of the dataset\n",
    "- what are the datatypes of the column present in the dataset\n",
    "- are there any duplicate values in the columns"
   ]
  },
  {
   "cell_type": "markdown",
   "id": "c7ff9cd4",
   "metadata": {
    "papermill": {
     "duration": 0.018411,
     "end_time": "2022-08-08T16:29:29.942735",
     "exception": false,
     "start_time": "2022-08-08T16:29:29.924324",
     "status": "completed"
    },
    "tags": []
   },
   "source": [
    "info() gives us the information about the\n",
    "\n",
    "- number of columns\n",
    "- names of columns\n",
    "- datatype of the columns\n",
    "- non-null values"
   ]
  },
  {
   "cell_type": "code",
   "execution_count": 8,
   "id": "bf09facd",
   "metadata": {
    "execution": {
     "iopub.execute_input": "2022-08-08T16:29:29.980297Z",
     "iopub.status.busy": "2022-08-08T16:29:29.979561Z",
     "iopub.status.idle": "2022-08-08T16:29:30.002120Z",
     "shell.execute_reply": "2022-08-08T16:29:30.000644Z"
    },
    "papermill": {
     "duration": 0.044289,
     "end_time": "2022-08-08T16:29:30.004852",
     "exception": false,
     "start_time": "2022-08-08T16:29:29.960563",
     "status": "completed"
    },
    "tags": []
   },
   "outputs": [
    {
     "name": "stdout",
     "output_type": "stream",
     "text": [
      "<class 'pandas.core.frame.DataFrame'>\n",
      "Int64Index: 891 entries, 1 to 891\n",
      "Data columns (total 11 columns):\n",
      " #   Column    Non-Null Count  Dtype  \n",
      "---  ------    --------------  -----  \n",
      " 0   Survived  891 non-null    int64  \n",
      " 1   Pclass    891 non-null    int64  \n",
      " 2   Name      891 non-null    object \n",
      " 3   Sex       891 non-null    object \n",
      " 4   Age       714 non-null    float64\n",
      " 5   SibSp     891 non-null    int64  \n",
      " 6   Parch     891 non-null    int64  \n",
      " 7   Ticket    891 non-null    object \n",
      " 8   Fare      891 non-null    float64\n",
      " 9   Cabin     204 non-null    object \n",
      " 10  Embarked  889 non-null    object \n",
      "dtypes: float64(2), int64(4), object(5)\n",
      "memory usage: 83.5+ KB\n"
     ]
    }
   ],
   "source": [
    "df.info()"
   ]
  },
  {
   "cell_type": "markdown",
   "id": "6b30d871",
   "metadata": {
    "papermill": {
     "duration": 0.017101,
     "end_time": "2022-08-08T16:29:30.039506",
     "exception": false,
     "start_time": "2022-08-08T16:29:30.022405",
     "status": "completed"
    },
    "tags": []
   },
   "source": [
    "We see that there are 10 columns. THere are actually 11 columns in total including the PassengerId column we set as index.\n",
    "\n",
    "We have 2 float (float64) variables, 4 integer(int64) variables and 5 Strings (object)\n",
    "\n",
    "We are somewhat able to see that **Age** has a few missing values.\n",
    "\n",
    "We can also see that **cabin** has a LOT of missing values like, 687 null values. \n",
    "(We can drop this column OR we can try to figure out the cabins for othe passenger by checking if there is any relation with Fare)\n",
    "\n",
    "There are also 2 null values in the **embarked** column."
   ]
  },
  {
   "cell_type": "markdown",
   "id": "77513e46",
   "metadata": {
    "papermill": {
     "duration": 0.017051,
     "end_time": "2022-08-08T16:29:30.074038",
     "exception": false,
     "start_time": "2022-08-08T16:29:30.056987",
     "status": "completed"
    },
    "tags": []
   },
   "source": [
    "We can get the list of columns in our dataframe by using df.columns"
   ]
  },
  {
   "cell_type": "code",
   "execution_count": 9,
   "id": "64b3ecb3",
   "metadata": {
    "execution": {
     "iopub.execute_input": "2022-08-08T16:29:30.110646Z",
     "iopub.status.busy": "2022-08-08T16:29:30.110230Z",
     "iopub.status.idle": "2022-08-08T16:29:30.117866Z",
     "shell.execute_reply": "2022-08-08T16:29:30.116594Z"
    },
    "papermill": {
     "duration": 0.028759,
     "end_time": "2022-08-08T16:29:30.120174",
     "exception": false,
     "start_time": "2022-08-08T16:29:30.091415",
     "status": "completed"
    },
    "tags": []
   },
   "outputs": [
    {
     "data": {
      "text/plain": [
       "['Survived',\n",
       " 'Pclass',\n",
       " 'Name',\n",
       " 'Sex',\n",
       " 'Age',\n",
       " 'SibSp',\n",
       " 'Parch',\n",
       " 'Ticket',\n",
       " 'Fare',\n",
       " 'Cabin',\n",
       " 'Embarked']"
      ]
     },
     "execution_count": 9,
     "metadata": {},
     "output_type": "execute_result"
    }
   ],
   "source": [
    "list(df.columns)"
   ]
  },
  {
   "cell_type": "markdown",
   "id": "46b33ebe",
   "metadata": {
    "papermill": {
     "duration": 0.017225,
     "end_time": "2022-08-08T16:29:30.154991",
     "exception": false,
     "start_time": "2022-08-08T16:29:30.137766",
     "status": "completed"
    },
    "tags": []
   },
   "source": [
    "isna() or isnull() for a datframe woulf return the entire dataframe with TRUE FALSE values. TRUE would mean value is NULL and FALSE would mean it is not."
   ]
  },
  {
   "cell_type": "code",
   "execution_count": 10,
   "id": "dfc40fab",
   "metadata": {
    "execution": {
     "iopub.execute_input": "2022-08-08T16:29:30.192335Z",
     "iopub.status.busy": "2022-08-08T16:29:30.191299Z",
     "iopub.status.idle": "2022-08-08T16:29:30.211915Z",
     "shell.execute_reply": "2022-08-08T16:29:30.210740Z"
    },
    "papermill": {
     "duration": 0.041929,
     "end_time": "2022-08-08T16:29:30.214437",
     "exception": false,
     "start_time": "2022-08-08T16:29:30.172508",
     "status": "completed"
    },
    "tags": []
   },
   "outputs": [
    {
     "data": {
      "text/html": [
       "<div>\n",
       "<style scoped>\n",
       "    .dataframe tbody tr th:only-of-type {\n",
       "        vertical-align: middle;\n",
       "    }\n",
       "\n",
       "    .dataframe tbody tr th {\n",
       "        vertical-align: top;\n",
       "    }\n",
       "\n",
       "    .dataframe thead th {\n",
       "        text-align: right;\n",
       "    }\n",
       "</style>\n",
       "<table border=\"1\" class=\"dataframe\">\n",
       "  <thead>\n",
       "    <tr style=\"text-align: right;\">\n",
       "      <th></th>\n",
       "      <th>Survived</th>\n",
       "      <th>Pclass</th>\n",
       "      <th>Name</th>\n",
       "      <th>Sex</th>\n",
       "      <th>Age</th>\n",
       "      <th>SibSp</th>\n",
       "      <th>Parch</th>\n",
       "      <th>Ticket</th>\n",
       "      <th>Fare</th>\n",
       "      <th>Cabin</th>\n",
       "      <th>Embarked</th>\n",
       "    </tr>\n",
       "    <tr>\n",
       "      <th>PassengerId</th>\n",
       "      <th></th>\n",
       "      <th></th>\n",
       "      <th></th>\n",
       "      <th></th>\n",
       "      <th></th>\n",
       "      <th></th>\n",
       "      <th></th>\n",
       "      <th></th>\n",
       "      <th></th>\n",
       "      <th></th>\n",
       "      <th></th>\n",
       "    </tr>\n",
       "  </thead>\n",
       "  <tbody>\n",
       "    <tr>\n",
       "      <th>1</th>\n",
       "      <td>False</td>\n",
       "      <td>False</td>\n",
       "      <td>False</td>\n",
       "      <td>False</td>\n",
       "      <td>False</td>\n",
       "      <td>False</td>\n",
       "      <td>False</td>\n",
       "      <td>False</td>\n",
       "      <td>False</td>\n",
       "      <td>True</td>\n",
       "      <td>False</td>\n",
       "    </tr>\n",
       "    <tr>\n",
       "      <th>2</th>\n",
       "      <td>False</td>\n",
       "      <td>False</td>\n",
       "      <td>False</td>\n",
       "      <td>False</td>\n",
       "      <td>False</td>\n",
       "      <td>False</td>\n",
       "      <td>False</td>\n",
       "      <td>False</td>\n",
       "      <td>False</td>\n",
       "      <td>False</td>\n",
       "      <td>False</td>\n",
       "    </tr>\n",
       "    <tr>\n",
       "      <th>3</th>\n",
       "      <td>False</td>\n",
       "      <td>False</td>\n",
       "      <td>False</td>\n",
       "      <td>False</td>\n",
       "      <td>False</td>\n",
       "      <td>False</td>\n",
       "      <td>False</td>\n",
       "      <td>False</td>\n",
       "      <td>False</td>\n",
       "      <td>True</td>\n",
       "      <td>False</td>\n",
       "    </tr>\n",
       "    <tr>\n",
       "      <th>4</th>\n",
       "      <td>False</td>\n",
       "      <td>False</td>\n",
       "      <td>False</td>\n",
       "      <td>False</td>\n",
       "      <td>False</td>\n",
       "      <td>False</td>\n",
       "      <td>False</td>\n",
       "      <td>False</td>\n",
       "      <td>False</td>\n",
       "      <td>False</td>\n",
       "      <td>False</td>\n",
       "    </tr>\n",
       "    <tr>\n",
       "      <th>5</th>\n",
       "      <td>False</td>\n",
       "      <td>False</td>\n",
       "      <td>False</td>\n",
       "      <td>False</td>\n",
       "      <td>False</td>\n",
       "      <td>False</td>\n",
       "      <td>False</td>\n",
       "      <td>False</td>\n",
       "      <td>False</td>\n",
       "      <td>True</td>\n",
       "      <td>False</td>\n",
       "    </tr>\n",
       "    <tr>\n",
       "      <th>...</th>\n",
       "      <td>...</td>\n",
       "      <td>...</td>\n",
       "      <td>...</td>\n",
       "      <td>...</td>\n",
       "      <td>...</td>\n",
       "      <td>...</td>\n",
       "      <td>...</td>\n",
       "      <td>...</td>\n",
       "      <td>...</td>\n",
       "      <td>...</td>\n",
       "      <td>...</td>\n",
       "    </tr>\n",
       "    <tr>\n",
       "      <th>887</th>\n",
       "      <td>False</td>\n",
       "      <td>False</td>\n",
       "      <td>False</td>\n",
       "      <td>False</td>\n",
       "      <td>False</td>\n",
       "      <td>False</td>\n",
       "      <td>False</td>\n",
       "      <td>False</td>\n",
       "      <td>False</td>\n",
       "      <td>True</td>\n",
       "      <td>False</td>\n",
       "    </tr>\n",
       "    <tr>\n",
       "      <th>888</th>\n",
       "      <td>False</td>\n",
       "      <td>False</td>\n",
       "      <td>False</td>\n",
       "      <td>False</td>\n",
       "      <td>False</td>\n",
       "      <td>False</td>\n",
       "      <td>False</td>\n",
       "      <td>False</td>\n",
       "      <td>False</td>\n",
       "      <td>False</td>\n",
       "      <td>False</td>\n",
       "    </tr>\n",
       "    <tr>\n",
       "      <th>889</th>\n",
       "      <td>False</td>\n",
       "      <td>False</td>\n",
       "      <td>False</td>\n",
       "      <td>False</td>\n",
       "      <td>True</td>\n",
       "      <td>False</td>\n",
       "      <td>False</td>\n",
       "      <td>False</td>\n",
       "      <td>False</td>\n",
       "      <td>True</td>\n",
       "      <td>False</td>\n",
       "    </tr>\n",
       "    <tr>\n",
       "      <th>890</th>\n",
       "      <td>False</td>\n",
       "      <td>False</td>\n",
       "      <td>False</td>\n",
       "      <td>False</td>\n",
       "      <td>False</td>\n",
       "      <td>False</td>\n",
       "      <td>False</td>\n",
       "      <td>False</td>\n",
       "      <td>False</td>\n",
       "      <td>False</td>\n",
       "      <td>False</td>\n",
       "    </tr>\n",
       "    <tr>\n",
       "      <th>891</th>\n",
       "      <td>False</td>\n",
       "      <td>False</td>\n",
       "      <td>False</td>\n",
       "      <td>False</td>\n",
       "      <td>False</td>\n",
       "      <td>False</td>\n",
       "      <td>False</td>\n",
       "      <td>False</td>\n",
       "      <td>False</td>\n",
       "      <td>True</td>\n",
       "      <td>False</td>\n",
       "    </tr>\n",
       "  </tbody>\n",
       "</table>\n",
       "<p>891 rows × 11 columns</p>\n",
       "</div>"
      ],
      "text/plain": [
       "             Survived  Pclass   Name    Sex    Age  SibSp  Parch  Ticket  \\\n",
       "PassengerId                                                                \n",
       "1               False   False  False  False  False  False  False   False   \n",
       "2               False   False  False  False  False  False  False   False   \n",
       "3               False   False  False  False  False  False  False   False   \n",
       "4               False   False  False  False  False  False  False   False   \n",
       "5               False   False  False  False  False  False  False   False   \n",
       "...               ...     ...    ...    ...    ...    ...    ...     ...   \n",
       "887             False   False  False  False  False  False  False   False   \n",
       "888             False   False  False  False  False  False  False   False   \n",
       "889             False   False  False  False   True  False  False   False   \n",
       "890             False   False  False  False  False  False  False   False   \n",
       "891             False   False  False  False  False  False  False   False   \n",
       "\n",
       "              Fare  Cabin  Embarked  \n",
       "PassengerId                          \n",
       "1            False   True     False  \n",
       "2            False  False     False  \n",
       "3            False   True     False  \n",
       "4            False  False     False  \n",
       "5            False   True     False  \n",
       "...            ...    ...       ...  \n",
       "887          False   True     False  \n",
       "888          False  False     False  \n",
       "889          False   True     False  \n",
       "890          False  False     False  \n",
       "891          False   True     False  \n",
       "\n",
       "[891 rows x 11 columns]"
      ]
     },
     "execution_count": 10,
     "metadata": {},
     "output_type": "execute_result"
    }
   ],
   "source": [
    "df.isnull()"
   ]
  },
  {
   "cell_type": "markdown",
   "id": "bdd7346e",
   "metadata": {
    "papermill": {
     "duration": 0.017761,
     "end_time": "2022-08-08T16:29:30.250231",
     "exception": false,
     "start_time": "2022-08-08T16:29:30.232470",
     "status": "completed"
    },
    "tags": []
   },
   "source": [
    "We can try to find the null value counts in each of the column using df.isnua().sum()"
   ]
  },
  {
   "cell_type": "code",
   "execution_count": 11,
   "id": "847e041d",
   "metadata": {
    "execution": {
     "iopub.execute_input": "2022-08-08T16:29:30.287888Z",
     "iopub.status.busy": "2022-08-08T16:29:30.287426Z",
     "iopub.status.idle": "2022-08-08T16:29:30.297703Z",
     "shell.execute_reply": "2022-08-08T16:29:30.296924Z"
    },
    "papermill": {
     "duration": 0.031519,
     "end_time": "2022-08-08T16:29:30.299676",
     "exception": false,
     "start_time": "2022-08-08T16:29:30.268157",
     "status": "completed"
    },
    "tags": []
   },
   "outputs": [
    {
     "data": {
      "text/plain": [
       "Survived      0\n",
       "Pclass        0\n",
       "Name          0\n",
       "Sex           0\n",
       "Age         177\n",
       "SibSp         0\n",
       "Parch         0\n",
       "Ticket        0\n",
       "Fare          0\n",
       "Cabin       687\n",
       "Embarked      2\n",
       "dtype: int64"
      ]
     },
     "execution_count": 11,
     "metadata": {},
     "output_type": "execute_result"
    }
   ],
   "source": [
    "df.isna().sum()"
   ]
  },
  {
   "cell_type": "code",
   "execution_count": 12,
   "id": "1cc823a1",
   "metadata": {
    "execution": {
     "iopub.execute_input": "2022-08-08T16:29:30.337602Z",
     "iopub.status.busy": "2022-08-08T16:29:30.336983Z",
     "iopub.status.idle": "2022-08-08T16:29:30.342435Z",
     "shell.execute_reply": "2022-08-08T16:29:30.341420Z"
    },
    "papermill": {
     "duration": 0.02694,
     "end_time": "2022-08-08T16:29:30.344644",
     "exception": false,
     "start_time": "2022-08-08T16:29:30.317704",
     "status": "completed"
    },
    "tags": []
   },
   "outputs": [],
   "source": [
    "grp1=df.groupby(\"Sex\")"
   ]
  },
  {
   "cell_type": "markdown",
   "id": "720431ee",
   "metadata": {
    "papermill": {
     "duration": 0.01769,
     "end_time": "2022-08-08T16:29:30.380490",
     "exception": false,
     "start_time": "2022-08-08T16:29:30.362800",
     "status": "completed"
    },
    "tags": []
   },
   "source": [
    "group.first prints all the first entries of the groups."
   ]
  },
  {
   "cell_type": "code",
   "execution_count": 13,
   "id": "774ef02f",
   "metadata": {
    "execution": {
     "iopub.execute_input": "2022-08-08T16:29:30.418334Z",
     "iopub.status.busy": "2022-08-08T16:29:30.417805Z",
     "iopub.status.idle": "2022-08-08T16:29:30.439047Z",
     "shell.execute_reply": "2022-08-08T16:29:30.438122Z"
    },
    "papermill": {
     "duration": 0.042628,
     "end_time": "2022-08-08T16:29:30.441158",
     "exception": false,
     "start_time": "2022-08-08T16:29:30.398530",
     "status": "completed"
    },
    "tags": []
   },
   "outputs": [
    {
     "data": {
      "text/html": [
       "<div>\n",
       "<style scoped>\n",
       "    .dataframe tbody tr th:only-of-type {\n",
       "        vertical-align: middle;\n",
       "    }\n",
       "\n",
       "    .dataframe tbody tr th {\n",
       "        vertical-align: top;\n",
       "    }\n",
       "\n",
       "    .dataframe thead th {\n",
       "        text-align: right;\n",
       "    }\n",
       "</style>\n",
       "<table border=\"1\" class=\"dataframe\">\n",
       "  <thead>\n",
       "    <tr style=\"text-align: right;\">\n",
       "      <th></th>\n",
       "      <th>Survived</th>\n",
       "      <th>Pclass</th>\n",
       "      <th>Name</th>\n",
       "      <th>Age</th>\n",
       "      <th>SibSp</th>\n",
       "      <th>Parch</th>\n",
       "      <th>Ticket</th>\n",
       "      <th>Fare</th>\n",
       "      <th>Cabin</th>\n",
       "      <th>Embarked</th>\n",
       "    </tr>\n",
       "    <tr>\n",
       "      <th>Sex</th>\n",
       "      <th></th>\n",
       "      <th></th>\n",
       "      <th></th>\n",
       "      <th></th>\n",
       "      <th></th>\n",
       "      <th></th>\n",
       "      <th></th>\n",
       "      <th></th>\n",
       "      <th></th>\n",
       "      <th></th>\n",
       "    </tr>\n",
       "  </thead>\n",
       "  <tbody>\n",
       "    <tr>\n",
       "      <th>female</th>\n",
       "      <td>1</td>\n",
       "      <td>1</td>\n",
       "      <td>Cumings, Mrs. John Bradley (Florence Briggs Th...</td>\n",
       "      <td>38.0</td>\n",
       "      <td>1</td>\n",
       "      <td>0</td>\n",
       "      <td>PC 17599</td>\n",
       "      <td>71.2833</td>\n",
       "      <td>C85</td>\n",
       "      <td>C</td>\n",
       "    </tr>\n",
       "    <tr>\n",
       "      <th>male</th>\n",
       "      <td>0</td>\n",
       "      <td>3</td>\n",
       "      <td>Braund, Mr. Owen Harris</td>\n",
       "      <td>22.0</td>\n",
       "      <td>1</td>\n",
       "      <td>0</td>\n",
       "      <td>A/5 21171</td>\n",
       "      <td>7.2500</td>\n",
       "      <td>E46</td>\n",
       "      <td>S</td>\n",
       "    </tr>\n",
       "  </tbody>\n",
       "</table>\n",
       "</div>"
      ],
      "text/plain": [
       "        Survived  Pclass                                               Name  \\\n",
       "Sex                                                                           \n",
       "female         1       1  Cumings, Mrs. John Bradley (Florence Briggs Th...   \n",
       "male           0       3                            Braund, Mr. Owen Harris   \n",
       "\n",
       "         Age  SibSp  Parch     Ticket     Fare Cabin Embarked  \n",
       "Sex                                                            \n",
       "female  38.0      1      0   PC 17599  71.2833   C85        C  \n",
       "male    22.0      1      0  A/5 21171   7.2500   E46        S  "
      ]
     },
     "execution_count": 13,
     "metadata": {},
     "output_type": "execute_result"
    }
   ],
   "source": [
    "grp1.first()"
   ]
  },
  {
   "cell_type": "markdown",
   "id": "7fe9859c",
   "metadata": {
    "papermill": {
     "duration": 0.018035,
     "end_time": "2022-08-08T16:29:30.477383",
     "exception": false,
     "start_time": "2022-08-08T16:29:30.459348",
     "status": "completed"
    },
    "tags": []
   },
   "source": [
    "to access/find the values contained by one of the group, we use teh get_group function.\n"
   ]
  },
  {
   "cell_type": "code",
   "execution_count": 14,
   "id": "c9742479",
   "metadata": {
    "execution": {
     "iopub.execute_input": "2022-08-08T16:29:30.516235Z",
     "iopub.status.busy": "2022-08-08T16:29:30.515328Z",
     "iopub.status.idle": "2022-08-08T16:29:30.540469Z",
     "shell.execute_reply": "2022-08-08T16:29:30.539396Z"
    },
    "papermill": {
     "duration": 0.0472,
     "end_time": "2022-08-08T16:29:30.542888",
     "exception": false,
     "start_time": "2022-08-08T16:29:30.495688",
     "status": "completed"
    },
    "tags": []
   },
   "outputs": [
    {
     "data": {
      "text/html": [
       "<div>\n",
       "<style scoped>\n",
       "    .dataframe tbody tr th:only-of-type {\n",
       "        vertical-align: middle;\n",
       "    }\n",
       "\n",
       "    .dataframe tbody tr th {\n",
       "        vertical-align: top;\n",
       "    }\n",
       "\n",
       "    .dataframe thead th {\n",
       "        text-align: right;\n",
       "    }\n",
       "</style>\n",
       "<table border=\"1\" class=\"dataframe\">\n",
       "  <thead>\n",
       "    <tr style=\"text-align: right;\">\n",
       "      <th></th>\n",
       "      <th>Survived</th>\n",
       "      <th>Pclass</th>\n",
       "      <th>Name</th>\n",
       "      <th>Sex</th>\n",
       "      <th>Age</th>\n",
       "      <th>SibSp</th>\n",
       "      <th>Parch</th>\n",
       "      <th>Ticket</th>\n",
       "      <th>Fare</th>\n",
       "      <th>Cabin</th>\n",
       "      <th>Embarked</th>\n",
       "    </tr>\n",
       "    <tr>\n",
       "      <th>PassengerId</th>\n",
       "      <th></th>\n",
       "      <th></th>\n",
       "      <th></th>\n",
       "      <th></th>\n",
       "      <th></th>\n",
       "      <th></th>\n",
       "      <th></th>\n",
       "      <th></th>\n",
       "      <th></th>\n",
       "      <th></th>\n",
       "      <th></th>\n",
       "    </tr>\n",
       "  </thead>\n",
       "  <tbody>\n",
       "    <tr>\n",
       "      <th>2</th>\n",
       "      <td>1</td>\n",
       "      <td>1</td>\n",
       "      <td>Cumings, Mrs. John Bradley (Florence Briggs Th...</td>\n",
       "      <td>female</td>\n",
       "      <td>38.0</td>\n",
       "      <td>1</td>\n",
       "      <td>0</td>\n",
       "      <td>PC 17599</td>\n",
       "      <td>71.2833</td>\n",
       "      <td>C85</td>\n",
       "      <td>C</td>\n",
       "    </tr>\n",
       "    <tr>\n",
       "      <th>3</th>\n",
       "      <td>1</td>\n",
       "      <td>3</td>\n",
       "      <td>Heikkinen, Miss. Laina</td>\n",
       "      <td>female</td>\n",
       "      <td>26.0</td>\n",
       "      <td>0</td>\n",
       "      <td>0</td>\n",
       "      <td>STON/O2. 3101282</td>\n",
       "      <td>7.9250</td>\n",
       "      <td>NaN</td>\n",
       "      <td>S</td>\n",
       "    </tr>\n",
       "    <tr>\n",
       "      <th>4</th>\n",
       "      <td>1</td>\n",
       "      <td>1</td>\n",
       "      <td>Futrelle, Mrs. Jacques Heath (Lily May Peel)</td>\n",
       "      <td>female</td>\n",
       "      <td>35.0</td>\n",
       "      <td>1</td>\n",
       "      <td>0</td>\n",
       "      <td>113803</td>\n",
       "      <td>53.1000</td>\n",
       "      <td>C123</td>\n",
       "      <td>S</td>\n",
       "    </tr>\n",
       "    <tr>\n",
       "      <th>9</th>\n",
       "      <td>1</td>\n",
       "      <td>3</td>\n",
       "      <td>Johnson, Mrs. Oscar W (Elisabeth Vilhelmina Berg)</td>\n",
       "      <td>female</td>\n",
       "      <td>27.0</td>\n",
       "      <td>0</td>\n",
       "      <td>2</td>\n",
       "      <td>347742</td>\n",
       "      <td>11.1333</td>\n",
       "      <td>NaN</td>\n",
       "      <td>S</td>\n",
       "    </tr>\n",
       "    <tr>\n",
       "      <th>10</th>\n",
       "      <td>1</td>\n",
       "      <td>2</td>\n",
       "      <td>Nasser, Mrs. Nicholas (Adele Achem)</td>\n",
       "      <td>female</td>\n",
       "      <td>14.0</td>\n",
       "      <td>1</td>\n",
       "      <td>0</td>\n",
       "      <td>237736</td>\n",
       "      <td>30.0708</td>\n",
       "      <td>NaN</td>\n",
       "      <td>C</td>\n",
       "    </tr>\n",
       "    <tr>\n",
       "      <th>...</th>\n",
       "      <td>...</td>\n",
       "      <td>...</td>\n",
       "      <td>...</td>\n",
       "      <td>...</td>\n",
       "      <td>...</td>\n",
       "      <td>...</td>\n",
       "      <td>...</td>\n",
       "      <td>...</td>\n",
       "      <td>...</td>\n",
       "      <td>...</td>\n",
       "      <td>...</td>\n",
       "    </tr>\n",
       "    <tr>\n",
       "      <th>881</th>\n",
       "      <td>1</td>\n",
       "      <td>2</td>\n",
       "      <td>Shelley, Mrs. William (Imanita Parrish Hall)</td>\n",
       "      <td>female</td>\n",
       "      <td>25.0</td>\n",
       "      <td>0</td>\n",
       "      <td>1</td>\n",
       "      <td>230433</td>\n",
       "      <td>26.0000</td>\n",
       "      <td>NaN</td>\n",
       "      <td>S</td>\n",
       "    </tr>\n",
       "    <tr>\n",
       "      <th>883</th>\n",
       "      <td>0</td>\n",
       "      <td>3</td>\n",
       "      <td>Dahlberg, Miss. Gerda Ulrika</td>\n",
       "      <td>female</td>\n",
       "      <td>22.0</td>\n",
       "      <td>0</td>\n",
       "      <td>0</td>\n",
       "      <td>7552</td>\n",
       "      <td>10.5167</td>\n",
       "      <td>NaN</td>\n",
       "      <td>S</td>\n",
       "    </tr>\n",
       "    <tr>\n",
       "      <th>886</th>\n",
       "      <td>0</td>\n",
       "      <td>3</td>\n",
       "      <td>Rice, Mrs. William (Margaret Norton)</td>\n",
       "      <td>female</td>\n",
       "      <td>39.0</td>\n",
       "      <td>0</td>\n",
       "      <td>5</td>\n",
       "      <td>382652</td>\n",
       "      <td>29.1250</td>\n",
       "      <td>NaN</td>\n",
       "      <td>Q</td>\n",
       "    </tr>\n",
       "    <tr>\n",
       "      <th>888</th>\n",
       "      <td>1</td>\n",
       "      <td>1</td>\n",
       "      <td>Graham, Miss. Margaret Edith</td>\n",
       "      <td>female</td>\n",
       "      <td>19.0</td>\n",
       "      <td>0</td>\n",
       "      <td>0</td>\n",
       "      <td>112053</td>\n",
       "      <td>30.0000</td>\n",
       "      <td>B42</td>\n",
       "      <td>S</td>\n",
       "    </tr>\n",
       "    <tr>\n",
       "      <th>889</th>\n",
       "      <td>0</td>\n",
       "      <td>3</td>\n",
       "      <td>Johnston, Miss. Catherine Helen \"Carrie\"</td>\n",
       "      <td>female</td>\n",
       "      <td>NaN</td>\n",
       "      <td>1</td>\n",
       "      <td>2</td>\n",
       "      <td>W./C. 6607</td>\n",
       "      <td>23.4500</td>\n",
       "      <td>NaN</td>\n",
       "      <td>S</td>\n",
       "    </tr>\n",
       "  </tbody>\n",
       "</table>\n",
       "<p>314 rows × 11 columns</p>\n",
       "</div>"
      ],
      "text/plain": [
       "             Survived  Pclass  \\\n",
       "PassengerId                     \n",
       "2                   1       1   \n",
       "3                   1       3   \n",
       "4                   1       1   \n",
       "9                   1       3   \n",
       "10                  1       2   \n",
       "...               ...     ...   \n",
       "881                 1       2   \n",
       "883                 0       3   \n",
       "886                 0       3   \n",
       "888                 1       1   \n",
       "889                 0       3   \n",
       "\n",
       "                                                          Name     Sex   Age  \\\n",
       "PassengerId                                                                    \n",
       "2            Cumings, Mrs. John Bradley (Florence Briggs Th...  female  38.0   \n",
       "3                                       Heikkinen, Miss. Laina  female  26.0   \n",
       "4                 Futrelle, Mrs. Jacques Heath (Lily May Peel)  female  35.0   \n",
       "9            Johnson, Mrs. Oscar W (Elisabeth Vilhelmina Berg)  female  27.0   \n",
       "10                         Nasser, Mrs. Nicholas (Adele Achem)  female  14.0   \n",
       "...                                                        ...     ...   ...   \n",
       "881               Shelley, Mrs. William (Imanita Parrish Hall)  female  25.0   \n",
       "883                               Dahlberg, Miss. Gerda Ulrika  female  22.0   \n",
       "886                       Rice, Mrs. William (Margaret Norton)  female  39.0   \n",
       "888                               Graham, Miss. Margaret Edith  female  19.0   \n",
       "889                   Johnston, Miss. Catherine Helen \"Carrie\"  female   NaN   \n",
       "\n",
       "             SibSp  Parch            Ticket     Fare Cabin Embarked  \n",
       "PassengerId                                                          \n",
       "2                1      0          PC 17599  71.2833   C85        C  \n",
       "3                0      0  STON/O2. 3101282   7.9250   NaN        S  \n",
       "4                1      0            113803  53.1000  C123        S  \n",
       "9                0      2            347742  11.1333   NaN        S  \n",
       "10               1      0            237736  30.0708   NaN        C  \n",
       "...            ...    ...               ...      ...   ...      ...  \n",
       "881              0      1            230433  26.0000   NaN        S  \n",
       "883              0      0              7552  10.5167   NaN        S  \n",
       "886              0      5            382652  29.1250   NaN        Q  \n",
       "888              0      0            112053  30.0000   B42        S  \n",
       "889              1      2        W./C. 6607  23.4500   NaN        S  \n",
       "\n",
       "[314 rows x 11 columns]"
      ]
     },
     "execution_count": 14,
     "metadata": {},
     "output_type": "execute_result"
    }
   ],
   "source": [
    "grp1.get_group(\"female\")"
   ]
  },
  {
   "cell_type": "markdown",
   "id": "3b48e526",
   "metadata": {
    "papermill": {
     "duration": 0.018376,
     "end_time": "2022-08-08T16:29:30.580405",
     "exception": false,
     "start_time": "2022-08-08T16:29:30.562029",
     "status": "completed"
    },
    "tags": []
   },
   "source": [
    "df.value_counts would give the count of the values present in a particular column"
   ]
  },
  {
   "cell_type": "code",
   "execution_count": 15,
   "id": "34c3b89e",
   "metadata": {
    "execution": {
     "iopub.execute_input": "2022-08-08T16:29:30.620680Z",
     "iopub.status.busy": "2022-08-08T16:29:30.619921Z",
     "iopub.status.idle": "2022-08-08T16:29:30.629234Z",
     "shell.execute_reply": "2022-08-08T16:29:30.628188Z"
    },
    "papermill": {
     "duration": 0.032161,
     "end_time": "2022-08-08T16:29:30.631355",
     "exception": false,
     "start_time": "2022-08-08T16:29:30.599194",
     "status": "completed"
    },
    "tags": []
   },
   "outputs": [
    {
     "data": {
      "text/plain": [
       "Sex\n",
       "male      577\n",
       "female    314\n",
       "dtype: int64"
      ]
     },
     "execution_count": 15,
     "metadata": {},
     "output_type": "execute_result"
    }
   ],
   "source": [
    "df.value_counts(\"Sex\")"
   ]
  },
  {
   "cell_type": "markdown",
   "id": "8dbe5a2c",
   "metadata": {
    "papermill": {
     "duration": 0.018492,
     "end_time": "2022-08-08T16:29:30.668588",
     "exception": false,
     "start_time": "2022-08-08T16:29:30.650096",
     "status": "completed"
    },
    "tags": []
   },
   "source": [
    "to see what the Embarkes column has, we can try this"
   ]
  },
  {
   "cell_type": "code",
   "execution_count": 16,
   "id": "b7c40f96",
   "metadata": {
    "execution": {
     "iopub.execute_input": "2022-08-08T16:29:30.708745Z",
     "iopub.status.busy": "2022-08-08T16:29:30.708109Z",
     "iopub.status.idle": "2022-08-08T16:29:30.716624Z",
     "shell.execute_reply": "2022-08-08T16:29:30.715727Z"
    },
    "papermill": {
     "duration": 0.031426,
     "end_time": "2022-08-08T16:29:30.718692",
     "exception": false,
     "start_time": "2022-08-08T16:29:30.687266",
     "status": "completed"
    },
    "tags": []
   },
   "outputs": [
    {
     "data": {
      "text/plain": [
       "Embarked\n",
       "S    644\n",
       "C    168\n",
       "Q     77\n",
       "dtype: int64"
      ]
     },
     "execution_count": 16,
     "metadata": {},
     "output_type": "execute_result"
    }
   ],
   "source": [
    "df.value_counts(\"Embarked\")"
   ]
  },
  {
   "cell_type": "markdown",
   "id": "608fa096",
   "metadata": {
    "papermill": {
     "duration": 0.018479,
     "end_time": "2022-08-08T16:29:30.756259",
     "exception": false,
     "start_time": "2022-08-08T16:29:30.737780",
     "status": "completed"
    },
    "tags": []
   },
   "source": [
    "We can use groupby function for more than one column. Lets say, Sex and Survived"
   ]
  },
  {
   "cell_type": "code",
   "execution_count": 17,
   "id": "4ae3e7bc",
   "metadata": {
    "execution": {
     "iopub.execute_input": "2022-08-08T16:29:30.795920Z",
     "iopub.status.busy": "2022-08-08T16:29:30.795262Z",
     "iopub.status.idle": "2022-08-08T16:29:30.800601Z",
     "shell.execute_reply": "2022-08-08T16:29:30.799618Z"
    },
    "papermill": {
     "duration": 0.027675,
     "end_time": "2022-08-08T16:29:30.802663",
     "exception": false,
     "start_time": "2022-08-08T16:29:30.774988",
     "status": "completed"
    },
    "tags": []
   },
   "outputs": [],
   "source": [
    "grp2=df.groupby(['Sex','Survived'])"
   ]
  },
  {
   "cell_type": "code",
   "execution_count": 18,
   "id": "7a687905",
   "metadata": {
    "execution": {
     "iopub.execute_input": "2022-08-08T16:29:30.842211Z",
     "iopub.status.busy": "2022-08-08T16:29:30.841532Z",
     "iopub.status.idle": "2022-08-08T16:29:30.860229Z",
     "shell.execute_reply": "2022-08-08T16:29:30.859096Z"
    },
    "papermill": {
     "duration": 0.041263,
     "end_time": "2022-08-08T16:29:30.862520",
     "exception": false,
     "start_time": "2022-08-08T16:29:30.821257",
     "status": "completed"
    },
    "tags": []
   },
   "outputs": [
    {
     "data": {
      "text/html": [
       "<div>\n",
       "<style scoped>\n",
       "    .dataframe tbody tr th:only-of-type {\n",
       "        vertical-align: middle;\n",
       "    }\n",
       "\n",
       "    .dataframe tbody tr th {\n",
       "        vertical-align: top;\n",
       "    }\n",
       "\n",
       "    .dataframe thead th {\n",
       "        text-align: right;\n",
       "    }\n",
       "</style>\n",
       "<table border=\"1\" class=\"dataframe\">\n",
       "  <thead>\n",
       "    <tr style=\"text-align: right;\">\n",
       "      <th></th>\n",
       "      <th></th>\n",
       "      <th>Pclass</th>\n",
       "      <th>Name</th>\n",
       "      <th>Age</th>\n",
       "      <th>SibSp</th>\n",
       "      <th>Parch</th>\n",
       "      <th>Ticket</th>\n",
       "      <th>Fare</th>\n",
       "      <th>Cabin</th>\n",
       "      <th>Embarked</th>\n",
       "    </tr>\n",
       "    <tr>\n",
       "      <th>Sex</th>\n",
       "      <th>Survived</th>\n",
       "      <th></th>\n",
       "      <th></th>\n",
       "      <th></th>\n",
       "      <th></th>\n",
       "      <th></th>\n",
       "      <th></th>\n",
       "      <th></th>\n",
       "      <th></th>\n",
       "      <th></th>\n",
       "    </tr>\n",
       "  </thead>\n",
       "  <tbody>\n",
       "    <tr>\n",
       "      <th rowspan=\"2\" valign=\"top\">female</th>\n",
       "      <th>0</th>\n",
       "      <td>3</td>\n",
       "      <td>Vestrom, Miss. Hulda Amanda Adolfina</td>\n",
       "      <td>14.0</td>\n",
       "      <td>0</td>\n",
       "      <td>0</td>\n",
       "      <td>350406</td>\n",
       "      <td>7.8542</td>\n",
       "      <td>C49</td>\n",
       "      <td>S</td>\n",
       "    </tr>\n",
       "    <tr>\n",
       "      <th>1</th>\n",
       "      <td>1</td>\n",
       "      <td>Cumings, Mrs. John Bradley (Florence Briggs Th...</td>\n",
       "      <td>38.0</td>\n",
       "      <td>1</td>\n",
       "      <td>0</td>\n",
       "      <td>PC 17599</td>\n",
       "      <td>71.2833</td>\n",
       "      <td>C85</td>\n",
       "      <td>C</td>\n",
       "    </tr>\n",
       "    <tr>\n",
       "      <th rowspan=\"2\" valign=\"top\">male</th>\n",
       "      <th>0</th>\n",
       "      <td>3</td>\n",
       "      <td>Braund, Mr. Owen Harris</td>\n",
       "      <td>22.0</td>\n",
       "      <td>1</td>\n",
       "      <td>0</td>\n",
       "      <td>A/5 21171</td>\n",
       "      <td>7.2500</td>\n",
       "      <td>E46</td>\n",
       "      <td>S</td>\n",
       "    </tr>\n",
       "    <tr>\n",
       "      <th>1</th>\n",
       "      <td>2</td>\n",
       "      <td>Williams, Mr. Charles Eugene</td>\n",
       "      <td>34.0</td>\n",
       "      <td>0</td>\n",
       "      <td>0</td>\n",
       "      <td>244373</td>\n",
       "      <td>13.0000</td>\n",
       "      <td>D56</td>\n",
       "      <td>S</td>\n",
       "    </tr>\n",
       "  </tbody>\n",
       "</table>\n",
       "</div>"
      ],
      "text/plain": [
       "                 Pclass                                               Name  \\\n",
       "Sex    Survived                                                              \n",
       "female 0              3               Vestrom, Miss. Hulda Amanda Adolfina   \n",
       "       1              1  Cumings, Mrs. John Bradley (Florence Briggs Th...   \n",
       "male   0              3                            Braund, Mr. Owen Harris   \n",
       "       1              2                       Williams, Mr. Charles Eugene   \n",
       "\n",
       "                  Age  SibSp  Parch     Ticket     Fare Cabin Embarked  \n",
       "Sex    Survived                                                         \n",
       "female 0         14.0      0      0     350406   7.8542   C49        S  \n",
       "       1         38.0      1      0   PC 17599  71.2833   C85        C  \n",
       "male   0         22.0      1      0  A/5 21171   7.2500   E46        S  \n",
       "       1         34.0      0      0     244373  13.0000   D56        S  "
      ]
     },
     "execution_count": 18,
     "metadata": {},
     "output_type": "execute_result"
    }
   ],
   "source": [
    "grp2.first()"
   ]
  },
  {
   "cell_type": "markdown",
   "id": "1a33a2ca",
   "metadata": {
    "papermill": {
     "duration": 0.019455,
     "end_time": "2022-08-08T16:29:30.901143",
     "exception": false,
     "start_time": "2022-08-08T16:29:30.881688",
     "status": "completed"
    },
    "tags": []
   },
   "source": [
    "We saw that the Age column has 177 null values. So let stry to fill them.\n",
    "\n",
    "But the problem is, when we want to replace the null values with mean, we might get mean arount 29. We cannot replace 29 for a child. \n",
    "\n",
    "So we will here use groupby functions "
   ]
  },
  {
   "cell_type": "code",
   "execution_count": 19,
   "id": "fe824f8a",
   "metadata": {
    "execution": {
     "iopub.execute_input": "2022-08-08T16:29:30.941777Z",
     "iopub.status.busy": "2022-08-08T16:29:30.941121Z",
     "iopub.status.idle": "2022-08-08T16:29:30.948381Z",
     "shell.execute_reply": "2022-08-08T16:29:30.947329Z"
    },
    "papermill": {
     "duration": 0.030207,
     "end_time": "2022-08-08T16:29:30.950452",
     "exception": false,
     "start_time": "2022-08-08T16:29:30.920245",
     "status": "completed"
    },
    "tags": []
   },
   "outputs": [
    {
     "data": {
      "text/plain": [
       "29.69911764705882"
      ]
     },
     "execution_count": 19,
     "metadata": {},
     "output_type": "execute_result"
    }
   ],
   "source": [
    "df['Age'].mean()"
   ]
  },
  {
   "cell_type": "markdown",
   "id": "0c26facd",
   "metadata": {
    "papermill": {
     "duration": 0.018849,
     "end_time": "2022-08-08T16:29:30.988494",
     "exception": false,
     "start_time": "2022-08-08T16:29:30.969645",
     "status": "completed"
    },
    "tags": []
   },
   "source": [
    "What we are trying to do here is basically we are trying to have different age groups. Say, child(0-18),adult(18-45), oldage(45+)\n",
    "\n",
    "We can do this in two ways.\n",
    "\n",
    "1. We can try to create new column and specify the value for it using conditions. We create 3 dataframe for chils, adult adn oldage and concatenate them\n",
    "2. We can use bins for this purpose. Using bins makes it very easy"
   ]
  },
  {
   "cell_type": "markdown",
   "id": "f010bf70",
   "metadata": {
    "papermill": {
     "duration": 0.018881,
     "end_time": "2022-08-08T16:29:31.026648",
     "exception": false,
     "start_time": "2022-08-08T16:29:31.007767",
     "status": "completed"
    },
    "tags": []
   },
   "source": [
    "**Method 1**"
   ]
  },
  {
   "cell_type": "code",
   "execution_count": 20,
   "id": "02ab3e22",
   "metadata": {
    "execution": {
     "iopub.execute_input": "2022-08-08T16:29:31.066971Z",
     "iopub.status.busy": "2022-08-08T16:29:31.066564Z",
     "iopub.status.idle": "2022-08-08T16:29:31.074787Z",
     "shell.execute_reply": "2022-08-08T16:29:31.073170Z"
    },
    "papermill": {
     "duration": 0.031409,
     "end_time": "2022-08-08T16:29:31.077182",
     "exception": false,
     "start_time": "2022-08-08T16:29:31.045773",
     "status": "completed"
    },
    "tags": []
   },
   "outputs": [
    {
     "name": "stderr",
     "output_type": "stream",
     "text": [
      "/opt/conda/lib/python3.7/site-packages/ipykernel_launcher.py:2: SettingWithCopyWarning: \n",
      "A value is trying to be set on a copy of a slice from a DataFrame.\n",
      "Try using .loc[row_indexer,col_indexer] = value instead\n",
      "\n",
      "See the caveats in the documentation: https://pandas.pydata.org/pandas-docs/stable/user_guide/indexing.html#returning-a-view-versus-a-copy\n",
      "  \n"
     ]
    }
   ],
   "source": [
    "\n",
    "df_c=df[(df[\"Age\"]>0) & (df['Age']<18)]\n",
    "df_c[\"Desc\"]=\"child\"\n"
   ]
  },
  {
   "cell_type": "code",
   "execution_count": 21,
   "id": "a8c49e54",
   "metadata": {
    "execution": {
     "iopub.execute_input": "2022-08-08T16:29:31.118043Z",
     "iopub.status.busy": "2022-08-08T16:29:31.117639Z",
     "iopub.status.idle": "2022-08-08T16:29:31.133897Z",
     "shell.execute_reply": "2022-08-08T16:29:31.133028Z"
    },
    "papermill": {
     "duration": 0.039018,
     "end_time": "2022-08-08T16:29:31.136045",
     "exception": false,
     "start_time": "2022-08-08T16:29:31.097027",
     "status": "completed"
    },
    "tags": []
   },
   "outputs": [
    {
     "data": {
      "text/html": [
       "<div>\n",
       "<style scoped>\n",
       "    .dataframe tbody tr th:only-of-type {\n",
       "        vertical-align: middle;\n",
       "    }\n",
       "\n",
       "    .dataframe tbody tr th {\n",
       "        vertical-align: top;\n",
       "    }\n",
       "\n",
       "    .dataframe thead th {\n",
       "        text-align: right;\n",
       "    }\n",
       "</style>\n",
       "<table border=\"1\" class=\"dataframe\">\n",
       "  <thead>\n",
       "    <tr style=\"text-align: right;\">\n",
       "      <th></th>\n",
       "      <th>Survived</th>\n",
       "      <th>Pclass</th>\n",
       "      <th>Name</th>\n",
       "      <th>Sex</th>\n",
       "      <th>Age</th>\n",
       "      <th>SibSp</th>\n",
       "      <th>Parch</th>\n",
       "      <th>Ticket</th>\n",
       "      <th>Fare</th>\n",
       "      <th>Cabin</th>\n",
       "      <th>Embarked</th>\n",
       "      <th>Desc</th>\n",
       "    </tr>\n",
       "    <tr>\n",
       "      <th>PassengerId</th>\n",
       "      <th></th>\n",
       "      <th></th>\n",
       "      <th></th>\n",
       "      <th></th>\n",
       "      <th></th>\n",
       "      <th></th>\n",
       "      <th></th>\n",
       "      <th></th>\n",
       "      <th></th>\n",
       "      <th></th>\n",
       "      <th></th>\n",
       "      <th></th>\n",
       "    </tr>\n",
       "  </thead>\n",
       "  <tbody>\n",
       "    <tr>\n",
       "      <th>8</th>\n",
       "      <td>0</td>\n",
       "      <td>3</td>\n",
       "      <td>Palsson, Master. Gosta Leonard</td>\n",
       "      <td>male</td>\n",
       "      <td>2.0</td>\n",
       "      <td>3</td>\n",
       "      <td>1</td>\n",
       "      <td>349909</td>\n",
       "      <td>21.0750</td>\n",
       "      <td>NaN</td>\n",
       "      <td>S</td>\n",
       "      <td>child</td>\n",
       "    </tr>\n",
       "    <tr>\n",
       "      <th>10</th>\n",
       "      <td>1</td>\n",
       "      <td>2</td>\n",
       "      <td>Nasser, Mrs. Nicholas (Adele Achem)</td>\n",
       "      <td>female</td>\n",
       "      <td>14.0</td>\n",
       "      <td>1</td>\n",
       "      <td>0</td>\n",
       "      <td>237736</td>\n",
       "      <td>30.0708</td>\n",
       "      <td>NaN</td>\n",
       "      <td>C</td>\n",
       "      <td>child</td>\n",
       "    </tr>\n",
       "    <tr>\n",
       "      <th>11</th>\n",
       "      <td>1</td>\n",
       "      <td>3</td>\n",
       "      <td>Sandstrom, Miss. Marguerite Rut</td>\n",
       "      <td>female</td>\n",
       "      <td>4.0</td>\n",
       "      <td>1</td>\n",
       "      <td>1</td>\n",
       "      <td>PP 9549</td>\n",
       "      <td>16.7000</td>\n",
       "      <td>G6</td>\n",
       "      <td>S</td>\n",
       "      <td>child</td>\n",
       "    </tr>\n",
       "    <tr>\n",
       "      <th>15</th>\n",
       "      <td>0</td>\n",
       "      <td>3</td>\n",
       "      <td>Vestrom, Miss. Hulda Amanda Adolfina</td>\n",
       "      <td>female</td>\n",
       "      <td>14.0</td>\n",
       "      <td>0</td>\n",
       "      <td>0</td>\n",
       "      <td>350406</td>\n",
       "      <td>7.8542</td>\n",
       "      <td>NaN</td>\n",
       "      <td>S</td>\n",
       "      <td>child</td>\n",
       "    </tr>\n",
       "    <tr>\n",
       "      <th>17</th>\n",
       "      <td>0</td>\n",
       "      <td>3</td>\n",
       "      <td>Rice, Master. Eugene</td>\n",
       "      <td>male</td>\n",
       "      <td>2.0</td>\n",
       "      <td>4</td>\n",
       "      <td>1</td>\n",
       "      <td>382652</td>\n",
       "      <td>29.1250</td>\n",
       "      <td>NaN</td>\n",
       "      <td>Q</td>\n",
       "      <td>child</td>\n",
       "    </tr>\n",
       "  </tbody>\n",
       "</table>\n",
       "</div>"
      ],
      "text/plain": [
       "             Survived  Pclass                                  Name     Sex  \\\n",
       "PassengerId                                                                   \n",
       "8                   0       3        Palsson, Master. Gosta Leonard    male   \n",
       "10                  1       2   Nasser, Mrs. Nicholas (Adele Achem)  female   \n",
       "11                  1       3       Sandstrom, Miss. Marguerite Rut  female   \n",
       "15                  0       3  Vestrom, Miss. Hulda Amanda Adolfina  female   \n",
       "17                  0       3                  Rice, Master. Eugene    male   \n",
       "\n",
       "              Age  SibSp  Parch   Ticket     Fare Cabin Embarked   Desc  \n",
       "PassengerId                                                              \n",
       "8             2.0      3      1   349909  21.0750   NaN        S  child  \n",
       "10           14.0      1      0   237736  30.0708   NaN        C  child  \n",
       "11            4.0      1      1  PP 9549  16.7000    G6        S  child  \n",
       "15           14.0      0      0   350406   7.8542   NaN        S  child  \n",
       "17            2.0      4      1   382652  29.1250   NaN        Q  child  "
      ]
     },
     "execution_count": 21,
     "metadata": {},
     "output_type": "execute_result"
    }
   ],
   "source": [
    "df_c.head()"
   ]
  },
  {
   "cell_type": "code",
   "execution_count": 22,
   "id": "5715c1c4",
   "metadata": {
    "execution": {
     "iopub.execute_input": "2022-08-08T16:29:31.178149Z",
     "iopub.status.busy": "2022-08-08T16:29:31.177446Z",
     "iopub.status.idle": "2022-08-08T16:29:31.184305Z",
     "shell.execute_reply": "2022-08-08T16:29:31.183414Z"
    },
    "papermill": {
     "duration": 0.030307,
     "end_time": "2022-08-08T16:29:31.186584",
     "exception": false,
     "start_time": "2022-08-08T16:29:31.156277",
     "status": "completed"
    },
    "tags": []
   },
   "outputs": [
    {
     "name": "stderr",
     "output_type": "stream",
     "text": [
      "/opt/conda/lib/python3.7/site-packages/ipykernel_launcher.py:2: SettingWithCopyWarning: \n",
      "A value is trying to be set on a copy of a slice from a DataFrame.\n",
      "Try using .loc[row_indexer,col_indexer] = value instead\n",
      "\n",
      "See the caveats in the documentation: https://pandas.pydata.org/pandas-docs/stable/user_guide/indexing.html#returning-a-view-versus-a-copy\n",
      "  \n"
     ]
    }
   ],
   "source": [
    "\n",
    "df_a=df[(df[\"Age\"]>=18) & (df['Age']<=45)]\n",
    "df_a[\"Desc\"]=\"adult\"\n"
   ]
  },
  {
   "cell_type": "code",
   "execution_count": 23,
   "id": "7e9dc14e",
   "metadata": {
    "execution": {
     "iopub.execute_input": "2022-08-08T16:29:31.227818Z",
     "iopub.status.busy": "2022-08-08T16:29:31.227403Z",
     "iopub.status.idle": "2022-08-08T16:29:31.243563Z",
     "shell.execute_reply": "2022-08-08T16:29:31.242767Z"
    },
    "papermill": {
     "duration": 0.03992,
     "end_time": "2022-08-08T16:29:31.246238",
     "exception": false,
     "start_time": "2022-08-08T16:29:31.206318",
     "status": "completed"
    },
    "tags": []
   },
   "outputs": [
    {
     "data": {
      "text/html": [
       "<div>\n",
       "<style scoped>\n",
       "    .dataframe tbody tr th:only-of-type {\n",
       "        vertical-align: middle;\n",
       "    }\n",
       "\n",
       "    .dataframe tbody tr th {\n",
       "        vertical-align: top;\n",
       "    }\n",
       "\n",
       "    .dataframe thead th {\n",
       "        text-align: right;\n",
       "    }\n",
       "</style>\n",
       "<table border=\"1\" class=\"dataframe\">\n",
       "  <thead>\n",
       "    <tr style=\"text-align: right;\">\n",
       "      <th></th>\n",
       "      <th>Survived</th>\n",
       "      <th>Pclass</th>\n",
       "      <th>Name</th>\n",
       "      <th>Sex</th>\n",
       "      <th>Age</th>\n",
       "      <th>SibSp</th>\n",
       "      <th>Parch</th>\n",
       "      <th>Ticket</th>\n",
       "      <th>Fare</th>\n",
       "      <th>Cabin</th>\n",
       "      <th>Embarked</th>\n",
       "      <th>Desc</th>\n",
       "    </tr>\n",
       "    <tr>\n",
       "      <th>PassengerId</th>\n",
       "      <th></th>\n",
       "      <th></th>\n",
       "      <th></th>\n",
       "      <th></th>\n",
       "      <th></th>\n",
       "      <th></th>\n",
       "      <th></th>\n",
       "      <th></th>\n",
       "      <th></th>\n",
       "      <th></th>\n",
       "      <th></th>\n",
       "      <th></th>\n",
       "    </tr>\n",
       "  </thead>\n",
       "  <tbody>\n",
       "    <tr>\n",
       "      <th>1</th>\n",
       "      <td>0</td>\n",
       "      <td>3</td>\n",
       "      <td>Braund, Mr. Owen Harris</td>\n",
       "      <td>male</td>\n",
       "      <td>22.0</td>\n",
       "      <td>1</td>\n",
       "      <td>0</td>\n",
       "      <td>A/5 21171</td>\n",
       "      <td>7.2500</td>\n",
       "      <td>NaN</td>\n",
       "      <td>S</td>\n",
       "      <td>adult</td>\n",
       "    </tr>\n",
       "    <tr>\n",
       "      <th>2</th>\n",
       "      <td>1</td>\n",
       "      <td>1</td>\n",
       "      <td>Cumings, Mrs. John Bradley (Florence Briggs Th...</td>\n",
       "      <td>female</td>\n",
       "      <td>38.0</td>\n",
       "      <td>1</td>\n",
       "      <td>0</td>\n",
       "      <td>PC 17599</td>\n",
       "      <td>71.2833</td>\n",
       "      <td>C85</td>\n",
       "      <td>C</td>\n",
       "      <td>adult</td>\n",
       "    </tr>\n",
       "    <tr>\n",
       "      <th>3</th>\n",
       "      <td>1</td>\n",
       "      <td>3</td>\n",
       "      <td>Heikkinen, Miss. Laina</td>\n",
       "      <td>female</td>\n",
       "      <td>26.0</td>\n",
       "      <td>0</td>\n",
       "      <td>0</td>\n",
       "      <td>STON/O2. 3101282</td>\n",
       "      <td>7.9250</td>\n",
       "      <td>NaN</td>\n",
       "      <td>S</td>\n",
       "      <td>adult</td>\n",
       "    </tr>\n",
       "    <tr>\n",
       "      <th>4</th>\n",
       "      <td>1</td>\n",
       "      <td>1</td>\n",
       "      <td>Futrelle, Mrs. Jacques Heath (Lily May Peel)</td>\n",
       "      <td>female</td>\n",
       "      <td>35.0</td>\n",
       "      <td>1</td>\n",
       "      <td>0</td>\n",
       "      <td>113803</td>\n",
       "      <td>53.1000</td>\n",
       "      <td>C123</td>\n",
       "      <td>S</td>\n",
       "      <td>adult</td>\n",
       "    </tr>\n",
       "    <tr>\n",
       "      <th>5</th>\n",
       "      <td>0</td>\n",
       "      <td>3</td>\n",
       "      <td>Allen, Mr. William Henry</td>\n",
       "      <td>male</td>\n",
       "      <td>35.0</td>\n",
       "      <td>0</td>\n",
       "      <td>0</td>\n",
       "      <td>373450</td>\n",
       "      <td>8.0500</td>\n",
       "      <td>NaN</td>\n",
       "      <td>S</td>\n",
       "      <td>adult</td>\n",
       "    </tr>\n",
       "  </tbody>\n",
       "</table>\n",
       "</div>"
      ],
      "text/plain": [
       "             Survived  Pclass  \\\n",
       "PassengerId                     \n",
       "1                   0       3   \n",
       "2                   1       1   \n",
       "3                   1       3   \n",
       "4                   1       1   \n",
       "5                   0       3   \n",
       "\n",
       "                                                          Name     Sex   Age  \\\n",
       "PassengerId                                                                    \n",
       "1                                      Braund, Mr. Owen Harris    male  22.0   \n",
       "2            Cumings, Mrs. John Bradley (Florence Briggs Th...  female  38.0   \n",
       "3                                       Heikkinen, Miss. Laina  female  26.0   \n",
       "4                 Futrelle, Mrs. Jacques Heath (Lily May Peel)  female  35.0   \n",
       "5                                     Allen, Mr. William Henry    male  35.0   \n",
       "\n",
       "             SibSp  Parch            Ticket     Fare Cabin Embarked   Desc  \n",
       "PassengerId                                                                 \n",
       "1                1      0         A/5 21171   7.2500   NaN        S  adult  \n",
       "2                1      0          PC 17599  71.2833   C85        C  adult  \n",
       "3                0      0  STON/O2. 3101282   7.9250   NaN        S  adult  \n",
       "4                1      0            113803  53.1000  C123        S  adult  \n",
       "5                0      0            373450   8.0500   NaN        S  adult  "
      ]
     },
     "execution_count": 23,
     "metadata": {},
     "output_type": "execute_result"
    }
   ],
   "source": [
    "df_a.head()"
   ]
  },
  {
   "cell_type": "code",
   "execution_count": 24,
   "id": "ca0d48d2",
   "metadata": {
    "execution": {
     "iopub.execute_input": "2022-08-08T16:29:31.288158Z",
     "iopub.status.busy": "2022-08-08T16:29:31.287546Z",
     "iopub.status.idle": "2022-08-08T16:29:31.293632Z",
     "shell.execute_reply": "2022-08-08T16:29:31.292874Z"
    },
    "papermill": {
     "duration": 0.029883,
     "end_time": "2022-08-08T16:29:31.295951",
     "exception": false,
     "start_time": "2022-08-08T16:29:31.266068",
     "status": "completed"
    },
    "tags": []
   },
   "outputs": [
    {
     "name": "stderr",
     "output_type": "stream",
     "text": [
      "/opt/conda/lib/python3.7/site-packages/ipykernel_launcher.py:2: SettingWithCopyWarning: \n",
      "A value is trying to be set on a copy of a slice from a DataFrame.\n",
      "Try using .loc[row_indexer,col_indexer] = value instead\n",
      "\n",
      "See the caveats in the documentation: https://pandas.pydata.org/pandas-docs/stable/user_guide/indexing.html#returning-a-view-versus-a-copy\n",
      "  \n"
     ]
    }
   ],
   "source": [
    "\n",
    "df_o=df[(df[\"Age\"]>45)]\n",
    "df_o[\"Desc\"]=\"oldage\"\n"
   ]
  },
  {
   "cell_type": "code",
   "execution_count": 25,
   "id": "a9e28129",
   "metadata": {
    "execution": {
     "iopub.execute_input": "2022-08-08T16:29:31.338519Z",
     "iopub.status.busy": "2022-08-08T16:29:31.337919Z",
     "iopub.status.idle": "2022-08-08T16:29:31.354002Z",
     "shell.execute_reply": "2022-08-08T16:29:31.353101Z"
    },
    "papermill": {
     "duration": 0.039883,
     "end_time": "2022-08-08T16:29:31.356259",
     "exception": false,
     "start_time": "2022-08-08T16:29:31.316376",
     "status": "completed"
    },
    "tags": []
   },
   "outputs": [
    {
     "data": {
      "text/html": [
       "<div>\n",
       "<style scoped>\n",
       "    .dataframe tbody tr th:only-of-type {\n",
       "        vertical-align: middle;\n",
       "    }\n",
       "\n",
       "    .dataframe tbody tr th {\n",
       "        vertical-align: top;\n",
       "    }\n",
       "\n",
       "    .dataframe thead th {\n",
       "        text-align: right;\n",
       "    }\n",
       "</style>\n",
       "<table border=\"1\" class=\"dataframe\">\n",
       "  <thead>\n",
       "    <tr style=\"text-align: right;\">\n",
       "      <th></th>\n",
       "      <th>Survived</th>\n",
       "      <th>Pclass</th>\n",
       "      <th>Name</th>\n",
       "      <th>Sex</th>\n",
       "      <th>Age</th>\n",
       "      <th>SibSp</th>\n",
       "      <th>Parch</th>\n",
       "      <th>Ticket</th>\n",
       "      <th>Fare</th>\n",
       "      <th>Cabin</th>\n",
       "      <th>Embarked</th>\n",
       "      <th>Desc</th>\n",
       "    </tr>\n",
       "    <tr>\n",
       "      <th>PassengerId</th>\n",
       "      <th></th>\n",
       "      <th></th>\n",
       "      <th></th>\n",
       "      <th></th>\n",
       "      <th></th>\n",
       "      <th></th>\n",
       "      <th></th>\n",
       "      <th></th>\n",
       "      <th></th>\n",
       "      <th></th>\n",
       "      <th></th>\n",
       "      <th></th>\n",
       "    </tr>\n",
       "  </thead>\n",
       "  <tbody>\n",
       "    <tr>\n",
       "      <th>7</th>\n",
       "      <td>0</td>\n",
       "      <td>1</td>\n",
       "      <td>McCarthy, Mr. Timothy J</td>\n",
       "      <td>male</td>\n",
       "      <td>54.0</td>\n",
       "      <td>0</td>\n",
       "      <td>0</td>\n",
       "      <td>17463</td>\n",
       "      <td>51.8625</td>\n",
       "      <td>E46</td>\n",
       "      <td>S</td>\n",
       "      <td>oldage</td>\n",
       "    </tr>\n",
       "    <tr>\n",
       "      <th>12</th>\n",
       "      <td>1</td>\n",
       "      <td>1</td>\n",
       "      <td>Bonnell, Miss. Elizabeth</td>\n",
       "      <td>female</td>\n",
       "      <td>58.0</td>\n",
       "      <td>0</td>\n",
       "      <td>0</td>\n",
       "      <td>113783</td>\n",
       "      <td>26.5500</td>\n",
       "      <td>C103</td>\n",
       "      <td>S</td>\n",
       "      <td>oldage</td>\n",
       "    </tr>\n",
       "    <tr>\n",
       "      <th>16</th>\n",
       "      <td>1</td>\n",
       "      <td>2</td>\n",
       "      <td>Hewlett, Mrs. (Mary D Kingcome)</td>\n",
       "      <td>female</td>\n",
       "      <td>55.0</td>\n",
       "      <td>0</td>\n",
       "      <td>0</td>\n",
       "      <td>248706</td>\n",
       "      <td>16.0000</td>\n",
       "      <td>NaN</td>\n",
       "      <td>S</td>\n",
       "      <td>oldage</td>\n",
       "    </tr>\n",
       "    <tr>\n",
       "      <th>34</th>\n",
       "      <td>0</td>\n",
       "      <td>2</td>\n",
       "      <td>Wheadon, Mr. Edward H</td>\n",
       "      <td>male</td>\n",
       "      <td>66.0</td>\n",
       "      <td>0</td>\n",
       "      <td>0</td>\n",
       "      <td>C.A. 24579</td>\n",
       "      <td>10.5000</td>\n",
       "      <td>NaN</td>\n",
       "      <td>S</td>\n",
       "      <td>oldage</td>\n",
       "    </tr>\n",
       "    <tr>\n",
       "      <th>53</th>\n",
       "      <td>1</td>\n",
       "      <td>1</td>\n",
       "      <td>Harper, Mrs. Henry Sleeper (Myna Haxtun)</td>\n",
       "      <td>female</td>\n",
       "      <td>49.0</td>\n",
       "      <td>1</td>\n",
       "      <td>0</td>\n",
       "      <td>PC 17572</td>\n",
       "      <td>76.7292</td>\n",
       "      <td>D33</td>\n",
       "      <td>C</td>\n",
       "      <td>oldage</td>\n",
       "    </tr>\n",
       "  </tbody>\n",
       "</table>\n",
       "</div>"
      ],
      "text/plain": [
       "             Survived  Pclass                                      Name  \\\n",
       "PassengerId                                                               \n",
       "7                   0       1                   McCarthy, Mr. Timothy J   \n",
       "12                  1       1                  Bonnell, Miss. Elizabeth   \n",
       "16                  1       2          Hewlett, Mrs. (Mary D Kingcome)    \n",
       "34                  0       2                     Wheadon, Mr. Edward H   \n",
       "53                  1       1  Harper, Mrs. Henry Sleeper (Myna Haxtun)   \n",
       "\n",
       "                Sex   Age  SibSp  Parch      Ticket     Fare Cabin Embarked  \\\n",
       "PassengerId                                                                   \n",
       "7              male  54.0      0      0       17463  51.8625   E46        S   \n",
       "12           female  58.0      0      0      113783  26.5500  C103        S   \n",
       "16           female  55.0      0      0      248706  16.0000   NaN        S   \n",
       "34             male  66.0      0      0  C.A. 24579  10.5000   NaN        S   \n",
       "53           female  49.0      1      0    PC 17572  76.7292   D33        C   \n",
       "\n",
       "               Desc  \n",
       "PassengerId          \n",
       "7            oldage  \n",
       "12           oldage  \n",
       "16           oldage  \n",
       "34           oldage  \n",
       "53           oldage  "
      ]
     },
     "execution_count": 25,
     "metadata": {},
     "output_type": "execute_result"
    }
   ],
   "source": [
    "df_o.head()"
   ]
  },
  {
   "cell_type": "code",
   "execution_count": 26,
   "id": "6a45b476",
   "metadata": {
    "execution": {
     "iopub.execute_input": "2022-08-08T16:29:31.399800Z",
     "iopub.status.busy": "2022-08-08T16:29:31.398971Z",
     "iopub.status.idle": "2022-08-08T16:29:31.408029Z",
     "shell.execute_reply": "2022-08-08T16:29:31.407052Z"
    },
    "papermill": {
     "duration": 0.033502,
     "end_time": "2022-08-08T16:29:31.410430",
     "exception": false,
     "start_time": "2022-08-08T16:29:31.376928",
     "status": "completed"
    },
    "tags": []
   },
   "outputs": [],
   "source": [
    "df_new=pd.concat([df_c,df_a,df_o],axis=0)"
   ]
  },
  {
   "cell_type": "code",
   "execution_count": 27,
   "id": "770e5a93",
   "metadata": {
    "execution": {
     "iopub.execute_input": "2022-08-08T16:29:31.456372Z",
     "iopub.status.busy": "2022-08-08T16:29:31.454517Z",
     "iopub.status.idle": "2022-08-08T16:29:31.474160Z",
     "shell.execute_reply": "2022-08-08T16:29:31.472995Z"
    },
    "papermill": {
     "duration": 0.044016,
     "end_time": "2022-08-08T16:29:31.476527",
     "exception": false,
     "start_time": "2022-08-08T16:29:31.432511",
     "status": "completed"
    },
    "tags": []
   },
   "outputs": [
    {
     "data": {
      "text/html": [
       "<div>\n",
       "<style scoped>\n",
       "    .dataframe tbody tr th:only-of-type {\n",
       "        vertical-align: middle;\n",
       "    }\n",
       "\n",
       "    .dataframe tbody tr th {\n",
       "        vertical-align: top;\n",
       "    }\n",
       "\n",
       "    .dataframe thead th {\n",
       "        text-align: right;\n",
       "    }\n",
       "</style>\n",
       "<table border=\"1\" class=\"dataframe\">\n",
       "  <thead>\n",
       "    <tr style=\"text-align: right;\">\n",
       "      <th></th>\n",
       "      <th>Survived</th>\n",
       "      <th>Pclass</th>\n",
       "      <th>Name</th>\n",
       "      <th>Sex</th>\n",
       "      <th>Age</th>\n",
       "      <th>SibSp</th>\n",
       "      <th>Parch</th>\n",
       "      <th>Ticket</th>\n",
       "      <th>Fare</th>\n",
       "      <th>Cabin</th>\n",
       "      <th>Embarked</th>\n",
       "      <th>Desc</th>\n",
       "    </tr>\n",
       "    <tr>\n",
       "      <th>PassengerId</th>\n",
       "      <th></th>\n",
       "      <th></th>\n",
       "      <th></th>\n",
       "      <th></th>\n",
       "      <th></th>\n",
       "      <th></th>\n",
       "      <th></th>\n",
       "      <th></th>\n",
       "      <th></th>\n",
       "      <th></th>\n",
       "      <th></th>\n",
       "      <th></th>\n",
       "    </tr>\n",
       "  </thead>\n",
       "  <tbody>\n",
       "    <tr>\n",
       "      <th>8</th>\n",
       "      <td>0</td>\n",
       "      <td>3</td>\n",
       "      <td>Palsson, Master. Gosta Leonard</td>\n",
       "      <td>male</td>\n",
       "      <td>2.0</td>\n",
       "      <td>3</td>\n",
       "      <td>1</td>\n",
       "      <td>349909</td>\n",
       "      <td>21.0750</td>\n",
       "      <td>NaN</td>\n",
       "      <td>S</td>\n",
       "      <td>child</td>\n",
       "    </tr>\n",
       "    <tr>\n",
       "      <th>10</th>\n",
       "      <td>1</td>\n",
       "      <td>2</td>\n",
       "      <td>Nasser, Mrs. Nicholas (Adele Achem)</td>\n",
       "      <td>female</td>\n",
       "      <td>14.0</td>\n",
       "      <td>1</td>\n",
       "      <td>0</td>\n",
       "      <td>237736</td>\n",
       "      <td>30.0708</td>\n",
       "      <td>NaN</td>\n",
       "      <td>C</td>\n",
       "      <td>child</td>\n",
       "    </tr>\n",
       "    <tr>\n",
       "      <th>11</th>\n",
       "      <td>1</td>\n",
       "      <td>3</td>\n",
       "      <td>Sandstrom, Miss. Marguerite Rut</td>\n",
       "      <td>female</td>\n",
       "      <td>4.0</td>\n",
       "      <td>1</td>\n",
       "      <td>1</td>\n",
       "      <td>PP 9549</td>\n",
       "      <td>16.7000</td>\n",
       "      <td>G6</td>\n",
       "      <td>S</td>\n",
       "      <td>child</td>\n",
       "    </tr>\n",
       "    <tr>\n",
       "      <th>15</th>\n",
       "      <td>0</td>\n",
       "      <td>3</td>\n",
       "      <td>Vestrom, Miss. Hulda Amanda Adolfina</td>\n",
       "      <td>female</td>\n",
       "      <td>14.0</td>\n",
       "      <td>0</td>\n",
       "      <td>0</td>\n",
       "      <td>350406</td>\n",
       "      <td>7.8542</td>\n",
       "      <td>NaN</td>\n",
       "      <td>S</td>\n",
       "      <td>child</td>\n",
       "    </tr>\n",
       "    <tr>\n",
       "      <th>17</th>\n",
       "      <td>0</td>\n",
       "      <td>3</td>\n",
       "      <td>Rice, Master. Eugene</td>\n",
       "      <td>male</td>\n",
       "      <td>2.0</td>\n",
       "      <td>4</td>\n",
       "      <td>1</td>\n",
       "      <td>382652</td>\n",
       "      <td>29.1250</td>\n",
       "      <td>NaN</td>\n",
       "      <td>Q</td>\n",
       "      <td>child</td>\n",
       "    </tr>\n",
       "  </tbody>\n",
       "</table>\n",
       "</div>"
      ],
      "text/plain": [
       "             Survived  Pclass                                  Name     Sex  \\\n",
       "PassengerId                                                                   \n",
       "8                   0       3        Palsson, Master. Gosta Leonard    male   \n",
       "10                  1       2   Nasser, Mrs. Nicholas (Adele Achem)  female   \n",
       "11                  1       3       Sandstrom, Miss. Marguerite Rut  female   \n",
       "15                  0       3  Vestrom, Miss. Hulda Amanda Adolfina  female   \n",
       "17                  0       3                  Rice, Master. Eugene    male   \n",
       "\n",
       "              Age  SibSp  Parch   Ticket     Fare Cabin Embarked   Desc  \n",
       "PassengerId                                                              \n",
       "8             2.0      3      1   349909  21.0750   NaN        S  child  \n",
       "10           14.0      1      0   237736  30.0708   NaN        C  child  \n",
       "11            4.0      1      1  PP 9549  16.7000    G6        S  child  \n",
       "15           14.0      0      0   350406   7.8542   NaN        S  child  \n",
       "17            2.0      4      1   382652  29.1250   NaN        Q  child  "
      ]
     },
     "execution_count": 27,
     "metadata": {},
     "output_type": "execute_result"
    }
   ],
   "source": [
    "df_new.head()"
   ]
  },
  {
   "cell_type": "markdown",
   "id": "db2fd86b",
   "metadata": {
    "papermill": {
     "duration": 0.020674,
     "end_time": "2022-08-08T16:29:31.518365",
     "exception": false,
     "start_time": "2022-08-08T16:29:31.497691",
     "status": "completed"
    },
    "tags": []
   },
   "source": [
    "**Method 2**"
   ]
  },
  {
   "cell_type": "markdown",
   "id": "9ceb0f3c",
   "metadata": {
    "papermill": {
     "duration": 0.020331,
     "end_time": "2022-08-08T16:29:31.559449",
     "exception": false,
     "start_time": "2022-08-08T16:29:31.539118",
     "status": "completed"
    },
    "tags": []
   },
   "source": [
    "when you try to apply bins for columns haveing null values, then the new column also will have null value for the corresponding row"
   ]
  },
  {
   "cell_type": "code",
   "execution_count": 28,
   "id": "2e9d0537",
   "metadata": {
    "execution": {
     "iopub.execute_input": "2022-08-08T16:29:31.602829Z",
     "iopub.status.busy": "2022-08-08T16:29:31.602117Z",
     "iopub.status.idle": "2022-08-08T16:29:31.609043Z",
     "shell.execute_reply": "2022-08-08T16:29:31.608182Z"
    },
    "papermill": {
     "duration": 0.031223,
     "end_time": "2022-08-08T16:29:31.611369",
     "exception": false,
     "start_time": "2022-08-08T16:29:31.580146",
     "status": "completed"
    },
    "tags": []
   },
   "outputs": [],
   "source": [
    "df_new1=df\n",
    "df_new1['desc']=pd.cut(df['Age'],bins=[0,18,45,100],labels=['child','adult','oldage'])"
   ]
  },
  {
   "cell_type": "code",
   "execution_count": 29,
   "id": "a650f539",
   "metadata": {
    "execution": {
     "iopub.execute_input": "2022-08-08T16:29:31.656375Z",
     "iopub.status.busy": "2022-08-08T16:29:31.655652Z",
     "iopub.status.idle": "2022-08-08T16:29:31.672757Z",
     "shell.execute_reply": "2022-08-08T16:29:31.671381Z"
    },
    "papermill": {
     "duration": 0.04174,
     "end_time": "2022-08-08T16:29:31.675334",
     "exception": false,
     "start_time": "2022-08-08T16:29:31.633594",
     "status": "completed"
    },
    "tags": []
   },
   "outputs": [
    {
     "data": {
      "text/html": [
       "<div>\n",
       "<style scoped>\n",
       "    .dataframe tbody tr th:only-of-type {\n",
       "        vertical-align: middle;\n",
       "    }\n",
       "\n",
       "    .dataframe tbody tr th {\n",
       "        vertical-align: top;\n",
       "    }\n",
       "\n",
       "    .dataframe thead th {\n",
       "        text-align: right;\n",
       "    }\n",
       "</style>\n",
       "<table border=\"1\" class=\"dataframe\">\n",
       "  <thead>\n",
       "    <tr style=\"text-align: right;\">\n",
       "      <th></th>\n",
       "      <th>Survived</th>\n",
       "      <th>Pclass</th>\n",
       "      <th>Name</th>\n",
       "      <th>Sex</th>\n",
       "      <th>Age</th>\n",
       "      <th>SibSp</th>\n",
       "      <th>Parch</th>\n",
       "      <th>Ticket</th>\n",
       "      <th>Fare</th>\n",
       "      <th>Cabin</th>\n",
       "      <th>Embarked</th>\n",
       "      <th>desc</th>\n",
       "    </tr>\n",
       "    <tr>\n",
       "      <th>PassengerId</th>\n",
       "      <th></th>\n",
       "      <th></th>\n",
       "      <th></th>\n",
       "      <th></th>\n",
       "      <th></th>\n",
       "      <th></th>\n",
       "      <th></th>\n",
       "      <th></th>\n",
       "      <th></th>\n",
       "      <th></th>\n",
       "      <th></th>\n",
       "      <th></th>\n",
       "    </tr>\n",
       "  </thead>\n",
       "  <tbody>\n",
       "    <tr>\n",
       "      <th>887</th>\n",
       "      <td>0</td>\n",
       "      <td>2</td>\n",
       "      <td>Montvila, Rev. Juozas</td>\n",
       "      <td>male</td>\n",
       "      <td>27.0</td>\n",
       "      <td>0</td>\n",
       "      <td>0</td>\n",
       "      <td>211536</td>\n",
       "      <td>13.00</td>\n",
       "      <td>NaN</td>\n",
       "      <td>S</td>\n",
       "      <td>adult</td>\n",
       "    </tr>\n",
       "    <tr>\n",
       "      <th>888</th>\n",
       "      <td>1</td>\n",
       "      <td>1</td>\n",
       "      <td>Graham, Miss. Margaret Edith</td>\n",
       "      <td>female</td>\n",
       "      <td>19.0</td>\n",
       "      <td>0</td>\n",
       "      <td>0</td>\n",
       "      <td>112053</td>\n",
       "      <td>30.00</td>\n",
       "      <td>B42</td>\n",
       "      <td>S</td>\n",
       "      <td>adult</td>\n",
       "    </tr>\n",
       "    <tr>\n",
       "      <th>889</th>\n",
       "      <td>0</td>\n",
       "      <td>3</td>\n",
       "      <td>Johnston, Miss. Catherine Helen \"Carrie\"</td>\n",
       "      <td>female</td>\n",
       "      <td>NaN</td>\n",
       "      <td>1</td>\n",
       "      <td>2</td>\n",
       "      <td>W./C. 6607</td>\n",
       "      <td>23.45</td>\n",
       "      <td>NaN</td>\n",
       "      <td>S</td>\n",
       "      <td>NaN</td>\n",
       "    </tr>\n",
       "    <tr>\n",
       "      <th>890</th>\n",
       "      <td>1</td>\n",
       "      <td>1</td>\n",
       "      <td>Behr, Mr. Karl Howell</td>\n",
       "      <td>male</td>\n",
       "      <td>26.0</td>\n",
       "      <td>0</td>\n",
       "      <td>0</td>\n",
       "      <td>111369</td>\n",
       "      <td>30.00</td>\n",
       "      <td>C148</td>\n",
       "      <td>C</td>\n",
       "      <td>adult</td>\n",
       "    </tr>\n",
       "    <tr>\n",
       "      <th>891</th>\n",
       "      <td>0</td>\n",
       "      <td>3</td>\n",
       "      <td>Dooley, Mr. Patrick</td>\n",
       "      <td>male</td>\n",
       "      <td>32.0</td>\n",
       "      <td>0</td>\n",
       "      <td>0</td>\n",
       "      <td>370376</td>\n",
       "      <td>7.75</td>\n",
       "      <td>NaN</td>\n",
       "      <td>Q</td>\n",
       "      <td>adult</td>\n",
       "    </tr>\n",
       "  </tbody>\n",
       "</table>\n",
       "</div>"
      ],
      "text/plain": [
       "             Survived  Pclass                                      Name  \\\n",
       "PassengerId                                                               \n",
       "887                 0       2                     Montvila, Rev. Juozas   \n",
       "888                 1       1              Graham, Miss. Margaret Edith   \n",
       "889                 0       3  Johnston, Miss. Catherine Helen \"Carrie\"   \n",
       "890                 1       1                     Behr, Mr. Karl Howell   \n",
       "891                 0       3                       Dooley, Mr. Patrick   \n",
       "\n",
       "                Sex   Age  SibSp  Parch      Ticket   Fare Cabin Embarked  \\\n",
       "PassengerId                                                                 \n",
       "887            male  27.0      0      0      211536  13.00   NaN        S   \n",
       "888          female  19.0      0      0      112053  30.00   B42        S   \n",
       "889          female   NaN      1      2  W./C. 6607  23.45   NaN        S   \n",
       "890            male  26.0      0      0      111369  30.00  C148        C   \n",
       "891            male  32.0      0      0      370376   7.75   NaN        Q   \n",
       "\n",
       "              desc  \n",
       "PassengerId         \n",
       "887          adult  \n",
       "888          adult  \n",
       "889            NaN  \n",
       "890          adult  \n",
       "891          adult  "
      ]
     },
     "execution_count": 29,
     "metadata": {},
     "output_type": "execute_result"
    }
   ],
   "source": [
    "df_new1.tail()"
   ]
  },
  {
   "cell_type": "markdown",
   "id": "ba1e7637",
   "metadata": {
    "papermill": {
     "duration": 0.020595,
     "end_time": "2022-08-08T16:29:31.717410",
     "exception": false,
     "start_time": "2022-08-08T16:29:31.696815",
     "status": "completed"
    },
    "tags": []
   },
   "source": [
    "lets use df_new itself"
   ]
  },
  {
   "cell_type": "markdown",
   "id": "54058960",
   "metadata": {
    "papermill": {
     "duration": 0.02115,
     "end_time": "2022-08-08T16:29:31.759599",
     "exception": false,
     "start_time": "2022-08-08T16:29:31.738449",
     "status": "completed"
    },
    "tags": []
   },
   "source": [
    "we can now have 6 groups and based on this, we can fill the values for \"Age\" for male child, female child, male adult, female adult and so on..."
   ]
  },
  {
   "cell_type": "code",
   "execution_count": 30,
   "id": "a2ef3657",
   "metadata": {
    "execution": {
     "iopub.execute_input": "2022-08-08T16:29:31.803371Z",
     "iopub.status.busy": "2022-08-08T16:29:31.802654Z",
     "iopub.status.idle": "2022-08-08T16:29:31.807350Z",
     "shell.execute_reply": "2022-08-08T16:29:31.806480Z"
    },
    "papermill": {
     "duration": 0.02897,
     "end_time": "2022-08-08T16:29:31.809580",
     "exception": false,
     "start_time": "2022-08-08T16:29:31.780610",
     "status": "completed"
    },
    "tags": []
   },
   "outputs": [],
   "source": [
    "grp3=df_new.groupby('Desc')"
   ]
  },
  {
   "cell_type": "code",
   "execution_count": 31,
   "id": "e34cf03e",
   "metadata": {
    "execution": {
     "iopub.execute_input": "2022-08-08T16:29:31.853312Z",
     "iopub.status.busy": "2022-08-08T16:29:31.852943Z",
     "iopub.status.idle": "2022-08-08T16:29:31.871940Z",
     "shell.execute_reply": "2022-08-08T16:29:31.870744Z"
    },
    "papermill": {
     "duration": 0.0435,
     "end_time": "2022-08-08T16:29:31.874231",
     "exception": false,
     "start_time": "2022-08-08T16:29:31.830731",
     "status": "completed"
    },
    "tags": []
   },
   "outputs": [
    {
     "data": {
      "text/html": [
       "<div>\n",
       "<style scoped>\n",
       "    .dataframe tbody tr th:only-of-type {\n",
       "        vertical-align: middle;\n",
       "    }\n",
       "\n",
       "    .dataframe tbody tr th {\n",
       "        vertical-align: top;\n",
       "    }\n",
       "\n",
       "    .dataframe thead th {\n",
       "        text-align: right;\n",
       "    }\n",
       "</style>\n",
       "<table border=\"1\" class=\"dataframe\">\n",
       "  <thead>\n",
       "    <tr style=\"text-align: right;\">\n",
       "      <th></th>\n",
       "      <th>Survived</th>\n",
       "      <th>Pclass</th>\n",
       "      <th>Name</th>\n",
       "      <th>Sex</th>\n",
       "      <th>Age</th>\n",
       "      <th>SibSp</th>\n",
       "      <th>Parch</th>\n",
       "      <th>Ticket</th>\n",
       "      <th>Fare</th>\n",
       "      <th>Cabin</th>\n",
       "      <th>Embarked</th>\n",
       "    </tr>\n",
       "    <tr>\n",
       "      <th>Desc</th>\n",
       "      <th></th>\n",
       "      <th></th>\n",
       "      <th></th>\n",
       "      <th></th>\n",
       "      <th></th>\n",
       "      <th></th>\n",
       "      <th></th>\n",
       "      <th></th>\n",
       "      <th></th>\n",
       "      <th></th>\n",
       "      <th></th>\n",
       "    </tr>\n",
       "  </thead>\n",
       "  <tbody>\n",
       "    <tr>\n",
       "      <th>adult</th>\n",
       "      <td>0</td>\n",
       "      <td>3</td>\n",
       "      <td>Braund, Mr. Owen Harris</td>\n",
       "      <td>male</td>\n",
       "      <td>22.0</td>\n",
       "      <td>1</td>\n",
       "      <td>0</td>\n",
       "      <td>A/5 21171</td>\n",
       "      <td>7.2500</td>\n",
       "      <td>C85</td>\n",
       "      <td>S</td>\n",
       "    </tr>\n",
       "    <tr>\n",
       "      <th>child</th>\n",
       "      <td>0</td>\n",
       "      <td>3</td>\n",
       "      <td>Palsson, Master. Gosta Leonard</td>\n",
       "      <td>male</td>\n",
       "      <td>2.0</td>\n",
       "      <td>3</td>\n",
       "      <td>1</td>\n",
       "      <td>349909</td>\n",
       "      <td>21.0750</td>\n",
       "      <td>G6</td>\n",
       "      <td>S</td>\n",
       "    </tr>\n",
       "    <tr>\n",
       "      <th>oldage</th>\n",
       "      <td>0</td>\n",
       "      <td>1</td>\n",
       "      <td>McCarthy, Mr. Timothy J</td>\n",
       "      <td>male</td>\n",
       "      <td>54.0</td>\n",
       "      <td>0</td>\n",
       "      <td>0</td>\n",
       "      <td>17463</td>\n",
       "      <td>51.8625</td>\n",
       "      <td>E46</td>\n",
       "      <td>S</td>\n",
       "    </tr>\n",
       "  </tbody>\n",
       "</table>\n",
       "</div>"
      ],
      "text/plain": [
       "        Survived  Pclass                            Name   Sex   Age  SibSp  \\\n",
       "Desc                                                                          \n",
       "adult          0       3         Braund, Mr. Owen Harris  male  22.0      1   \n",
       "child          0       3  Palsson, Master. Gosta Leonard  male   2.0      3   \n",
       "oldage         0       1         McCarthy, Mr. Timothy J  male  54.0      0   \n",
       "\n",
       "        Parch     Ticket     Fare Cabin Embarked  \n",
       "Desc                                              \n",
       "adult       0  A/5 21171   7.2500   C85        S  \n",
       "child       1     349909  21.0750    G6        S  \n",
       "oldage      0      17463  51.8625   E46        S  "
      ]
     },
     "execution_count": 31,
     "metadata": {},
     "output_type": "execute_result"
    }
   ],
   "source": [
    "grp3.first()"
   ]
  },
  {
   "cell_type": "code",
   "execution_count": 32,
   "id": "fca949b7",
   "metadata": {
    "execution": {
     "iopub.execute_input": "2022-08-08T16:29:31.918003Z",
     "iopub.status.busy": "2022-08-08T16:29:31.917457Z",
     "iopub.status.idle": "2022-08-08T16:29:31.923345Z",
     "shell.execute_reply": "2022-08-08T16:29:31.922187Z"
    },
    "papermill": {
     "duration": 0.030461,
     "end_time": "2022-08-08T16:29:31.925736",
     "exception": false,
     "start_time": "2022-08-08T16:29:31.895275",
     "status": "completed"
    },
    "tags": []
   },
   "outputs": [],
   "source": [
    "grp4=df_new.groupby(['Desc','Sex'])"
   ]
  },
  {
   "cell_type": "code",
   "execution_count": 33,
   "id": "1d65fffc",
   "metadata": {
    "execution": {
     "iopub.execute_input": "2022-08-08T16:29:31.969887Z",
     "iopub.status.busy": "2022-08-08T16:29:31.969448Z",
     "iopub.status.idle": "2022-08-08T16:29:31.990976Z",
     "shell.execute_reply": "2022-08-08T16:29:31.989783Z"
    },
    "papermill": {
     "duration": 0.04623,
     "end_time": "2022-08-08T16:29:31.993277",
     "exception": false,
     "start_time": "2022-08-08T16:29:31.947047",
     "status": "completed"
    },
    "tags": []
   },
   "outputs": [
    {
     "data": {
      "text/html": [
       "<div>\n",
       "<style scoped>\n",
       "    .dataframe tbody tr th:only-of-type {\n",
       "        vertical-align: middle;\n",
       "    }\n",
       "\n",
       "    .dataframe tbody tr th {\n",
       "        vertical-align: top;\n",
       "    }\n",
       "\n",
       "    .dataframe thead th {\n",
       "        text-align: right;\n",
       "    }\n",
       "</style>\n",
       "<table border=\"1\" class=\"dataframe\">\n",
       "  <thead>\n",
       "    <tr style=\"text-align: right;\">\n",
       "      <th></th>\n",
       "      <th></th>\n",
       "      <th>Survived</th>\n",
       "      <th>Pclass</th>\n",
       "      <th>Name</th>\n",
       "      <th>Age</th>\n",
       "      <th>SibSp</th>\n",
       "      <th>Parch</th>\n",
       "      <th>Ticket</th>\n",
       "      <th>Fare</th>\n",
       "      <th>Cabin</th>\n",
       "      <th>Embarked</th>\n",
       "    </tr>\n",
       "    <tr>\n",
       "      <th>Desc</th>\n",
       "      <th>Sex</th>\n",
       "      <th></th>\n",
       "      <th></th>\n",
       "      <th></th>\n",
       "      <th></th>\n",
       "      <th></th>\n",
       "      <th></th>\n",
       "      <th></th>\n",
       "      <th></th>\n",
       "      <th></th>\n",
       "      <th></th>\n",
       "    </tr>\n",
       "  </thead>\n",
       "  <tbody>\n",
       "    <tr>\n",
       "      <th rowspan=\"2\" valign=\"top\">adult</th>\n",
       "      <th>female</th>\n",
       "      <td>1</td>\n",
       "      <td>1</td>\n",
       "      <td>Cumings, Mrs. John Bradley (Florence Briggs Th...</td>\n",
       "      <td>38.0</td>\n",
       "      <td>1</td>\n",
       "      <td>0</td>\n",
       "      <td>PC 17599</td>\n",
       "      <td>71.2833</td>\n",
       "      <td>C85</td>\n",
       "      <td>C</td>\n",
       "    </tr>\n",
       "    <tr>\n",
       "      <th>male</th>\n",
       "      <td>0</td>\n",
       "      <td>3</td>\n",
       "      <td>Braund, Mr. Owen Harris</td>\n",
       "      <td>22.0</td>\n",
       "      <td>1</td>\n",
       "      <td>0</td>\n",
       "      <td>A/5 21171</td>\n",
       "      <td>7.2500</td>\n",
       "      <td>D56</td>\n",
       "      <td>S</td>\n",
       "    </tr>\n",
       "    <tr>\n",
       "      <th rowspan=\"2\" valign=\"top\">child</th>\n",
       "      <th>female</th>\n",
       "      <td>1</td>\n",
       "      <td>2</td>\n",
       "      <td>Nasser, Mrs. Nicholas (Adele Achem)</td>\n",
       "      <td>14.0</td>\n",
       "      <td>1</td>\n",
       "      <td>0</td>\n",
       "      <td>237736</td>\n",
       "      <td>30.0708</td>\n",
       "      <td>G6</td>\n",
       "      <td>C</td>\n",
       "    </tr>\n",
       "    <tr>\n",
       "      <th>male</th>\n",
       "      <td>0</td>\n",
       "      <td>3</td>\n",
       "      <td>Palsson, Master. Gosta Leonard</td>\n",
       "      <td>2.0</td>\n",
       "      <td>3</td>\n",
       "      <td>1</td>\n",
       "      <td>349909</td>\n",
       "      <td>21.0750</td>\n",
       "      <td>F4</td>\n",
       "      <td>S</td>\n",
       "    </tr>\n",
       "    <tr>\n",
       "      <th rowspan=\"2\" valign=\"top\">oldage</th>\n",
       "      <th>female</th>\n",
       "      <td>1</td>\n",
       "      <td>1</td>\n",
       "      <td>Bonnell, Miss. Elizabeth</td>\n",
       "      <td>58.0</td>\n",
       "      <td>0</td>\n",
       "      <td>0</td>\n",
       "      <td>113783</td>\n",
       "      <td>26.5500</td>\n",
       "      <td>C103</td>\n",
       "      <td>S</td>\n",
       "    </tr>\n",
       "    <tr>\n",
       "      <th>male</th>\n",
       "      <td>0</td>\n",
       "      <td>1</td>\n",
       "      <td>McCarthy, Mr. Timothy J</td>\n",
       "      <td>54.0</td>\n",
       "      <td>0</td>\n",
       "      <td>0</td>\n",
       "      <td>17463</td>\n",
       "      <td>51.8625</td>\n",
       "      <td>E46</td>\n",
       "      <td>S</td>\n",
       "    </tr>\n",
       "  </tbody>\n",
       "</table>\n",
       "</div>"
      ],
      "text/plain": [
       "               Survived  Pclass  \\\n",
       "Desc   Sex                        \n",
       "adult  female         1       1   \n",
       "       male           0       3   \n",
       "child  female         1       2   \n",
       "       male           0       3   \n",
       "oldage female         1       1   \n",
       "       male           0       1   \n",
       "\n",
       "                                                            Name   Age  SibSp  \\\n",
       "Desc   Sex                                                                      \n",
       "adult  female  Cumings, Mrs. John Bradley (Florence Briggs Th...  38.0      1   \n",
       "       male                              Braund, Mr. Owen Harris  22.0      1   \n",
       "child  female                Nasser, Mrs. Nicholas (Adele Achem)  14.0      1   \n",
       "       male                       Palsson, Master. Gosta Leonard   2.0      3   \n",
       "oldage female                           Bonnell, Miss. Elizabeth  58.0      0   \n",
       "       male                              McCarthy, Mr. Timothy J  54.0      0   \n",
       "\n",
       "               Parch     Ticket     Fare Cabin Embarked  \n",
       "Desc   Sex                                               \n",
       "adult  female      0   PC 17599  71.2833   C85        C  \n",
       "       male        0  A/5 21171   7.2500   D56        S  \n",
       "child  female      0     237736  30.0708    G6        C  \n",
       "       male        1     349909  21.0750    F4        S  \n",
       "oldage female      0     113783  26.5500  C103        S  \n",
       "       male        0      17463  51.8625   E46        S  "
      ]
     },
     "execution_count": 33,
     "metadata": {},
     "output_type": "execute_result"
    }
   ],
   "source": [
    "grp4.first()"
   ]
  },
  {
   "cell_type": "code",
   "execution_count": 34,
   "id": "4ce24a36",
   "metadata": {
    "execution": {
     "iopub.execute_input": "2022-08-08T16:29:32.037594Z",
     "iopub.status.busy": "2022-08-08T16:29:32.037206Z",
     "iopub.status.idle": "2022-08-08T16:29:32.047044Z",
     "shell.execute_reply": "2022-08-08T16:29:32.045803Z"
    },
    "papermill": {
     "duration": 0.03456,
     "end_time": "2022-08-08T16:29:32.049335",
     "exception": false,
     "start_time": "2022-08-08T16:29:32.014775",
     "status": "completed"
    },
    "tags": []
   },
   "outputs": [
    {
     "data": {
      "text/plain": [
       "Desc    Sex   \n",
       "adult   female    29.454545\n",
       "        male      29.079193\n",
       "child   female     9.236364\n",
       "        male       8.856379\n",
       "oldage  female    53.133333\n",
       "        male      55.369863\n",
       "Name: Age, dtype: float64"
      ]
     },
     "execution_count": 34,
     "metadata": {},
     "output_type": "execute_result"
    }
   ],
   "source": [
    "grp4['Age'].mean()"
   ]
  },
  {
   "cell_type": "markdown",
   "id": "6975caab",
   "metadata": {
    "papermill": {
     "duration": 0.021828,
     "end_time": "2022-08-08T16:29:32.092872",
     "exception": false,
     "start_time": "2022-08-08T16:29:32.071044",
     "status": "completed"
    },
    "tags": []
   },
   "source": [
    "We can replace the corresponding values of age "
   ]
  },
  {
   "cell_type": "markdown",
   "id": "2ca6559a",
   "metadata": {
    "papermill": {
     "duration": 0.021134,
     "end_time": "2022-08-08T16:29:32.135755",
     "exception": false,
     "start_time": "2022-08-08T16:29:32.114621",
     "status": "completed"
    },
    "tags": []
   },
   "source": [
    "We will here use TRANSFORM function.\n",
    "here we give a lambda function as argument"
   ]
  },
  {
   "cell_type": "code",
   "execution_count": 35,
   "id": "667b621d",
   "metadata": {
    "execution": {
     "iopub.execute_input": "2022-08-08T16:29:32.180046Z",
     "iopub.status.busy": "2022-08-08T16:29:32.179379Z",
     "iopub.status.idle": "2022-08-08T16:29:32.191724Z",
     "shell.execute_reply": "2022-08-08T16:29:32.190671Z"
    },
    "papermill": {
     "duration": 0.036864,
     "end_time": "2022-08-08T16:29:32.193920",
     "exception": false,
     "start_time": "2022-08-08T16:29:32.157056",
     "status": "completed"
    },
    "tags": []
   },
   "outputs": [],
   "source": [
    "df_new['Age']=grp4['Age'].transform(lambda x: x.fillna(x.mean()))"
   ]
  },
  {
   "cell_type": "markdown",
   "id": "89b32c94",
   "metadata": {
    "papermill": {
     "duration": 0.02091,
     "end_time": "2022-08-08T16:29:32.236175",
     "exception": false,
     "start_time": "2022-08-08T16:29:32.215265",
     "status": "completed"
    },
    "tags": []
   },
   "source": [
    "Now the null values are filled."
   ]
  },
  {
   "cell_type": "code",
   "execution_count": 36,
   "id": "bddc9a43",
   "metadata": {
    "execution": {
     "iopub.execute_input": "2022-08-08T16:29:32.281135Z",
     "iopub.status.busy": "2022-08-08T16:29:32.279755Z",
     "iopub.status.idle": "2022-08-08T16:29:32.300926Z",
     "shell.execute_reply": "2022-08-08T16:29:32.299793Z"
    },
    "papermill": {
     "duration": 0.045595,
     "end_time": "2022-08-08T16:29:32.303126",
     "exception": false,
     "start_time": "2022-08-08T16:29:32.257531",
     "status": "completed"
    },
    "tags": []
   },
   "outputs": [
    {
     "data": {
      "text/html": [
       "<div>\n",
       "<style scoped>\n",
       "    .dataframe tbody tr th:only-of-type {\n",
       "        vertical-align: middle;\n",
       "    }\n",
       "\n",
       "    .dataframe tbody tr th {\n",
       "        vertical-align: top;\n",
       "    }\n",
       "\n",
       "    .dataframe thead th {\n",
       "        text-align: right;\n",
       "    }\n",
       "</style>\n",
       "<table border=\"1\" class=\"dataframe\">\n",
       "  <thead>\n",
       "    <tr style=\"text-align: right;\">\n",
       "      <th></th>\n",
       "      <th>Survived</th>\n",
       "      <th>Pclass</th>\n",
       "      <th>Name</th>\n",
       "      <th>Sex</th>\n",
       "      <th>Age</th>\n",
       "      <th>SibSp</th>\n",
       "      <th>Parch</th>\n",
       "      <th>Ticket</th>\n",
       "      <th>Fare</th>\n",
       "      <th>Cabin</th>\n",
       "      <th>Embarked</th>\n",
       "      <th>Desc</th>\n",
       "    </tr>\n",
       "    <tr>\n",
       "      <th>PassengerId</th>\n",
       "      <th></th>\n",
       "      <th></th>\n",
       "      <th></th>\n",
       "      <th></th>\n",
       "      <th></th>\n",
       "      <th></th>\n",
       "      <th></th>\n",
       "      <th></th>\n",
       "      <th></th>\n",
       "      <th></th>\n",
       "      <th></th>\n",
       "      <th></th>\n",
       "    </tr>\n",
       "  </thead>\n",
       "  <tbody>\n",
       "    <tr>\n",
       "      <th>64</th>\n",
       "      <td>0</td>\n",
       "      <td>3</td>\n",
       "      <td>Skoog, Master. Harald</td>\n",
       "      <td>male</td>\n",
       "      <td>4.00</td>\n",
       "      <td>3</td>\n",
       "      <td>2</td>\n",
       "      <td>347088</td>\n",
       "      <td>27.9000</td>\n",
       "      <td>NaN</td>\n",
       "      <td>S</td>\n",
       "      <td>child</td>\n",
       "    </tr>\n",
       "    <tr>\n",
       "      <th>69</th>\n",
       "      <td>1</td>\n",
       "      <td>3</td>\n",
       "      <td>Andersson, Miss. Erna Alexandra</td>\n",
       "      <td>female</td>\n",
       "      <td>17.00</td>\n",
       "      <td>4</td>\n",
       "      <td>2</td>\n",
       "      <td>3101281</td>\n",
       "      <td>7.9250</td>\n",
       "      <td>NaN</td>\n",
       "      <td>S</td>\n",
       "      <td>child</td>\n",
       "    </tr>\n",
       "    <tr>\n",
       "      <th>72</th>\n",
       "      <td>0</td>\n",
       "      <td>3</td>\n",
       "      <td>Goodwin, Miss. Lillian Amy</td>\n",
       "      <td>female</td>\n",
       "      <td>16.00</td>\n",
       "      <td>5</td>\n",
       "      <td>2</td>\n",
       "      <td>CA 2144</td>\n",
       "      <td>46.9000</td>\n",
       "      <td>NaN</td>\n",
       "      <td>S</td>\n",
       "      <td>child</td>\n",
       "    </tr>\n",
       "    <tr>\n",
       "      <th>79</th>\n",
       "      <td>1</td>\n",
       "      <td>2</td>\n",
       "      <td>Caldwell, Master. Alden Gates</td>\n",
       "      <td>male</td>\n",
       "      <td>0.83</td>\n",
       "      <td>0</td>\n",
       "      <td>2</td>\n",
       "      <td>248738</td>\n",
       "      <td>29.0000</td>\n",
       "      <td>NaN</td>\n",
       "      <td>S</td>\n",
       "      <td>child</td>\n",
       "    </tr>\n",
       "    <tr>\n",
       "      <th>85</th>\n",
       "      <td>1</td>\n",
       "      <td>2</td>\n",
       "      <td>Ilett, Miss. Bertha</td>\n",
       "      <td>female</td>\n",
       "      <td>17.00</td>\n",
       "      <td>0</td>\n",
       "      <td>0</td>\n",
       "      <td>SO/C 14885</td>\n",
       "      <td>10.5000</td>\n",
       "      <td>NaN</td>\n",
       "      <td>S</td>\n",
       "      <td>child</td>\n",
       "    </tr>\n",
       "    <tr>\n",
       "      <th>87</th>\n",
       "      <td>0</td>\n",
       "      <td>3</td>\n",
       "      <td>Ford, Mr. William Neal</td>\n",
       "      <td>male</td>\n",
       "      <td>16.00</td>\n",
       "      <td>1</td>\n",
       "      <td>3</td>\n",
       "      <td>W./C. 6608</td>\n",
       "      <td>34.3750</td>\n",
       "      <td>NaN</td>\n",
       "      <td>S</td>\n",
       "      <td>child</td>\n",
       "    </tr>\n",
       "    <tr>\n",
       "      <th>112</th>\n",
       "      <td>0</td>\n",
       "      <td>3</td>\n",
       "      <td>Zabour, Miss. Hileni</td>\n",
       "      <td>female</td>\n",
       "      <td>14.50</td>\n",
       "      <td>1</td>\n",
       "      <td>0</td>\n",
       "      <td>2665</td>\n",
       "      <td>14.4542</td>\n",
       "      <td>NaN</td>\n",
       "      <td>C</td>\n",
       "      <td>child</td>\n",
       "    </tr>\n",
       "    <tr>\n",
       "      <th>115</th>\n",
       "      <td>0</td>\n",
       "      <td>3</td>\n",
       "      <td>Attalah, Miss. Malake</td>\n",
       "      <td>female</td>\n",
       "      <td>17.00</td>\n",
       "      <td>0</td>\n",
       "      <td>0</td>\n",
       "      <td>2627</td>\n",
       "      <td>14.4583</td>\n",
       "      <td>NaN</td>\n",
       "      <td>C</td>\n",
       "      <td>child</td>\n",
       "    </tr>\n",
       "    <tr>\n",
       "      <th>120</th>\n",
       "      <td>0</td>\n",
       "      <td>3</td>\n",
       "      <td>Andersson, Miss. Ellis Anna Maria</td>\n",
       "      <td>female</td>\n",
       "      <td>2.00</td>\n",
       "      <td>4</td>\n",
       "      <td>2</td>\n",
       "      <td>347082</td>\n",
       "      <td>31.2750</td>\n",
       "      <td>NaN</td>\n",
       "      <td>S</td>\n",
       "      <td>child</td>\n",
       "    </tr>\n",
       "    <tr>\n",
       "      <th>126</th>\n",
       "      <td>1</td>\n",
       "      <td>3</td>\n",
       "      <td>Nicola-Yarred, Master. Elias</td>\n",
       "      <td>male</td>\n",
       "      <td>12.00</td>\n",
       "      <td>1</td>\n",
       "      <td>0</td>\n",
       "      <td>2651</td>\n",
       "      <td>11.2417</td>\n",
       "      <td>NaN</td>\n",
       "      <td>C</td>\n",
       "      <td>child</td>\n",
       "    </tr>\n",
       "    <tr>\n",
       "      <th>139</th>\n",
       "      <td>0</td>\n",
       "      <td>3</td>\n",
       "      <td>Osen, Mr. Olaf Elon</td>\n",
       "      <td>male</td>\n",
       "      <td>16.00</td>\n",
       "      <td>0</td>\n",
       "      <td>0</td>\n",
       "      <td>7534</td>\n",
       "      <td>9.2167</td>\n",
       "      <td>NaN</td>\n",
       "      <td>S</td>\n",
       "      <td>child</td>\n",
       "    </tr>\n",
       "    <tr>\n",
       "      <th>148</th>\n",
       "      <td>0</td>\n",
       "      <td>3</td>\n",
       "      <td>Ford, Miss. Robina Maggie \"Ruby\"</td>\n",
       "      <td>female</td>\n",
       "      <td>9.00</td>\n",
       "      <td>2</td>\n",
       "      <td>2</td>\n",
       "      <td>W./C. 6608</td>\n",
       "      <td>34.3750</td>\n",
       "      <td>NaN</td>\n",
       "      <td>S</td>\n",
       "      <td>child</td>\n",
       "    </tr>\n",
       "    <tr>\n",
       "      <th>157</th>\n",
       "      <td>1</td>\n",
       "      <td>3</td>\n",
       "      <td>Gilnagh, Miss. Katherine \"Katie\"</td>\n",
       "      <td>female</td>\n",
       "      <td>16.00</td>\n",
       "      <td>0</td>\n",
       "      <td>0</td>\n",
       "      <td>35851</td>\n",
       "      <td>7.7333</td>\n",
       "      <td>NaN</td>\n",
       "      <td>Q</td>\n",
       "      <td>child</td>\n",
       "    </tr>\n",
       "  </tbody>\n",
       "</table>\n",
       "</div>"
      ],
      "text/plain": [
       "             Survived  Pclass                               Name     Sex  \\\n",
       "PassengerId                                                                \n",
       "64                  0       3              Skoog, Master. Harald    male   \n",
       "69                  1       3    Andersson, Miss. Erna Alexandra  female   \n",
       "72                  0       3         Goodwin, Miss. Lillian Amy  female   \n",
       "79                  1       2      Caldwell, Master. Alden Gates    male   \n",
       "85                  1       2                Ilett, Miss. Bertha  female   \n",
       "87                  0       3             Ford, Mr. William Neal    male   \n",
       "112                 0       3               Zabour, Miss. Hileni  female   \n",
       "115                 0       3              Attalah, Miss. Malake  female   \n",
       "120                 0       3  Andersson, Miss. Ellis Anna Maria  female   \n",
       "126                 1       3       Nicola-Yarred, Master. Elias    male   \n",
       "139                 0       3                Osen, Mr. Olaf Elon    male   \n",
       "148                 0       3   Ford, Miss. Robina Maggie \"Ruby\"  female   \n",
       "157                 1       3   Gilnagh, Miss. Katherine \"Katie\"  female   \n",
       "\n",
       "               Age  SibSp  Parch      Ticket     Fare Cabin Embarked   Desc  \n",
       "PassengerId                                                                  \n",
       "64            4.00      3      2      347088  27.9000   NaN        S  child  \n",
       "69           17.00      4      2     3101281   7.9250   NaN        S  child  \n",
       "72           16.00      5      2     CA 2144  46.9000   NaN        S  child  \n",
       "79            0.83      0      2      248738  29.0000   NaN        S  child  \n",
       "85           17.00      0      0  SO/C 14885  10.5000   NaN        S  child  \n",
       "87           16.00      1      3  W./C. 6608  34.3750   NaN        S  child  \n",
       "112          14.50      1      0        2665  14.4542   NaN        C  child  \n",
       "115          17.00      0      0        2627  14.4583   NaN        C  child  \n",
       "120           2.00      4      2      347082  31.2750   NaN        S  child  \n",
       "126          12.00      1      0        2651  11.2417   NaN        C  child  \n",
       "139          16.00      0      0        7534   9.2167   NaN        S  child  \n",
       "148           9.00      2      2  W./C. 6608  34.3750   NaN        S  child  \n",
       "157          16.00      0      0       35851   7.7333   NaN        Q  child  "
      ]
     },
     "execution_count": 36,
     "metadata": {},
     "output_type": "execute_result"
    }
   ],
   "source": [
    "df_new.iloc[12:25]"
   ]
  },
  {
   "cell_type": "markdown",
   "id": "4efc340a",
   "metadata": {
    "papermill": {
     "duration": 0.021644,
     "end_time": "2022-08-08T16:29:32.346957",
     "exception": false,
     "start_time": "2022-08-08T16:29:32.325313",
     "status": "completed"
    },
    "tags": []
   },
   "source": [
    "To check if it has outliers. We use boxplot,\n",
    "In this case, Fare can actually have outliers."
   ]
  },
  {
   "cell_type": "code",
   "execution_count": 37,
   "id": "1e110a0e",
   "metadata": {
    "execution": {
     "iopub.execute_input": "2022-08-08T16:29:32.392495Z",
     "iopub.status.busy": "2022-08-08T16:29:32.391460Z",
     "iopub.status.idle": "2022-08-08T16:29:32.608751Z",
     "shell.execute_reply": "2022-08-08T16:29:32.607885Z"
    },
    "papermill": {
     "duration": 0.242237,
     "end_time": "2022-08-08T16:29:32.610790",
     "exception": false,
     "start_time": "2022-08-08T16:29:32.368553",
     "status": "completed"
    },
    "tags": []
   },
   "outputs": [
    {
     "data": {
      "text/plain": [
       "<AxesSubplot:>"
      ]
     },
     "execution_count": 37,
     "metadata": {},
     "output_type": "execute_result"
    },
    {
     "data": {
      "image/png": "[encoded data removed]",
      "text/plain": [
       "<Figure size 432x288 with 1 Axes>"
      ]
     },
     "metadata": {
      "needs_background": "light"
     },
     "output_type": "display_data"
    }
   ],
   "source": [
    "df_new.boxplot(column='Fare')"
   ]
  },
  {
   "cell_type": "markdown",
   "id": "cb7be94f",
   "metadata": {
    "papermill": {
     "duration": 0.022943,
     "end_time": "2022-08-08T16:29:32.656038",
     "exception": false,
     "start_time": "2022-08-08T16:29:32.633095",
     "status": "completed"
    },
    "tags": []
   },
   "source": [
    " we try to get rid out outliers but avoiding the rows having those large or small values. \n",
    "We will use 1st quartile, 3rd quartile, compute the inter quartile range and then compute lower and upper values.\n",
    "\n",
    "Lower= Q1 -1.5* IQR\n",
    "\n",
    "Upper= Q3 + 1.5* IQR\n"
   ]
  },
  {
   "cell_type": "code",
   "execution_count": 38,
   "id": "f25b6846",
   "metadata": {
    "execution": {
     "iopub.execute_input": "2022-08-08T16:29:32.702427Z",
     "iopub.status.busy": "2022-08-08T16:29:32.701733Z",
     "iopub.status.idle": "2022-08-08T16:29:32.707146Z",
     "shell.execute_reply": "2022-08-08T16:29:32.706232Z"
    },
    "papermill": {
     "duration": 0.030826,
     "end_time": "2022-08-08T16:29:32.709112",
     "exception": false,
     "start_time": "2022-08-08T16:29:32.678286",
     "status": "completed"
    },
    "tags": []
   },
   "outputs": [],
   "source": [
    "def IQR(data,col):\n",
    "    \n",
    "    q1=data[col].quantile(0.25)\n",
    "    q3=data[col].quantile(0.75)\n",
    "    \n",
    "    iqr=q3-q1\n",
    "    lower= q1- 1.5*iqr\n",
    "    upper= q3+ 1.5*iqr\n",
    "    return (lower,upper)\n",
    "\n"
   ]
  },
  {
   "cell_type": "code",
   "execution_count": 39,
   "id": "1429639f",
   "metadata": {
    "execution": {
     "iopub.execute_input": "2022-08-08T16:29:32.755351Z",
     "iopub.status.busy": "2022-08-08T16:29:32.754747Z",
     "iopub.status.idle": "2022-08-08T16:29:32.764389Z",
     "shell.execute_reply": "2022-08-08T16:29:32.762807Z"
    },
    "papermill": {
     "duration": 0.035848,
     "end_time": "2022-08-08T16:29:32.766945",
     "exception": false,
     "start_time": "2022-08-08T16:29:32.731097",
     "status": "completed"
    },
    "tags": []
   },
   "outputs": [
    {
     "name": "stdout",
     "output_type": "stream",
     "text": [
      "lower :  -29.937499999999996 \n",
      "upper :  71.3625\n"
     ]
    }
   ],
   "source": [
    "lower,upper=IQR(df_new,\"Fare\")\n",
    "print(\"lower : \",lower,\"\\nupper : \",upper)"
   ]
  },
  {
   "cell_type": "code",
   "execution_count": 40,
   "id": "eae40849",
   "metadata": {
    "execution": {
     "iopub.execute_input": "2022-08-08T16:29:32.813291Z",
     "iopub.status.busy": "2022-08-08T16:29:32.812857Z",
     "iopub.status.idle": "2022-08-08T16:29:32.819217Z",
     "shell.execute_reply": "2022-08-08T16:29:32.818085Z"
    },
    "papermill": {
     "duration": 0.032046,
     "end_time": "2022-08-08T16:29:32.821245",
     "exception": false,
     "start_time": "2022-08-08T16:29:32.789199",
     "status": "completed"
    },
    "tags": []
   },
   "outputs": [],
   "source": [
    "df_new3=df_new[(df_new['Fare']>lower) & (df_new['Fare']<upper)]"
   ]
  },
  {
   "cell_type": "code",
   "execution_count": 41,
   "id": "49f67c25",
   "metadata": {
    "execution": {
     "iopub.execute_input": "2022-08-08T16:29:32.866914Z",
     "iopub.status.busy": "2022-08-08T16:29:32.866504Z",
     "iopub.status.idle": "2022-08-08T16:29:32.872704Z",
     "shell.execute_reply": "2022-08-08T16:29:32.871747Z"
    },
    "papermill": {
     "duration": 0.031596,
     "end_time": "2022-08-08T16:29:32.874806",
     "exception": false,
     "start_time": "2022-08-08T16:29:32.843210",
     "status": "completed"
    },
    "tags": []
   },
   "outputs": [
    {
     "data": {
      "text/plain": [
       "(714, 12)"
      ]
     },
     "execution_count": 41,
     "metadata": {},
     "output_type": "execute_result"
    }
   ],
   "source": [
    "df_new.shape"
   ]
  },
  {
   "cell_type": "code",
   "execution_count": 42,
   "id": "bc1a2e08",
   "metadata": {
    "execution": {
     "iopub.execute_input": "2022-08-08T16:29:32.920828Z",
     "iopub.status.busy": "2022-08-08T16:29:32.920430Z",
     "iopub.status.idle": "2022-08-08T16:29:32.926725Z",
     "shell.execute_reply": "2022-08-08T16:29:32.925584Z"
    },
    "papermill": {
     "duration": 0.031993,
     "end_time": "2022-08-08T16:29:32.929014",
     "exception": false,
     "start_time": "2022-08-08T16:29:32.897021",
     "status": "completed"
    },
    "tags": []
   },
   "outputs": [
    {
     "data": {
      "text/plain": [
       "(620, 12)"
      ]
     },
     "execution_count": 42,
     "metadata": {},
     "output_type": "execute_result"
    }
   ],
   "source": [
    "df_new3.shape"
   ]
  },
  {
   "cell_type": "markdown",
   "id": "a1c69c01",
   "metadata": {
    "papermill": {
     "duration": 0.022473,
     "end_time": "2022-08-08T16:29:32.974549",
     "exception": false,
     "start_time": "2022-08-08T16:29:32.952076",
     "status": "completed"
    },
    "tags": []
   },
   "source": [
    "By comparing the shape, we see that, 94 rows are not there. I dont think we have any more null values in Fare or Age. LETS CHECK"
   ]
  },
  {
   "cell_type": "code",
   "execution_count": 43,
   "id": "c8270698",
   "metadata": {
    "execution": {
     "iopub.execute_input": "2022-08-08T16:29:33.021050Z",
     "iopub.status.busy": "2022-08-08T16:29:33.020598Z",
     "iopub.status.idle": "2022-08-08T16:29:33.029598Z",
     "shell.execute_reply": "2022-08-08T16:29:33.028808Z"
    },
    "papermill": {
     "duration": 0.034904,
     "end_time": "2022-08-08T16:29:33.031763",
     "exception": false,
     "start_time": "2022-08-08T16:29:32.996859",
     "status": "completed"
    },
    "tags": []
   },
   "outputs": [
    {
     "data": {
      "text/plain": [
       "Survived      0\n",
       "Pclass        0\n",
       "Name          0\n",
       "Sex           0\n",
       "Age           0\n",
       "SibSp         0\n",
       "Parch         0\n",
       "Ticket        0\n",
       "Fare          0\n",
       "Cabin       515\n",
       "Embarked      0\n",
       "Desc          0\n",
       "dtype: int64"
      ]
     },
     "execution_count": 43,
     "metadata": {},
     "output_type": "execute_result"
    }
   ],
   "source": [
    "df_new3.isna().sum()"
   ]
  },
  {
   "cell_type": "markdown",
   "id": "aaa18332",
   "metadata": {
    "papermill": {
     "duration": 0.02211,
     "end_time": "2022-08-08T16:29:33.076575",
     "exception": false,
     "start_time": "2022-08-08T16:29:33.054465",
     "status": "completed"
    },
    "tags": []
   },
   "source": [
    "cabin has 515 null vales for 620 rows so we can just drop it."
   ]
  },
  {
   "cell_type": "code",
   "execution_count": 44,
   "id": "50548a92",
   "metadata": {
    "execution": {
     "iopub.execute_input": "2022-08-08T16:29:33.123106Z",
     "iopub.status.busy": "2022-08-08T16:29:33.122738Z",
     "iopub.status.idle": "2022-08-08T16:29:33.127993Z",
     "shell.execute_reply": "2022-08-08T16:29:33.127086Z"
    },
    "papermill": {
     "duration": 0.031066,
     "end_time": "2022-08-08T16:29:33.129924",
     "exception": false,
     "start_time": "2022-08-08T16:29:33.098858",
     "status": "completed"
    },
    "tags": []
   },
   "outputs": [],
   "source": [
    "df_new3=df_new3.drop(['Cabin'],axis=1)"
   ]
  },
  {
   "cell_type": "code",
   "execution_count": 45,
   "id": "e1c897dc",
   "metadata": {
    "execution": {
     "iopub.execute_input": "2022-08-08T16:29:33.176189Z",
     "iopub.status.busy": "2022-08-08T16:29:33.175831Z",
     "iopub.status.idle": "2022-08-08T16:29:33.200566Z",
     "shell.execute_reply": "2022-08-08T16:29:33.199392Z"
    },
    "papermill": {
     "duration": 0.050735,
     "end_time": "2022-08-08T16:29:33.202782",
     "exception": false,
     "start_time": "2022-08-08T16:29:33.152047",
     "status": "completed"
    },
    "tags": []
   },
   "outputs": [
    {
     "data": {
      "text/html": [
       "<div>\n",
       "<style scoped>\n",
       "    .dataframe tbody tr th:only-of-type {\n",
       "        vertical-align: middle;\n",
       "    }\n",
       "\n",
       "    .dataframe tbody tr th {\n",
       "        vertical-align: top;\n",
       "    }\n",
       "\n",
       "    .dataframe thead th {\n",
       "        text-align: right;\n",
       "    }\n",
       "</style>\n",
       "<table border=\"1\" class=\"dataframe\">\n",
       "  <thead>\n",
       "    <tr style=\"text-align: right;\">\n",
       "      <th></th>\n",
       "      <th>Survived</th>\n",
       "      <th>Pclass</th>\n",
       "      <th>Name</th>\n",
       "      <th>Sex</th>\n",
       "      <th>Age</th>\n",
       "      <th>SibSp</th>\n",
       "      <th>Parch</th>\n",
       "      <th>Ticket</th>\n",
       "      <th>Fare</th>\n",
       "      <th>Embarked</th>\n",
       "      <th>Desc</th>\n",
       "    </tr>\n",
       "    <tr>\n",
       "      <th>PassengerId</th>\n",
       "      <th></th>\n",
       "      <th></th>\n",
       "      <th></th>\n",
       "      <th></th>\n",
       "      <th></th>\n",
       "      <th></th>\n",
       "      <th></th>\n",
       "      <th></th>\n",
       "      <th></th>\n",
       "      <th></th>\n",
       "      <th></th>\n",
       "    </tr>\n",
       "  </thead>\n",
       "  <tbody>\n",
       "    <tr>\n",
       "      <th>1</th>\n",
       "      <td>0</td>\n",
       "      <td>3</td>\n",
       "      <td>Braund, Mr. Owen Harris</td>\n",
       "      <td>male</td>\n",
       "      <td>22.0</td>\n",
       "      <td>1</td>\n",
       "      <td>0</td>\n",
       "      <td>A/5 21171</td>\n",
       "      <td>7.2500</td>\n",
       "      <td>S</td>\n",
       "      <td>adult</td>\n",
       "    </tr>\n",
       "    <tr>\n",
       "      <th>2</th>\n",
       "      <td>1</td>\n",
       "      <td>1</td>\n",
       "      <td>Cumings, Mrs. John Bradley (Florence Briggs Th...</td>\n",
       "      <td>female</td>\n",
       "      <td>38.0</td>\n",
       "      <td>1</td>\n",
       "      <td>0</td>\n",
       "      <td>PC 17599</td>\n",
       "      <td>71.2833</td>\n",
       "      <td>C</td>\n",
       "      <td>adult</td>\n",
       "    </tr>\n",
       "    <tr>\n",
       "      <th>3</th>\n",
       "      <td>1</td>\n",
       "      <td>3</td>\n",
       "      <td>Heikkinen, Miss. Laina</td>\n",
       "      <td>female</td>\n",
       "      <td>26.0</td>\n",
       "      <td>0</td>\n",
       "      <td>0</td>\n",
       "      <td>STON/O2. 3101282</td>\n",
       "      <td>7.9250</td>\n",
       "      <td>S</td>\n",
       "      <td>adult</td>\n",
       "    </tr>\n",
       "    <tr>\n",
       "      <th>4</th>\n",
       "      <td>1</td>\n",
       "      <td>1</td>\n",
       "      <td>Futrelle, Mrs. Jacques Heath (Lily May Peel)</td>\n",
       "      <td>female</td>\n",
       "      <td>35.0</td>\n",
       "      <td>1</td>\n",
       "      <td>0</td>\n",
       "      <td>113803</td>\n",
       "      <td>53.1000</td>\n",
       "      <td>S</td>\n",
       "      <td>adult</td>\n",
       "    </tr>\n",
       "    <tr>\n",
       "      <th>5</th>\n",
       "      <td>0</td>\n",
       "      <td>3</td>\n",
       "      <td>Allen, Mr. William Henry</td>\n",
       "      <td>male</td>\n",
       "      <td>35.0</td>\n",
       "      <td>0</td>\n",
       "      <td>0</td>\n",
       "      <td>373450</td>\n",
       "      <td>8.0500</td>\n",
       "      <td>S</td>\n",
       "      <td>adult</td>\n",
       "    </tr>\n",
       "    <tr>\n",
       "      <th>...</th>\n",
       "      <td>...</td>\n",
       "      <td>...</td>\n",
       "      <td>...</td>\n",
       "      <td>...</td>\n",
       "      <td>...</td>\n",
       "      <td>...</td>\n",
       "      <td>...</td>\n",
       "      <td>...</td>\n",
       "      <td>...</td>\n",
       "      <td>...</td>\n",
       "      <td>...</td>\n",
       "    </tr>\n",
       "    <tr>\n",
       "      <th>886</th>\n",
       "      <td>0</td>\n",
       "      <td>3</td>\n",
       "      <td>Rice, Mrs. William (Margaret Norton)</td>\n",
       "      <td>female</td>\n",
       "      <td>39.0</td>\n",
       "      <td>0</td>\n",
       "      <td>5</td>\n",
       "      <td>382652</td>\n",
       "      <td>29.1250</td>\n",
       "      <td>Q</td>\n",
       "      <td>adult</td>\n",
       "    </tr>\n",
       "    <tr>\n",
       "      <th>887</th>\n",
       "      <td>0</td>\n",
       "      <td>2</td>\n",
       "      <td>Montvila, Rev. Juozas</td>\n",
       "      <td>male</td>\n",
       "      <td>27.0</td>\n",
       "      <td>0</td>\n",
       "      <td>0</td>\n",
       "      <td>211536</td>\n",
       "      <td>13.0000</td>\n",
       "      <td>S</td>\n",
       "      <td>adult</td>\n",
       "    </tr>\n",
       "    <tr>\n",
       "      <th>888</th>\n",
       "      <td>1</td>\n",
       "      <td>1</td>\n",
       "      <td>Graham, Miss. Margaret Edith</td>\n",
       "      <td>female</td>\n",
       "      <td>19.0</td>\n",
       "      <td>0</td>\n",
       "      <td>0</td>\n",
       "      <td>112053</td>\n",
       "      <td>30.0000</td>\n",
       "      <td>S</td>\n",
       "      <td>adult</td>\n",
       "    </tr>\n",
       "    <tr>\n",
       "      <th>890</th>\n",
       "      <td>1</td>\n",
       "      <td>1</td>\n",
       "      <td>Behr, Mr. Karl Howell</td>\n",
       "      <td>male</td>\n",
       "      <td>26.0</td>\n",
       "      <td>0</td>\n",
       "      <td>0</td>\n",
       "      <td>111369</td>\n",
       "      <td>30.0000</td>\n",
       "      <td>C</td>\n",
       "      <td>adult</td>\n",
       "    </tr>\n",
       "    <tr>\n",
       "      <th>891</th>\n",
       "      <td>0</td>\n",
       "      <td>3</td>\n",
       "      <td>Dooley, Mr. Patrick</td>\n",
       "      <td>male</td>\n",
       "      <td>32.0</td>\n",
       "      <td>0</td>\n",
       "      <td>0</td>\n",
       "      <td>370376</td>\n",
       "      <td>7.7500</td>\n",
       "      <td>Q</td>\n",
       "      <td>adult</td>\n",
       "    </tr>\n",
       "  </tbody>\n",
       "</table>\n",
       "<p>620 rows × 11 columns</p>\n",
       "</div>"
      ],
      "text/plain": [
       "             Survived  Pclass  \\\n",
       "PassengerId                     \n",
       "1                   0       3   \n",
       "2                   1       1   \n",
       "3                   1       3   \n",
       "4                   1       1   \n",
       "5                   0       3   \n",
       "...               ...     ...   \n",
       "886                 0       3   \n",
       "887                 0       2   \n",
       "888                 1       1   \n",
       "890                 1       1   \n",
       "891                 0       3   \n",
       "\n",
       "                                                          Name     Sex   Age  \\\n",
       "PassengerId                                                                    \n",
       "1                                      Braund, Mr. Owen Harris    male  22.0   \n",
       "2            Cumings, Mrs. John Bradley (Florence Briggs Th...  female  38.0   \n",
       "3                                       Heikkinen, Miss. Laina  female  26.0   \n",
       "4                 Futrelle, Mrs. Jacques Heath (Lily May Peel)  female  35.0   \n",
       "5                                     Allen, Mr. William Henry    male  35.0   \n",
       "...                                                        ...     ...   ...   \n",
       "886                       Rice, Mrs. William (Margaret Norton)  female  39.0   \n",
       "887                                      Montvila, Rev. Juozas    male  27.0   \n",
       "888                               Graham, Miss. Margaret Edith  female  19.0   \n",
       "890                                      Behr, Mr. Karl Howell    male  26.0   \n",
       "891                                        Dooley, Mr. Patrick    male  32.0   \n",
       "\n",
       "             SibSp  Parch            Ticket     Fare Embarked   Desc  \n",
       "PassengerId                                                           \n",
       "1                1      0         A/5 21171   7.2500        S  adult  \n",
       "2                1      0          PC 17599  71.2833        C  adult  \n",
       "3                0      0  STON/O2. 3101282   7.9250        S  adult  \n",
       "4                1      0            113803  53.1000        S  adult  \n",
       "5                0      0            373450   8.0500        S  adult  \n",
       "...            ...    ...               ...      ...      ...    ...  \n",
       "886              0      5            382652  29.1250        Q  adult  \n",
       "887              0      0            211536  13.0000        S  adult  \n",
       "888              0      0            112053  30.0000        S  adult  \n",
       "890              0      0            111369  30.0000        C  adult  \n",
       "891              0      0            370376   7.7500        Q  adult  \n",
       "\n",
       "[620 rows x 11 columns]"
      ]
     },
     "execution_count": 45,
     "metadata": {},
     "output_type": "execute_result"
    }
   ],
   "source": [
    "df_new3.sort_index()"
   ]
  },
  {
   "cell_type": "code",
   "execution_count": 46,
   "id": "fe53f249",
   "metadata": {
    "execution": {
     "iopub.execute_input": "2022-08-08T16:29:33.274346Z",
     "iopub.status.busy": "2022-08-08T16:29:33.273740Z",
     "iopub.status.idle": "2022-08-08T16:29:33.289494Z",
     "shell.execute_reply": "2022-08-08T16:29:33.288764Z"
    },
    "papermill": {
     "duration": 0.065499,
     "end_time": "2022-08-08T16:29:33.291414",
     "exception": false,
     "start_time": "2022-08-08T16:29:33.225915",
     "status": "completed"
    },
    "tags": []
   },
   "outputs": [
    {
     "data": {
      "text/html": [
       "<div>\n",
       "<style scoped>\n",
       "    .dataframe tbody tr th:only-of-type {\n",
       "        vertical-align: middle;\n",
       "    }\n",
       "\n",
       "    .dataframe tbody tr th {\n",
       "        vertical-align: top;\n",
       "    }\n",
       "\n",
       "    .dataframe thead th {\n",
       "        text-align: right;\n",
       "    }\n",
       "</style>\n",
       "<table border=\"1\" class=\"dataframe\">\n",
       "  <thead>\n",
       "    <tr style=\"text-align: right;\">\n",
       "      <th></th>\n",
       "      <th>Survived</th>\n",
       "      <th>Pclass</th>\n",
       "      <th>Name</th>\n",
       "      <th>Sex</th>\n",
       "      <th>Age</th>\n",
       "      <th>SibSp</th>\n",
       "      <th>Parch</th>\n",
       "      <th>Ticket</th>\n",
       "      <th>Fare</th>\n",
       "      <th>Embarked</th>\n",
       "      <th>Desc</th>\n",
       "    </tr>\n",
       "    <tr>\n",
       "      <th>PassengerId</th>\n",
       "      <th></th>\n",
       "      <th></th>\n",
       "      <th></th>\n",
       "      <th></th>\n",
       "      <th></th>\n",
       "      <th></th>\n",
       "      <th></th>\n",
       "      <th></th>\n",
       "      <th></th>\n",
       "      <th></th>\n",
       "      <th></th>\n",
       "    </tr>\n",
       "  </thead>\n",
       "  <tbody>\n",
       "    <tr>\n",
       "      <th>8</th>\n",
       "      <td>0</td>\n",
       "      <td>3</td>\n",
       "      <td>Palsson, Master. Gosta Leonard</td>\n",
       "      <td>male</td>\n",
       "      <td>2.0</td>\n",
       "      <td>3</td>\n",
       "      <td>1</td>\n",
       "      <td>349909</td>\n",
       "      <td>21.0750</td>\n",
       "      <td>S</td>\n",
       "      <td>child</td>\n",
       "    </tr>\n",
       "    <tr>\n",
       "      <th>10</th>\n",
       "      <td>1</td>\n",
       "      <td>2</td>\n",
       "      <td>Nasser, Mrs. Nicholas (Adele Achem)</td>\n",
       "      <td>female</td>\n",
       "      <td>14.0</td>\n",
       "      <td>1</td>\n",
       "      <td>0</td>\n",
       "      <td>237736</td>\n",
       "      <td>30.0708</td>\n",
       "      <td>C</td>\n",
       "      <td>child</td>\n",
       "    </tr>\n",
       "    <tr>\n",
       "      <th>11</th>\n",
       "      <td>1</td>\n",
       "      <td>3</td>\n",
       "      <td>Sandstrom, Miss. Marguerite Rut</td>\n",
       "      <td>female</td>\n",
       "      <td>4.0</td>\n",
       "      <td>1</td>\n",
       "      <td>1</td>\n",
       "      <td>PP 9549</td>\n",
       "      <td>16.7000</td>\n",
       "      <td>S</td>\n",
       "      <td>child</td>\n",
       "    </tr>\n",
       "    <tr>\n",
       "      <th>15</th>\n",
       "      <td>0</td>\n",
       "      <td>3</td>\n",
       "      <td>Vestrom, Miss. Hulda Amanda Adolfina</td>\n",
       "      <td>female</td>\n",
       "      <td>14.0</td>\n",
       "      <td>0</td>\n",
       "      <td>0</td>\n",
       "      <td>350406</td>\n",
       "      <td>7.8542</td>\n",
       "      <td>S</td>\n",
       "      <td>child</td>\n",
       "    </tr>\n",
       "    <tr>\n",
       "      <th>17</th>\n",
       "      <td>0</td>\n",
       "      <td>3</td>\n",
       "      <td>Rice, Master. Eugene</td>\n",
       "      <td>male</td>\n",
       "      <td>2.0</td>\n",
       "      <td>4</td>\n",
       "      <td>1</td>\n",
       "      <td>382652</td>\n",
       "      <td>29.1250</td>\n",
       "      <td>Q</td>\n",
       "      <td>child</td>\n",
       "    </tr>\n",
       "  </tbody>\n",
       "</table>\n",
       "</div>"
      ],
      "text/plain": [
       "             Survived  Pclass                                  Name     Sex  \\\n",
       "PassengerId                                                                   \n",
       "8                   0       3        Palsson, Master. Gosta Leonard    male   \n",
       "10                  1       2   Nasser, Mrs. Nicholas (Adele Achem)  female   \n",
       "11                  1       3       Sandstrom, Miss. Marguerite Rut  female   \n",
       "15                  0       3  Vestrom, Miss. Hulda Amanda Adolfina  female   \n",
       "17                  0       3                  Rice, Master. Eugene    male   \n",
       "\n",
       "              Age  SibSp  Parch   Ticket     Fare Embarked   Desc  \n",
       "PassengerId                                                        \n",
       "8             2.0      3      1   349909  21.0750        S  child  \n",
       "10           14.0      1      0   237736  30.0708        C  child  \n",
       "11            4.0      1      1  PP 9549  16.7000        S  child  \n",
       "15           14.0      0      0   350406   7.8542        S  child  \n",
       "17            2.0      4      1   382652  29.1250        Q  child  "
      ]
     },
     "execution_count": 46,
     "metadata": {},
     "output_type": "execute_result"
    }
   ],
   "source": [
    "df_new3.head()"
   ]
  },
  {
   "cell_type": "code",
   "execution_count": 47,
   "id": "d8cd6f6a",
   "metadata": {
    "execution": {
     "iopub.execute_input": "2022-08-08T16:29:33.339231Z",
     "iopub.status.busy": "2022-08-08T16:29:33.338855Z",
     "iopub.status.idle": "2022-08-08T16:29:33.346814Z",
     "shell.execute_reply": "2022-08-08T16:29:33.346046Z"
    },
    "papermill": {
     "duration": 0.034152,
     "end_time": "2022-08-08T16:29:33.348633",
     "exception": false,
     "start_time": "2022-08-08T16:29:33.314481",
     "status": "completed"
    },
    "tags": []
   },
   "outputs": [
    {
     "data": {
      "text/plain": [
       "Survived    0\n",
       "Pclass      0\n",
       "Name        0\n",
       "Sex         0\n",
       "Age         0\n",
       "SibSp       0\n",
       "Parch       0\n",
       "Ticket      0\n",
       "Fare        0\n",
       "Embarked    0\n",
       "Desc        0\n",
       "dtype: int64"
      ]
     },
     "execution_count": 47,
     "metadata": {},
     "output_type": "execute_result"
    }
   ],
   "source": [
    "df_new3.isna().sum()"
   ]
  },
  {
   "cell_type": "markdown",
   "id": "18068810",
   "metadata": {
    "papermill": {
     "duration": 0.022698,
     "end_time": "2022-08-08T16:29:33.394397",
     "exception": false,
     "start_time": "2022-08-08T16:29:33.371699",
     "status": "completed"
    },
    "tags": []
   },
   "source": [
    "SUCCESSSFULLYYYY NO NULLL VALUES!!!!"
   ]
  },
  {
   "cell_type": "code",
   "execution_count": 48,
   "id": "903bf8ca",
   "metadata": {
    "execution": {
     "iopub.execute_input": "2022-08-08T16:29:33.442304Z",
     "iopub.status.busy": "2022-08-08T16:29:33.441929Z",
     "iopub.status.idle": "2022-08-08T16:29:33.623574Z",
     "shell.execute_reply": "2022-08-08T16:29:33.622454Z"
    },
    "papermill": {
     "duration": 0.208536,
     "end_time": "2022-08-08T16:29:33.626000",
     "exception": false,
     "start_time": "2022-08-08T16:29:33.417464",
     "status": "completed"
    },
    "tags": []
   },
   "outputs": [
    {
     "data": {
      "text/plain": [
       "<AxesSubplot:>"
      ]
     },
     "execution_count": 48,
     "metadata": {},
     "output_type": "execute_result"
    },
    {
     "data": {
      "image/png": "[encoded data removed]",
      "text/plain": [
       "<Figure size 432x288 with 1 Axes>"
      ]
     },
     "metadata": {
      "needs_background": "light"
     },
     "output_type": "display_data"
    }
   ],
   "source": [
    "df_new3.boxplot(column=\"Fare\")"
   ]
  },
  {
   "cell_type": "code",
   "execution_count": 49,
   "id": "fbcd429e",
   "metadata": {
    "execution": {
     "iopub.execute_input": "2022-08-08T16:29:33.676221Z",
     "iopub.status.busy": "2022-08-08T16:29:33.675843Z",
     "iopub.status.idle": "2022-08-08T16:29:33.918356Z",
     "shell.execute_reply": "2022-08-08T16:29:33.917279Z"
    },
    "papermill": {
     "duration": 0.270428,
     "end_time": "2022-08-08T16:29:33.920886",
     "exception": false,
     "start_time": "2022-08-08T16:29:33.650458",
     "status": "completed"
    },
    "tags": []
   },
   "outputs": [
    {
     "data": {
      "text/plain": [
       "<AxesSubplot:xlabel='PassengerId', ylabel='Fare'>"
      ]
     },
     "execution_count": 49,
     "metadata": {},
     "output_type": "execute_result"
    },
    {
     "data": {
      "image/png": "[encoded data removed]",
      "text/plain": [
       "<Figure size 432x288 with 1 Axes>"
      ]
     },
     "metadata": {
      "needs_background": "light"
     },
     "output_type": "display_data"
    }
   ],
   "source": [
    "sns.lineplot(data=df_new3['Fare'])"
   ]
  },
  {
   "cell_type": "code",
   "execution_count": 50,
   "id": "e9b1eee6",
   "metadata": {
    "execution": {
     "iopub.execute_input": "2022-08-08T16:29:33.973979Z",
     "iopub.status.busy": "2022-08-08T16:29:33.973562Z",
     "iopub.status.idle": "2022-08-08T16:29:34.149853Z",
     "shell.execute_reply": "2022-08-08T16:29:34.148586Z"
    },
    "papermill": {
     "duration": 0.20618,
     "end_time": "2022-08-08T16:29:34.152161",
     "exception": false,
     "start_time": "2022-08-08T16:29:33.945981",
     "status": "completed"
    },
    "tags": []
   },
   "outputs": [
    {
     "data": {
      "text/plain": [
       "<AxesSubplot:xlabel='count', ylabel='Desc'>"
      ]
     },
     "execution_count": 50,
     "metadata": {},
     "output_type": "execute_result"
    },
    {
     "data": {
      "image/png": "[encoded data removed]",
      "text/plain": [
       "<Figure size 432x288 with 1 Axes>"
      ]
     },
     "metadata": {
      "needs_background": "light"
     },
     "output_type": "display_data"
    }
   ],
   "source": [
    "sns.countplot(y='Desc',data=df_new3,palette='Set2')"
   ]
  },
  {
   "cell_type": "code",
   "execution_count": 51,
   "id": "cb294d32",
   "metadata": {
    "execution": {
     "iopub.execute_input": "2022-08-08T16:29:34.205206Z",
     "iopub.status.busy": "2022-08-08T16:29:34.203998Z",
     "iopub.status.idle": "2022-08-08T16:29:34.214599Z",
     "shell.execute_reply": "2022-08-08T16:29:34.213624Z"
    },
    "papermill": {
     "duration": 0.039246,
     "end_time": "2022-08-08T16:29:34.217059",
     "exception": false,
     "start_time": "2022-08-08T16:29:34.177813",
     "status": "completed"
    },
    "tags": []
   },
   "outputs": [
    {
     "data": {
      "text/plain": [
       "Desc\n",
       "adult     436\n",
       "child     104\n",
       "oldage     80\n",
       "dtype: int64"
      ]
     },
     "execution_count": 51,
     "metadata": {},
     "output_type": "execute_result"
    }
   ],
   "source": [
    "df_new3.value_counts(\"Desc\")"
   ]
  },
  {
   "cell_type": "code",
   "execution_count": 52,
   "id": "47df622c",
   "metadata": {
    "execution": {
     "iopub.execute_input": "2022-08-08T16:29:34.270104Z",
     "iopub.status.busy": "2022-08-08T16:29:34.269249Z",
     "iopub.status.idle": "2022-08-08T16:29:34.419033Z",
     "shell.execute_reply": "2022-08-08T16:29:34.417876Z"
    },
    "papermill": {
     "duration": 0.178381,
     "end_time": "2022-08-08T16:29:34.421648",
     "exception": false,
     "start_time": "2022-08-08T16:29:34.243267",
     "status": "completed"
    },
    "tags": []
   },
   "outputs": [
    {
     "data": {
      "text/plain": [
       "<AxesSubplot:xlabel='count', ylabel='SibSp'>"
      ]
     },
     "execution_count": 52,
     "metadata": {},
     "output_type": "execute_result"
    },
    {
     "data": {
      "image/png": "[encoded data removed]",
      "text/plain": [
       "<Figure size 432x288 with 1 Axes>"
      ]
     },
     "metadata": {
      "needs_background": "light"
     },
     "output_type": "display_data"
    }
   ],
   "source": [
    "sns.countplot(y='SibSp',data=df_new3,palette='Set2')"
   ]
  },
  {
   "cell_type": "code",
   "execution_count": 53,
   "id": "726f79f4",
   "metadata": {
    "execution": {
     "iopub.execute_input": "2022-08-08T16:29:34.474920Z",
     "iopub.status.busy": "2022-08-08T16:29:34.473908Z",
     "iopub.status.idle": "2022-08-08T16:29:34.609625Z",
     "shell.execute_reply": "2022-08-08T16:29:34.608471Z"
    },
    "papermill": {
     "duration": 0.165402,
     "end_time": "2022-08-08T16:29:34.612522",
     "exception": false,
     "start_time": "2022-08-08T16:29:34.447120",
     "status": "completed"
    },
    "tags": []
   },
   "outputs": [
    {
     "data": {
      "text/plain": [
       "<AxesSubplot:xlabel='count', ylabel='Parch'>"
      ]
     },
     "execution_count": 53,
     "metadata": {},
     "output_type": "execute_result"
    },
    {
     "data": {
      "image/png": "[encoded data removed]",
      "text/plain": [
       "<Figure size 432x288 with 1 Axes>"
      ]
     },
     "metadata": {
      "needs_background": "light"
     },
     "output_type": "display_data"
    }
   ],
   "source": [
    "sns.countplot(y='Parch',data=df_new3,palette='Set2')"
   ]
  },
  {
   "cell_type": "markdown",
   "id": "f7ad58f8",
   "metadata": {
    "papermill": {
     "duration": 0.025359,
     "end_time": "2022-08-08T16:29:34.664324",
     "exception": false,
     "start_time": "2022-08-08T16:29:34.638965",
     "status": "completed"
    },
    "tags": []
   },
   "source": [
    "400+ of them travelled without family"
   ]
  },
  {
   "cell_type": "code",
   "execution_count": 54,
   "id": "73df090c",
   "metadata": {
    "execution": {
     "iopub.execute_input": "2022-08-08T16:29:34.717322Z",
     "iopub.status.busy": "2022-08-08T16:29:34.716167Z",
     "iopub.status.idle": "2022-08-08T16:29:34.725165Z",
     "shell.execute_reply": "2022-08-08T16:29:34.724322Z"
    },
    "papermill": {
     "duration": 0.037731,
     "end_time": "2022-08-08T16:29:34.727359",
     "exception": false,
     "start_time": "2022-08-08T16:29:34.689628",
     "status": "completed"
    },
    "tags": []
   },
   "outputs": [
    {
     "data": {
      "text/plain": [
       "Parch\n",
       "0    465\n",
       "1     91\n",
       "2     50\n",
       "3      5\n",
       "5      5\n",
       "4      3\n",
       "6      1\n",
       "dtype: int64"
      ]
     },
     "execution_count": 54,
     "metadata": {},
     "output_type": "execute_result"
    }
   ],
   "source": [
    "df_new3.value_counts(\"Parch\")"
   ]
  },
  {
   "cell_type": "markdown",
   "id": "01b29ad8",
   "metadata": {
    "papermill": {
     "duration": 0.025114,
     "end_time": "2022-08-08T16:29:34.777785",
     "exception": false,
     "start_time": "2022-08-08T16:29:34.752671",
     "status": "completed"
    },
    "tags": []
   },
   "source": []
  }
 ],
 "metadata": {
  "kernelspec": {
   "display_name": "Python 3",
   "language": "python",
   "name": "python3"
  },
  "language_info": {
   "codemirror_mode": {
    "name": "ipython",
    "version": 3
   },
   "file_extension": ".py",
   "mimetype": "text/x-python",
   "name": "python",
   "nbconvert_exporter": "python",
   "pygments_lexer": "ipython3",
   "version": "3.7.12"
  },
  "papermill": {
   "default_parameters": {},
   "duration": 16.393404,
   "end_time": "2022-08-08T16:29:35.524462",
   "environment_variables": {},
   "exception": null,
   "input_path": "__notebook__.ipynb",
   "output_path": "__notebook__.ipynb",
   "parameters": {},
   "start_time": "2022-08-08T16:29:19.131058",
   "version": "2.3.4"
  }
 },
 "nbformat": 4,
 "nbformat_minor": 5
}
